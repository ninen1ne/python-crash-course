{
 "cells": [
  {
   "cell_type": "markdown",
   "id": "b170e536-5e5d-45ff-b292-2b0d6fbba2bf",
   "metadata": {},
   "source": [
    "เช็คว่า syntax ของการตั้งชื่อตัวแปรถูกต้องหรือไม่"
   ]
  },
  {
   "cell_type": "code",
   "execution_count": 1,
   "id": "3434758e-3da6-4d38-a11c-c809471f0c20",
   "metadata": {},
   "outputs": [],
   "source": [
    "name = 'ชื่อของคุณ' # ได้"
   ]
  },
  {
   "cell_type": "code",
   "execution_count": 2,
   "id": "d5abbf15-e5eb-488c-8d59-24d45b324ee8",
   "metadata": {},
   "outputs": [],
   "source": [
    "_name = 'ชื่อของคุณ' # ได้"
   ]
  },
  {
   "cell_type": "code",
   "execution_count": 3,
   "id": "72c54d7d-95aa-40c5-8aed-bfdce7cc8bee",
   "metadata": {},
   "outputs": [],
   "source": [
    "name1 = 'ชื่อของคุณ' # ได้"
   ]
  },
  {
   "cell_type": "code",
   "execution_count": 4,
   "id": "8de44925-d72d-47f5-a891-628ddcec9f45",
   "metadata": {},
   "outputs": [
    {
     "ename": "SyntaxError",
     "evalue": "invalid syntax (812690192.py, line 1)",
     "output_type": "error",
     "traceback": [
      "\u001b[1;36m  Cell \u001b[1;32mIn[4], line 1\u001b[1;36m\u001b[0m\n\u001b[1;33m    name! = 'ชื่อของคุณ' # ไม่ได้มีอักขระพิเศษ\u001b[0m\n\u001b[1;37m        ^\u001b[0m\n\u001b[1;31mSyntaxError\u001b[0m\u001b[1;31m:\u001b[0m invalid syntax\n"
     ]
    }
   ],
   "source": [
    "name! = 'ชื่อของคุณ' # ไม่ได้มีอักขระพิเศษ"
   ]
  },
  {
   "cell_type": "code",
   "execution_count": 5,
   "id": "c330a452-9f0f-4c74-ba35-cea5ae9e6a68",
   "metadata": {},
   "outputs": [
    {
     "name": "stderr",
     "output_type": "stream",
     "text": [
      "'name' is not recognized as an internal or external command,\n",
      "operable program or batch file.\n"
     ]
    }
   ],
   "source": [
    "!name = 'ชื่อของคุณ' # ไม่ได้เพราะ 1.หน้าสุดมีได้แค่ตัวอักษรและ underscore เท่านั้น 2.มีอักขระพิเศษในชื่อตัวแปร"
   ]
  },
  {
   "cell_type": "code",
   "execution_count": 6,
   "id": "043e80a4-26b9-430c-876f-95574cfcef09",
   "metadata": {},
   "outputs": [],
   "source": [
    "number = 20 # ได้"
   ]
  },
  {
   "cell_type": "code",
   "execution_count": 7,
   "id": "02a0e7a2-bea8-4d97-8a7b-21febf5a452f",
   "metadata": {},
   "outputs": [],
   "source": [
    "_number = 20 # ได้"
   ]
  },
  {
   "cell_type": "code",
   "execution_count": 8,
   "id": "cf5d2d7f-5be0-4cf6-bac7-1a779bfb73a7",
   "metadata": {},
   "outputs": [
    {
     "ename": "SyntaxError",
     "evalue": "invalid syntax. Maybe you meant '==' or ':=' instead of '='? (229051241.py, line 1)",
     "output_type": "error",
     "traceback": [
      "\u001b[1;36m  Cell \u001b[1;32mIn[8], line 1\u001b[1;36m\u001b[0m\n\u001b[1;33m    @number = 20 # ไม่ได้เพราะ 1.มีอักขระพิเศษ 2.หน้าสุดมีได้แค่ตัวอักษรและ underscore เท่านั้น\u001b[0m\n\u001b[1;37m     ^\u001b[0m\n\u001b[1;31mSyntaxError\u001b[0m\u001b[1;31m:\u001b[0m invalid syntax. Maybe you meant '==' or ':=' instead of '='?\n"
     ]
    }
   ],
   "source": [
    "@number = 20 # ไม่ได้เพราะ 1.มีอักขระพิเศษ 2.หน้าสุดมีได้แค่ตัวอักษรและ underscore เท่านั้น"
   ]
  },
  {
   "cell_type": "code",
   "execution_count": 9,
   "id": "ff675255-6e76-419e-ae50-ad95dcdcc814",
   "metadata": {},
   "outputs": [
    {
     "ename": "SyntaxError",
     "evalue": "invalid syntax (697352765.py, line 1)",
     "output_type": "error",
     "traceback": [
      "\u001b[1;36m  Cell \u001b[1;32mIn[9], line 1\u001b[1;36m\u001b[0m\n\u001b[1;33m    number@ = 20 # ไม่ได้เพราะ มีอักขระพิเศษ\u001b[0m\n\u001b[1;37m            ^\u001b[0m\n\u001b[1;31mSyntaxError\u001b[0m\u001b[1;31m:\u001b[0m invalid syntax\n"
     ]
    }
   ],
   "source": [
    "number@ = 20 # ไม่ได้เพราะ มีอักขระพิเศษ"
   ]
  },
  {
   "cell_type": "code",
   "execution_count": null,
   "id": "b0a35762-042a-4cf6-9ec1-3570b2ba26a2",
   "metadata": {},
   "outputs": [],
   "source": [
    "a5 = 20 # ได้"
   ]
  },
  {
   "cell_type": "code",
   "execution_count": 10,
   "id": "620805f7-7c85-4571-9f0b-a25299021cd0",
   "metadata": {},
   "outputs": [
    {
     "ename": "SyntaxError",
     "evalue": "invalid decimal literal (1909667178.py, line 1)",
     "output_type": "error",
     "traceback": [
      "\u001b[1;36m  Cell \u001b[1;32mIn[10], line 1\u001b[1;36m\u001b[0m\n\u001b[1;33m    5a = 20 # ไม่ได้เพราะเลขอยู่หน้าสุดของชื่อตัวแปรไม่ได้\u001b[0m\n\u001b[1;37m    ^\u001b[0m\n\u001b[1;31mSyntaxError\u001b[0m\u001b[1;31m:\u001b[0m invalid decimal literal\n"
     ]
    }
   ],
   "source": [
    "5a = 20 # ไม่ได้เพราะเลขอยู่หน้าสุดของชื่อตัวแปรไม่ได้"
   ]
  },
  {
   "cell_type": "code",
   "execution_count": null,
   "id": "f31adfbe-9f01-4359-807d-bad381e59fec",
   "metadata": {},
   "outputs": [],
   "source": [
    "favorite_food = 'Hamburger' # ได้"
   ]
  },
  {
   "cell_type": "code",
   "execution_count": null,
   "id": "193030e0-31f0-4e32-9bb2-11900c8903c9",
   "metadata": {},
   "outputs": [],
   "source": [
    "FavoriteFood = 'Hamburger' # ได้"
   ]
  },
  {
   "cell_type": "code",
   "execution_count": null,
   "id": "01d38376-2496-4dae-91d5-3f49430c8377",
   "metadata": {},
   "outputs": [],
   "source": [
    "favorite food = 'Hamburger' # ไม่ได้ ระหว่างชื่อตัวเเปรเว้นว่างไม่ได้ "
   ]
  },
  {
   "cell_type": "code",
   "execution_count": null,
   "id": "f5d0665c-2966-4711-86e0-454c38e7d184",
   "metadata": {},
   "outputs": [],
   "source": [
    "if = 7 # ไม่ได้ reserved word"
   ]
  },
  {
   "cell_type": "code",
   "execution_count": null,
   "id": "cf74ed15-6cca-432d-8ac3-921d441655d6",
   "metadata": {},
   "outputs": [],
   "source": [
    "else = 5 ไม่ได้ reserved word"
   ]
  },
  {
   "cell_type": "code",
   "execution_count": null,
   "id": "3f14d1c3-f9b4-494e-8720-312bcc9b0141",
   "metadata": {},
   "outputs": [],
   "source": [
    "for = 6 # ไม่ได้ reserved word"
   ]
  },
  {
   "cell_type": "code",
   "execution_count": null,
   "id": "df30c585-c967-4986-ad78-036626801c01",
   "metadata": {},
   "outputs": [],
   "source": [
    "a = 5, b = 6, c = 7 # ไม่ได้ต้องใช้ semicolon เพื่อบอกว่าจบบรรทัดเเล้ว"
   ]
  },
  {
   "cell_type": "code",
   "execution_count": null,
   "id": "b4d468d6-de89-4e54-a6b4-dc9c40435933",
   "metadata": {},
   "outputs": [],
   "source": [
    "a, b, c = 5, 6, 7 # ได้"
   ]
  },
  {
   "cell_type": "code",
   "execution_count": null,
   "id": "9781bb28-01f9-4a97-a922-f2a229b2d8f8",
   "metadata": {},
   "outputs": [],
   "source": [
    "a = 5; b = 6; c = 7 # ได้"
   ]
  },
  {
   "cell_type": "code",
   "execution_count": null,
   "id": "22146b73-2f8e-4c0d-b8ac-83c7856ed51a",
   "metadata": {},
   "outputs": [],
   "source": []
  }
 ],
 "metadata": {
  "kernelspec": {
   "display_name": "Python 3 (ipykernel)",
   "language": "python",
   "name": "python3"
  },
  "language_info": {
   "codemirror_mode": {
    "name": "ipython",
    "version": 3
   },
   "file_extension": ".py",
   "mimetype": "text/x-python",
   "name": "python",
   "nbconvert_exporter": "python",
   "pygments_lexer": "ipython3",
   "version": "3.11.7"
  }
 },
 "nbformat": 4,
 "nbformat_minor": 5
}
