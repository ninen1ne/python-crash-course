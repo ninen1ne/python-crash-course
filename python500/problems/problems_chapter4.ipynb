{
 "cells": [
  {
   "cell_type": "markdown",
   "id": "42cce882-eacc-400f-920b-99d5844b26e3",
   "metadata": {},
   "source": [
    "# Numerics-----------------------------------------"
   ]
  },
  {
   "cell_type": "code",
   "execution_count": 1,
   "id": "35f70098-ce17-4ec1-b04e-56488a368b24",
   "metadata": {},
   "outputs": [
    {
     "name": "stdout",
     "output_type": "stream",
     "text": [
      "value of numeric1 is 5\n",
      "type of numeric1 is <class 'int'>\n"
     ]
    }
   ],
   "source": [
    "numeric1 = 5\n",
    "\n",
    "print('value of numeric1 is', numeric1)\n",
    "print('type of numeric1 is', type(numeric1) )"
   ]
  },
  {
   "cell_type": "code",
   "execution_count": 2,
   "id": "62edad7b-cad8-448b-903b-77ff05690de4",
   "metadata": {},
   "outputs": [
    {
     "name": "stdout",
     "output_type": "stream",
     "text": [
      "value of numeric1 is -3\n",
      "type of numeric2 is <class 'int'>\n"
     ]
    }
   ],
   "source": [
    "numeric2 = -3 \n",
    "\n",
    "print('value of numeric1 is', numeric2)\n",
    "print('type of numeric2 is', type(numeric2))"
   ]
  },
  {
   "cell_type": "code",
   "execution_count": 3,
   "id": "bcc17863-51ed-431a-b7f5-27761929206f",
   "metadata": {},
   "outputs": [
    {
     "name": "stdout",
     "output_type": "stream",
     "text": [
      "value of numeric3 is 0\n",
      "type of numeric3 is <class 'int'>\n"
     ]
    }
   ],
   "source": [
    "numeric3 = 0 \n",
    "\n",
    "print('value of numeric3 is', numeric3)\n",
    "print('type of numeric3 is', type(numeric3))"
   ]
  },
  {
   "cell_type": "code",
   "execution_count": 4,
   "id": "63bdcd26-5e0a-4efa-ba69-93a68797fc67",
   "metadata": {},
   "outputs": [
    {
     "name": "stdin",
     "output_type": "stream",
     "text": [
      "Enter your number (int):  1\n"
     ]
    },
    {
     "name": "stdout",
     "output_type": "stream",
     "text": [
      "value of num1 is 1\n",
      "type of num1 is <class 'int'>\n"
     ]
    }
   ],
   "source": [
    "num1 = int(input('Enter your number (int): '))\n",
    "'''\n",
    "Or num1 = input('Enter your number: ')\n",
    "   num1 = int(num1)\n",
    "'''\n",
    "\n",
    "print('value of num1 is', num1)\n",
    "print('type of num1 is', type(num1))"
   ]
  },
  {
   "cell_type": "code",
   "execution_count": 5,
   "id": "7c07b465-8627-49b0-a720-3ebdfa168ca4",
   "metadata": {},
   "outputs": [
    {
     "name": "stdout",
     "output_type": "stream",
     "text": [
      "value of numeric1 is 5.0\n",
      "type of numeric1 is <class 'float'>\n"
     ]
    }
   ],
   "source": [
    "numeric1 = 5.0\n",
    "\n",
    "print('value of numeric1 is', numeric1)\n",
    "print('type of numeric1 is', type(numeric1) )"
   ]
  },
  {
   "cell_type": "code",
   "execution_count": 6,
   "id": "8a6258ae-9302-498b-80c5-d353e3202216",
   "metadata": {},
   "outputs": [
    {
     "name": "stdout",
     "output_type": "stream",
     "text": [
      "value of numeric2 is -3.1\n",
      "type of numeric2 is <class 'float'>\n"
     ]
    }
   ],
   "source": [
    "numeric2 = -3.1\n",
    "\n",
    "print('value of numeric2 is', numeric2)\n",
    "print('type of numeric2 is',type(numeric2))"
   ]
  },
  {
   "cell_type": "code",
   "execution_count": 7,
   "id": "a491a0fd-8a36-4d16-a051-a99d5f0d5819",
   "metadata": {},
   "outputs": [
    {
     "name": "stdout",
     "output_type": "stream",
     "text": [
      "value of numeric3 is 0.0\n",
      "type of numberic3 is <class 'float'>\n"
     ]
    }
   ],
   "source": [
    "numeric3 = 0.0\n",
    "\n",
    "print('value of numeric3 is', numeric3)\n",
    "print('type of numberic3 is', type(numeric3))"
   ]
  },
  {
   "cell_type": "code",
   "execution_count": 8,
   "id": "12bc3546-ac86-4279-b167-8322975255df",
   "metadata": {},
   "outputs": [
    {
     "name": "stdin",
     "output_type": "stream",
     "text": [
      "Enter your number (real number):  1\n"
     ]
    },
    {
     "name": "stdout",
     "output_type": "stream",
     "text": [
      "value of real_num is 1.0\n",
      "type of real_num is <class 'float'>\n"
     ]
    }
   ],
   "source": [
    "real_num = float(input('Enter your number (real number): '))\n",
    "\n",
    "print('value of real_num is', real_num)\n",
    "print('type of real_num is', type(real_num))"
   ]
  },
  {
   "cell_type": "code",
   "execution_count": 9,
   "id": "64e3fbfd-eb4b-40c9-b45a-d5f84292271f",
   "metadata": {},
   "outputs": [
    {
     "name": "stdin",
     "output_type": "stream",
     "text": [
      "Enter your first number (int):  1\n",
      "Enter your second number (int):  1\n"
     ]
    },
    {
     "name": "stdout",
     "output_type": "stream",
     "text": [
      "Sum of 2 integer is: 2 \n",
      "type of result is: <class 'int'>\n",
      "Minus of 2 integer is: 0 \n",
      "type of result is: <class 'int'>\n",
      "Multiplication of 2 integer is: 1 \n",
      "type of result is: <class 'int'>\n",
      "Division of 2 integer is: 1.0 \n",
      "type of result is: <class 'float'>\n"
     ]
    }
   ],
   "source": [
    "int1 = int(input('Enter your first number (int): '))\n",
    "int2 = int(input('Enter your second number (int): '))\n",
    "\n",
    "sum = int1 + int2 \n",
    "minus = int1 - int2 \n",
    "multiplication = int1 * int2 \n",
    "division = int1 / int2\n",
    "print('Sum of 2 integer is:',sum, '\\ntype of result is:', type(sum))\n",
    "print('Minus of 2 integer is:',minus, '\\ntype of result is:', type(minus))\n",
    "print('Multiplication of 2 integer is:',multiplication, '\\ntype of result is:', type(multiplication))\n",
    "print('Division of 2 integer is:',division, '\\ntype of result is:', type(division))"
   ]
  },
  {
   "cell_type": "code",
   "execution_count": 10,
   "id": "d9ab20ad-2881-4ea4-b378-73fdcc299e55",
   "metadata": {},
   "outputs": [
    {
     "name": "stdin",
     "output_type": "stream",
     "text": [
      "Enter your first number (real_number):  1\n",
      "Enter your second number (real_number):  1\n"
     ]
    },
    {
     "name": "stdout",
     "output_type": "stream",
     "text": [
      "Sum of 2 real_number is: 2.0 \n",
      "type of result is: <class 'float'>\n",
      "Minus of 2 real_number is: 0.0 \n",
      "type of result is: <class 'float'>\n",
      "Multiplication of 2 real_number is: 1.0 \n",
      "type of result is: <class 'float'>\n",
      "Division of 2 real_number is: 1.0 \n",
      "type of result is: <class 'float'>\n"
     ]
    }
   ],
   "source": [
    "float1 = float(input('Enter your first number (real_number): '))\n",
    "float2 = float(input('Enter your second number (real_number): '))\n",
    "\n",
    "sum = float1 + float2 \n",
    "minus = float1 - float2 \n",
    "multiplication = float1 * float2 \n",
    "division = float1 / float2\n",
    "\n",
    "print('Sum of 2 real_number is:',sum, '\\ntype of result is:', type(sum))\n",
    "print('Minus of 2 real_number is:',minus, '\\ntype of result is:', type(minus))\n",
    "print('Multiplication of 2 real_number is:',multiplication, '\\ntype of result is:', type(multiplication))\n",
    "print('Division of 2 real_number is:',division, '\\ntype of result is:', type(division))"
   ]
  },
  {
   "cell_type": "code",
   "execution_count": 11,
   "id": "a7d806b6-7ded-437c-95e6-a5f80007fddc",
   "metadata": {},
   "outputs": [
    {
     "name": "stdin",
     "output_type": "stream",
     "text": [
      "Enter your number (integer):  1\n",
      "Enter your number (real_number):  1\n"
     ]
    },
    {
     "name": "stdout",
     "output_type": "stream",
     "text": [
      "\n",
      "result of sum: 2.0\n",
      "type of the result is: <class 'float'>\n",
      "\n",
      "result of minus: 0.0\n",
      "type of the result is: <class 'float'>\n",
      "\n",
      "result of multiplication: 1.0\n",
      "type of the result is: <class 'float'>\n",
      "\n",
      "result of division: 1.0\n",
      "type of the result is: <class 'float'>\n"
     ]
    }
   ],
   "source": [
    "int1 = int(input('Enter your number (integer): '))\n",
    "float1 = float(input('Enter your number (real_number): '))\n",
    "\n",
    "sum = int1 + float1 \n",
    "minus = int1 - float1\n",
    "multiplication = int1 * float1 \n",
    "division = int1 / float1\n",
    "\n",
    "print('\\nresult of sum:', sum)\n",
    "print('type of the result is:', type(sum))\n",
    "print('\\nresult of minus:', minus)\n",
    "print('type of the result is:', type(minus))\n",
    "print('\\nresult of multiplication:', multiplication)\n",
    "print('type of the result is:', type(multiplication))\n",
    "print('\\nresult of division:', division)\n",
    "print('type of the result is:', type(division))\n"
   ]
  },
  {
   "cell_type": "code",
   "execution_count": 12,
   "id": "b0e0b7c5-08f2-41d7-83e1-427b01e8f4d4",
   "metadata": {},
   "outputs": [
    {
     "name": "stdout",
     "output_type": "stream",
     "text": [
      "True\n",
      "<class 'bool'>\n"
     ]
    }
   ],
   "source": [
    "logic1 = True \n",
    "\n",
    "print(logic1)\n",
    "print(type(logic1))"
   ]
  },
  {
   "cell_type": "code",
   "execution_count": 13,
   "id": "d7d1aad4-3d13-4b5a-a04a-3f2de5acab69",
   "metadata": {},
   "outputs": [
    {
     "name": "stdout",
     "output_type": "stream",
     "text": [
      "False\n",
      "<class 'bool'>\n"
     ]
    }
   ],
   "source": [
    "logic2 = False\n",
    "\n",
    "print(logic2)\n",
    "print(type(logic2))"
   ]
  },
  {
   "cell_type": "code",
   "execution_count": 14,
   "id": "d61748f1-a46b-472c-b5ba-6382cad79c98",
   "metadata": {},
   "outputs": [
    {
     "name": "stdout",
     "output_type": "stream",
     "text": [
      "False\n"
     ]
    }
   ],
   "source": [
    "logic1 = True \n",
    "logic2 = False \n",
    "\n",
    "print(logic1 & logic2 )"
   ]
  },
  {
   "cell_type": "code",
   "execution_count": 15,
   "id": "c54e8722-709f-452d-9dd6-02caf9538d35",
   "metadata": {},
   "outputs": [
    {
     "name": "stdout",
     "output_type": "stream",
     "text": [
      "True\n"
     ]
    }
   ],
   "source": [
    "logic1 = True\n",
    "logic2 = False \n",
    "\n",
    "print(logic1 | logic2)"
   ]
  },
  {
   "cell_type": "code",
   "execution_count": 16,
   "id": "db584ea5-c0da-4f36-b638-c5731e392ada",
   "metadata": {},
   "outputs": [],
   "source": [
    "complex1 = 1 + 2j"
   ]
  },
  {
   "cell_type": "code",
   "execution_count": 17,
   "id": "73dff191-e1a9-4e16-9ddf-06e9a30873ad",
   "metadata": {},
   "outputs": [
    {
     "name": "stdout",
     "output_type": "stream",
     "text": [
      "value of complex1 is: (1+2j)\n",
      "type of complex1 is: <class 'complex'>\n"
     ]
    }
   ],
   "source": [
    "print('value of complex1 is:', complex1)\n",
    "print('type of complex1 is:', type(complex1))"
   ]
  },
  {
   "cell_type": "code",
   "execution_count": 18,
   "id": "aa73b4dd-277a-4603-a476-21989be9d6fc",
   "metadata": {},
   "outputs": [],
   "source": [
    "complex1 = 1 + 2j "
   ]
  },
  {
   "cell_type": "code",
   "execution_count": 19,
   "id": "43ed774f-530a-4c53-82ea-b980d133c725",
   "metadata": {},
   "outputs": [
    {
     "data": {
      "text/plain": [
       "1.0"
      ]
     },
     "execution_count": 19,
     "metadata": {},
     "output_type": "execute_result"
    }
   ],
   "source": [
    "complex1.real"
   ]
  },
  {
   "cell_type": "code",
   "execution_count": 20,
   "id": "5b08d5cb-0f6a-4734-a0b7-fd4bbb32653c",
   "metadata": {},
   "outputs": [],
   "source": [
    "complex1 = 1 + 2j"
   ]
  },
  {
   "cell_type": "code",
   "execution_count": 21,
   "id": "cb093a9d-67e1-460b-8b35-f61221a12267",
   "metadata": {},
   "outputs": [
    {
     "data": {
      "text/plain": [
       "2.0"
      ]
     },
     "execution_count": 21,
     "metadata": {},
     "output_type": "execute_result"
    }
   ],
   "source": [
    "complex1.imag"
   ]
  },
  {
   "cell_type": "markdown",
   "id": "3ad09536-9764-4d85-ba66-c507c3bf8d99",
   "metadata": {},
   "source": [
    "# String-------------------------------------"
   ]
  },
  {
   "cell_type": "code",
   "execution_count": 22,
   "id": "8b8c424b-1915-44cd-8c44-a763fc3ea0d2",
   "metadata": {},
   "outputs": [
    {
     "name": "stdout",
     "output_type": "stream",
     "text": [
      "Python | <class 'str'>\n"
     ]
    }
   ],
   "source": [
    "# 19\n",
    "string1 = 'Python'\n",
    "\n",
    "print(string1,'|', type(string1))"
   ]
  },
  {
   "cell_type": "code",
   "execution_count": 23,
   "id": "d4ccca29-0bf5-4631-ba1c-9ae8fa6098ba",
   "metadata": {},
   "outputs": [
    {
     "name": "stdout",
     "output_type": "stream",
     "text": [
      "P\n"
     ]
    }
   ],
   "source": [
    "# 20\n",
    "string1 = 'Python'\n",
    "\n",
    "print(string1[0])"
   ]
  },
  {
   "cell_type": "code",
   "execution_count": 24,
   "id": "0b2cf893-a70e-418c-b388-e5aa64f13126",
   "metadata": {},
   "outputs": [
    {
     "name": "stdout",
     "output_type": "stream",
     "text": [
      "y\n"
     ]
    }
   ],
   "source": [
    "# 21 \n",
    "string1 = 'Python'\n",
    "\n",
    "print(string1[1])"
   ]
  },
  {
   "cell_type": "code",
   "execution_count": 25,
   "id": "514d45ff-0fef-4e01-8984-e12aa82f8657",
   "metadata": {},
   "outputs": [
    {
     "name": "stdout",
     "output_type": "stream",
     "text": [
      "n\n"
     ]
    }
   ],
   "source": [
    "# 22\n",
    "string1 = 'Python'\n",
    "\n",
    "print(string1[-1])"
   ]
  },
  {
   "cell_type": "code",
   "execution_count": 26,
   "id": "8313e7f5-6e38-4f18-ae30-85b80ac4778d",
   "metadata": {
    "jp-MarkdownHeadingCollapsed": true
   },
   "outputs": [
    {
     "name": "stdout",
     "output_type": "stream",
     "text": [
      "o\n"
     ]
    }
   ],
   "source": [
    "# 23\n",
    "string1 = 'Python'\n",
    "\n",
    "print(string1[-2])"
   ]
  },
  {
   "cell_type": "code",
   "execution_count": 27,
   "id": "114b70f2-dfe7-490a-acec-ddfcee79b8dd",
   "metadata": {},
   "outputs": [
    {
     "name": "stdout",
     "output_type": "stream",
     "text": [
      "t\n",
      "t\n"
     ]
    }
   ],
   "source": [
    "# 24\n",
    "string1 = 'Python'\n",
    "\n",
    "print(string1[2])\n",
    "print(string1[-4])"
   ]
  },
  {
   "cell_type": "code",
   "execution_count": 28,
   "id": "dcf308c1-08ed-4415-8fc4-3a42f0b96bc1",
   "metadata": {},
   "outputs": [
    {
     "name": "stdout",
     "output_type": "stream",
     "text": [
      "h\n",
      "h\n"
     ]
    }
   ],
   "source": [
    "# 25 \n",
    "string1 = 'Python'\n",
    "\n",
    "print(string1[3])\n",
    "print(string1[-3])"
   ]
  },
  {
   "cell_type": "code",
   "execution_count": 29,
   "id": "8aa63a19-9ceb-4357-ac4e-2af79a410118",
   "metadata": {},
   "outputs": [
    {
     "name": "stdout",
     "output_type": "stream",
     "text": [
      "yth\n"
     ]
    }
   ],
   "source": [
    "# 26 \n",
    "string1 = 'Python'\n",
    "\n",
    "print(string1[1:4])"
   ]
  },
  {
   "cell_type": "code",
   "execution_count": 30,
   "id": "d8b447b6-0508-43d7-9339-fef06b3d3db5",
   "metadata": {},
   "outputs": [
    {
     "name": "stdout",
     "output_type": "stream",
     "text": [
      "tho\n"
     ]
    }
   ],
   "source": [
    "# 27 \n",
    "string1 = 'Python'\n",
    "\n",
    "print(string1[2:-1])"
   ]
  },
  {
   "cell_type": "code",
   "execution_count": 31,
   "id": "a9eea56f-e76c-4ba1-93e6-d2e0e21b770b",
   "metadata": {},
   "outputs": [
    {
     "name": "stdout",
     "output_type": "stream",
     "text": [
      "thon\n"
     ]
    }
   ],
   "source": [
    "# 28\n",
    "string1 = 'Python'\n",
    "\n",
    "print(string1[2:])"
   ]
  },
  {
   "cell_type": "code",
   "execution_count": 32,
   "id": "42487c3b-9ca1-4a59-80e1-ca873b61340d",
   "metadata": {},
   "outputs": [
    {
     "name": "stdout",
     "output_type": "stream",
     "text": [
      "tho\n"
     ]
    }
   ],
   "source": [
    "# 29\n",
    "string1 = 'Python'\n",
    "\n",
    "print(string1[-4:5])"
   ]
  },
  {
   "cell_type": "code",
   "execution_count": 33,
   "id": "2851fa0d-810b-43a2-a239-67a875684499",
   "metadata": {},
   "outputs": [
    {
     "name": "stdout",
     "output_type": "stream",
     "text": [
      "Pytho\n"
     ]
    }
   ],
   "source": [
    "# 30 \n",
    "string1 = 'Python'\n",
    "\n",
    "print(string1[-6:5])"
   ]
  },
  {
   "cell_type": "code",
   "execution_count": 34,
   "id": "a49ed739-3345-4100-ac63-99e304df1c73",
   "metadata": {},
   "outputs": [
    {
     "name": "stdout",
     "output_type": "stream",
     "text": [
      "th\n"
     ]
    }
   ],
   "source": [
    "# 31\n",
    "string1 = 'Python'\n",
    "\n",
    "print(string1[-4:-2])"
   ]
  },
  {
   "cell_type": "code",
   "execution_count": 35,
   "id": "d610b5ed-4b2e-429e-8da3-91f4240dc40c",
   "metadata": {},
   "outputs": [
    {
     "name": "stdin",
     "output_type": "stream",
     "text": [
      "Enter your message here :  a\n"
     ]
    },
    {
     "name": "stdout",
     "output_type": "stream",
     "text": [
      "this message long 1 character.\n"
     ]
    }
   ],
   "source": [
    "# 32\n",
    "message = input('Enter your message here : ')\n",
    "\n",
    "print(f'this message long {len(message)} character.' )"
   ]
  },
  {
   "cell_type": "code",
   "execution_count": 36,
   "id": "823521c7-8302-46f9-8fc1-10589e8185d4",
   "metadata": {},
   "outputs": [
    {
     "name": "stdin",
     "output_type": "stream",
     "text": [
      "Enter your message here :  ad\n"
     ]
    },
    {
     "data": {
      "text/plain": [
       "False"
      ]
     },
     "execution_count": 36,
     "metadata": {},
     "output_type": "execute_result"
    }
   ],
   "source": [
    "# 33 \n",
    "message = input('Enter your message here : ')\n",
    "\n",
    "'ก' in message"
   ]
  },
  {
   "cell_type": "code",
   "execution_count": 37,
   "id": "1f464487-f9e2-42dc-9812-82453bde5bf0",
   "metadata": {},
   "outputs": [
    {
     "name": "stdin",
     "output_type": "stream",
     "text": [
      "Enter your first message here :  ad\n",
      "Enter your second message here :  ad\n"
     ]
    },
    {
     "data": {
      "text/plain": [
       "True"
      ]
     },
     "execution_count": 37,
     "metadata": {},
     "output_type": "execute_result"
    }
   ],
   "source": [
    "# 34 \n",
    "string1 = input('Enter your first message here : ')\n",
    "string2 = input('Enter your second message here : ')\n",
    "\n",
    "string2 in string1"
   ]
  },
  {
   "cell_type": "code",
   "execution_count": 38,
   "id": "b4978dae-c36b-45c8-bab7-08cdfd5c316b",
   "metadata": {},
   "outputs": [
    {
     "name": "stdin",
     "output_type": "stream",
     "text": [
      "Enter your message here (type letter \"a\" at least one time.):  dadada\n"
     ]
    },
    {
     "data": {
      "text/plain": [
       "'dAdAdA'"
      ]
     },
     "execution_count": 38,
     "metadata": {},
     "output_type": "execute_result"
    }
   ],
   "source": [
    "# 35 \n",
    "string1 = input('Enter your message here (type letter \"a\" at least one time.): ')\n",
    "\n",
    "string1.replace('a',  'A')\n"
   ]
  },
  {
   "cell_type": "code",
   "execution_count": 39,
   "id": "4aef1611-0ddb-40d9-ad42-60687a795eda",
   "metadata": {},
   "outputs": [
    {
     "name": "stdin",
     "output_type": "stream",
     "text": [
      "Enter your message here (type letter \"a\" at least one time.):  aaaa\n"
     ]
    },
    {
     "name": "stdout",
     "output_type": "stream",
     "text": [
      "AAAA\n"
     ]
    }
   ],
   "source": [
    "# 36\n",
    "string1 = input('Enter your message here (type letter \"a\" at least one time.): ')\n",
    "\n",
    "string2 = string1.replace('a', 'A')\n",
    "print(string2)"
   ]
  },
  {
   "cell_type": "code",
   "execution_count": 40,
   "id": "10a0d5ed-02ca-4b64-aff9-7ae2d75f7950",
   "metadata": {},
   "outputs": [
    {
     "name": "stdin",
     "output_type": "stream",
     "text": [
      "Enter your message here (type letter \"a\" at least one time.):  adada\n"
     ]
    },
    {
     "data": {
      "text/plain": [
       "['adada']"
      ]
     },
     "execution_count": 40,
     "metadata": {},
     "output_type": "execute_result"
    }
   ],
   "source": [
    "# 37\n",
    "string3 = input('Enter your message here (type letter \"a\" at least one time.): ')\n",
    "string3.split(' ')"
   ]
  },
  {
   "cell_type": "code",
   "execution_count": 41,
   "id": "0b79b457-aa78-43ae-a110-c224eeccdd3b",
   "metadata": {},
   "outputs": [
    {
     "name": "stdin",
     "output_type": "stream",
     "text": [
      " catco\n",
      " cacac\n"
     ]
    },
    {
     "name": "stdout",
     "output_type": "stream",
     "text": [
      "['catco']\n"
     ]
    }
   ],
   "source": [
    "# 38 \n",
    "sentence = input() \n",
    "c = input()\n",
    "\n",
    "list_of_word = sentence.split(c)\n",
    "print(list_of_word)"
   ]
  },
  {
   "cell_type": "code",
   "execution_count": 42,
   "id": "67ff03c2-5b20-470b-a37e-7b643edd891b",
   "metadata": {},
   "outputs": [
    {
     "name": "stdin",
     "output_type": "stream",
     "text": [
      " s\n",
      " a\n"
     ]
    },
    {
     "name": "stdout",
     "output_type": "stream",
     "text": [
      "sa\n"
     ]
    }
   ],
   "source": [
    "# 39\n",
    "str1 = input()\n",
    "str2 = input()\n",
    "\n",
    "print(str1 + str2)"
   ]
  },
  {
   "cell_type": "markdown",
   "id": "4037da7f-950d-42e5-b7a6-8be20c57279e",
   "metadata": {},
   "source": [
    "# List--------------------------------------------------------------"
   ]
  },
  {
   "cell_type": "code",
   "execution_count": 43,
   "id": "6484445e-fb58-40be-a8a9-b2a330e8ef01",
   "metadata": {},
   "outputs": [
    {
     "name": "stdout",
     "output_type": "stream",
     "text": [
      "[1, 2, 3, 'a', 'b', 'c']\n",
      "<class 'list'>\n"
     ]
    }
   ],
   "source": [
    "# 40\n",
    "list1 = [1, 2, 3, 'a', 'b', 'c']\n",
    "\n",
    "print(list1)\n",
    "print(type(list1))"
   ]
  },
  {
   "cell_type": "code",
   "execution_count": 44,
   "id": "367a769d-fcbc-42a7-b83a-fc0ce9ed7a71",
   "metadata": {},
   "outputs": [
    {
     "name": "stdout",
     "output_type": "stream",
     "text": [
      "2\n"
     ]
    }
   ],
   "source": [
    "# 41\n",
    "list1 = [0, 1, 2, 'a', 'b', 'c']\n",
    "\n",
    "print(list1[2])"
   ]
  },
  {
   "cell_type": "code",
   "execution_count": 45,
   "id": "95b18161-e780-4a4e-bf36-f04e93b1879f",
   "metadata": {},
   "outputs": [
    {
     "name": "stdout",
     "output_type": "stream",
     "text": [
      "a\n"
     ]
    }
   ],
   "source": [
    "# 42\n",
    "list1 = [0, 1, 2, 'a', 'b', 'c']\n",
    "\n",
    "print(list1[-3])"
   ]
  },
  {
   "cell_type": "code",
   "execution_count": 46,
   "id": "98ae87b9-19e4-41db-8e21-aed028269237",
   "metadata": {},
   "outputs": [
    {
     "name": "stdout",
     "output_type": "stream",
     "text": [
      "0\n"
     ]
    }
   ],
   "source": [
    "# 43 \n",
    "list1 = [0, 1, 2, 'a', 'b', 'c']\n",
    "\n",
    "print(list1[0])"
   ]
  },
  {
   "cell_type": "code",
   "execution_count": 47,
   "id": "5c2a78d0-218f-414c-b239-49703a338719",
   "metadata": {},
   "outputs": [
    {
     "name": "stdout",
     "output_type": "stream",
     "text": [
      "b\n"
     ]
    }
   ],
   "source": [
    "# 44 \n",
    "list1 = [0, 1, 2, 'a', 'b', 'c']\n",
    "\n",
    "print(list1[4])"
   ]
  },
  {
   "cell_type": "code",
   "execution_count": 48,
   "id": "526c4cb9-87af-41df-b2a5-3cfebf8daa8c",
   "metadata": {},
   "outputs": [
    {
     "name": "stdout",
     "output_type": "stream",
     "text": [
      "[2, 'a']\n"
     ]
    }
   ],
   "source": [
    "# 45 \n",
    "list1 = [0, 1, 2, 'a', 'b', 'c']\n",
    "\n",
    "print(list1[2:4])"
   ]
  },
  {
   "cell_type": "code",
   "execution_count": 49,
   "id": "93bce7dd-5967-48ec-ba29-e24ff857cf4f",
   "metadata": {},
   "outputs": [
    {
     "name": "stdout",
     "output_type": "stream",
     "text": [
      "[1, 2, 'a', 'b']\n"
     ]
    }
   ],
   "source": [
    "# 46 \n",
    "list1 = [0, 1, 2, 'a', 'b', 'c']\n",
    "\n",
    "print(list1[1:-1])"
   ]
  },
  {
   "cell_type": "code",
   "execution_count": 50,
   "id": "8c616801-8c9f-49eb-9e92-20be6e81ebdd",
   "metadata": {},
   "outputs": [
    {
     "name": "stdout",
     "output_type": "stream",
     "text": [
      "[1, 2, 'a', 'b']\n"
     ]
    }
   ],
   "source": [
    "# 47\n",
    "list1 = [0, 1, 2, 'a', 'b', 'c']\n",
    "\n",
    "print(list1[1:5])"
   ]
  },
  {
   "cell_type": "code",
   "execution_count": 51,
   "id": "6e01a18d-53ac-442c-a658-16a391175872",
   "metadata": {},
   "outputs": [
    {
     "name": "stdout",
     "output_type": "stream",
     "text": [
      "['a', 'b', 'c']\n"
     ]
    }
   ],
   "source": [
    "# 48\n",
    "list1 = [0, 1, 2, 'a', 'b', 'c']\n",
    "\n",
    "print(list1[3:])"
   ]
  },
  {
   "cell_type": "code",
   "execution_count": 52,
   "id": "6ee2558d-3af0-4e50-a79b-7c9a68290a05",
   "metadata": {},
   "outputs": [
    {
     "name": "stdout",
     "output_type": "stream",
     "text": [
      "[0, 1, 2]\n"
     ]
    }
   ],
   "source": [
    "# 49 \n",
    "list1 = [0, 1, 2, 'a', 'b', 'c']\n",
    "\n",
    "print(list1[:3])"
   ]
  },
  {
   "cell_type": "code",
   "execution_count": 53,
   "id": "42a5405b-a787-4fc6-af9b-33a52a6ef266",
   "metadata": {},
   "outputs": [
    {
     "name": "stdout",
     "output_type": "stream",
     "text": [
      "['ant', 'bird', 'cat', 'duck', 'eagle']\n"
     ]
    }
   ],
   "source": [
    "# 50 \n",
    "list2 = ['ant', 'bird', 'cat', 'dog', 'eagle']\n",
    "\n",
    "list2[3] = 'duck'\n",
    "print(list2)"
   ]
  },
  {
   "cell_type": "code",
   "execution_count": 54,
   "id": "46adca7b-a503-4129-99ae-85c57a9c8e91",
   "metadata": {},
   "outputs": [
    {
     "name": "stdout",
     "output_type": "stream",
     "text": [
      "['ape', 'bird', 'cat', 'dog', 'eagle']\n"
     ]
    }
   ],
   "source": [
    "# 51 \n",
    "list2 = ['ant', 'bird', 'cat', 'dog', 'eagle']\n",
    "\n",
    "list2[0] = 'ape'\n",
    "print(list2)"
   ]
  },
  {
   "cell_type": "code",
   "execution_count": 55,
   "id": "c8089621-71f6-4b89-a8ce-cab68f4a6ca9",
   "metadata": {},
   "outputs": [
    {
     "data": {
      "text/plain": [
       "['ant', 'bird', 'cat', 'dog', 'eagle', 'fish']"
      ]
     },
     "execution_count": 55,
     "metadata": {},
     "output_type": "execute_result"
    }
   ],
   "source": [
    "# 52 \n",
    "list2 = ['ant', 'bird', 'cat', 'dog', 'eagle']\n",
    "\n",
    "list2.append('fish')\n",
    "list2"
   ]
  },
  {
   "cell_type": "code",
   "execution_count": 56,
   "id": "977cde36-b680-49b8-adcc-af49d4455775",
   "metadata": {},
   "outputs": [
    {
     "name": "stdin",
     "output_type": "stream",
     "text": [
      " 12\n",
      " 12\n",
      " 12\n"
     ]
    },
    {
     "data": {
      "text/plain": [
       "[12, 12, 12]"
      ]
     },
     "execution_count": 56,
     "metadata": {},
     "output_type": "execute_result"
    }
   ],
   "source": [
    "# 53 \n",
    "list = []\n",
    "\n",
    "str1 = int(input())\n",
    "list.append(str1)\n",
    "str2 = int(input())\n",
    "list.append(str2)\n",
    "str3 = int(input())\n",
    "list.append(str3)\n",
    "\n",
    "list"
   ]
  },
  {
   "cell_type": "code",
   "execution_count": 57,
   "id": "04cdf8a0-a7f0-415f-b6a3-6db7f03966f0",
   "metadata": {},
   "outputs": [
    {
     "data": {
      "text/plain": [
       "['apple', 'nana', 'cherry', 'eggfruit']"
      ]
     },
     "execution_count": 57,
     "metadata": {},
     "output_type": "execute_result"
    }
   ],
   "source": [
    "# 54 \n",
    "list3 = ['apple', 'cherry', 'eggfruit']\n",
    "\n",
    "list3.insert(1, 'nana')\n",
    "list3"
   ]
  },
  {
   "cell_type": "code",
   "execution_count": 58,
   "id": "e28803c6-fcf2-4fe7-afd5-0f199d19ab5f",
   "metadata": {},
   "outputs": [
    {
     "data": {
      "text/plain": [
       "['apple', 'banana', 'cherry', 'kiwi', 'eggfruit']"
      ]
     },
     "execution_count": 58,
     "metadata": {},
     "output_type": "execute_result"
    }
   ],
   "source": [
    "# 55\n",
    "list3 = ['apple', 'banana', 'cherry', 'eggfruit']\n",
    "\n",
    "list3.insert(-1, 'kiwi')\n",
    "list3"
   ]
  },
  {
   "cell_type": "code",
   "execution_count": 59,
   "id": "e502b323-ad3b-43f5-9a42-9d00029908c5",
   "metadata": {},
   "outputs": [
    {
     "name": "stdout",
     "output_type": "stream",
     "text": [
      "[0, 1, 2, 3, 4]\n"
     ]
    }
   ],
   "source": [
    "# 56 \n",
    "list4 = [0, 4, 2, 3, 1]\n",
    "\n",
    "list4.sort()\n",
    "print(list4)"
   ]
  },
  {
   "cell_type": "code",
   "execution_count": 60,
   "id": "666aeff7-0bfc-4edd-ba2a-ac56eec7ccbb",
   "metadata": {},
   "outputs": [
    {
     "name": "stdout",
     "output_type": "stream",
     "text": [
      "[4, 3, 2, 1, 0]\n"
     ]
    }
   ],
   "source": [
    "# 57 \n",
    "list4 = [0, 4, 2, 3, 1]\n",
    "\n",
    "list4.sort(reverse=True)\n",
    "print(list4)"
   ]
  },
  {
   "cell_type": "code",
   "execution_count": 61,
   "id": "1f048036-4136-4dd9-9a7d-1504f6ea712f",
   "metadata": {},
   "outputs": [
    {
     "name": "stdout",
     "output_type": "stream",
     "text": [
      "[0, 1, 2, 3, 4]\n"
     ]
    }
   ],
   "source": [
    "# 58 \n",
    "list4 = [0, 4, 2, 3, 1]\n",
    "\n",
    "sorted_list4 = sorted(list4) # sorted() sorted list and stored in new variable while keep original list remain.\n",
    "print(sorted_list4)"
   ]
  },
  {
   "cell_type": "code",
   "execution_count": 62,
   "id": "8ef2edd9-edb3-4d57-88de-193f65344353",
   "metadata": {},
   "outputs": [
    {
     "name": "stdout",
     "output_type": "stream",
     "text": [
      "[4, 3, 2, 1, 0]\n"
     ]
    }
   ],
   "source": [
    "# 59\n",
    "list4 = [0, 4, 2, 3, 1]\n",
    "\n",
    "sorted_list4 = sorted(list4, reverse=True)\n",
    "print(sorted_list4)"
   ]
  },
  {
   "cell_type": "code",
   "execution_count": 63,
   "id": "f661b886-a7aa-4b17-aa74-5cfe1e569032",
   "metadata": {},
   "outputs": [
    {
     "name": "stdout",
     "output_type": "stream",
     "text": [
      "['a', 'b', 'c', 'd', 'e']\n"
     ]
    }
   ],
   "source": [
    "# 60\n",
    "list5 = ['d', 'a', 'c', 'b', 'e']\n",
    "\n",
    "list5.sort()\n",
    "print(list5)"
   ]
  },
  {
   "cell_type": "code",
   "execution_count": 64,
   "id": "baa271dc-97f5-409a-8b3a-fc448969390d",
   "metadata": {},
   "outputs": [
    {
     "name": "stdout",
     "output_type": "stream",
     "text": [
      "['e', 'd', 'c', 'b', 'a']\n"
     ]
    }
   ],
   "source": [
    "# 61\n",
    "list5 = ['d', 'a', 'c', 'b', 'e']\n",
    "\n",
    "sorted_list5 = sorted(list5, reverse=True)\n",
    "print(sorted_list5)"
   ]
  },
  {
   "cell_type": "code",
   "execution_count": 65,
   "id": "13085b4c-8e2c-49f4-8fa6-3426b014f484",
   "metadata": {},
   "outputs": [
    {
     "name": "stdout",
     "output_type": "stream",
     "text": [
      "['a', 'b', 'c', 0, 1, 2]\n",
      "[0, 1, 2]\n"
     ]
    }
   ],
   "source": [
    "# 62 \n",
    "list1 = ['a', 'b', 'c']\n",
    "list2 = [0, 1, 2]\n",
    "\n",
    "list1.extend(list2)\n",
    "print(list1)\n",
    "print(list2)"
   ]
  },
  {
   "cell_type": "code",
   "execution_count": 66,
   "id": "b6678697-53e2-4f1f-8660-f1614f823bea",
   "metadata": {},
   "outputs": [
    {
     "name": "stdout",
     "output_type": "stream",
     "text": [
      "['a', 'b', 'c']\n",
      "[0, 1, 2]\n",
      "['a', 'b', 'c', 0, 1, 2]\n"
     ]
    }
   ],
   "source": [
    "# 63 \n",
    "list1 = ['a', 'b', 'c']\n",
    "list2 = [0, 1, 2]\n",
    "list3 = list1 + list2\n",
    "\n",
    "print(list1)\n",
    "print(list2)\n",
    "print(list3)"
   ]
  },
  {
   "cell_type": "code",
   "execution_count": 67,
   "id": "72be1bf1-66ad-4313-8f2c-6098640b94b5",
   "metadata": {},
   "outputs": [
    {
     "name": "stdout",
     "output_type": "stream",
     "text": [
      "[1, 3, 1, 2, 3]\n"
     ]
    }
   ],
   "source": [
    "# 64\n",
    "list1 = [1, 2, 3, 1, 2, 3]\n",
    "\n",
    "del list1[1]\n",
    "print(list1)"
   ]
  },
  {
   "cell_type": "code",
   "execution_count": 68,
   "id": "dc37484e-31b1-4b07-927f-fc67741b0878",
   "metadata": {},
   "outputs": [
    {
     "name": "stdout",
     "output_type": "stream",
     "text": [
      "[1, 2, 1, 2]\n"
     ]
    }
   ],
   "source": [
    "# 65\n",
    "# Normal way.\n",
    "list1 = [1, 2, 3, 1, 2, 3]\n",
    "\n",
    "del list1[-1]\n",
    "del list1[2]\n",
    "\n",
    "print(list1)"
   ]
  },
  {
   "cell_type": "raw",
   "id": "54bda328-6ce7-4cbc-b447-857edb9d8767",
   "metadata": {},
   "source": [
    "# 65 \n",
    "# use loop--------------------\n",
    "'''\n",
    "list1 = [1, 2, 3, 1, 2, 3]\n",
    "\n",
    "if 3 in list1:\n",
    "    for i in range(0, 5):\n",
    "        if list1[i] == 3:\n",
    "            del list1[i]\n",
    "\n",
    "print(list1)\n",
    "'''\n",
    ">>> [1, 2, 1, 2]"
   ]
  },
  {
   "cell_type": "code",
   "execution_count": 69,
   "id": "531723d3-0063-45e3-96e9-02c61f192ca3",
   "metadata": {},
   "outputs": [
    {
     "data": {
      "text/plain": [
       "[2, 3, 1, 2, 3]"
      ]
     },
     "execution_count": 69,
     "metadata": {},
     "output_type": "execute_result"
    }
   ],
   "source": [
    "# 66 \n",
    "list1 = [1, 2, 3, 1, 2, 3]\n",
    "\n",
    "list1.remove(1) # remove() only delete 1 once if you want to delete all 1s in your list use loop.\n",
    "\n",
    "list1"
   ]
  },
  {
   "cell_type": "code",
   "execution_count": 70,
   "id": "bb2567c5-9eae-4e6b-a971-269fe1ff7c95",
   "metadata": {},
   "outputs": [
    {
     "data": {
      "text/plain": [
       "[2, 3, 2, 3]"
      ]
     },
     "execution_count": 70,
     "metadata": {},
     "output_type": "execute_result"
    }
   ],
   "source": [
    "# 67\n",
    "list1 = [1, 2, 3, 1, 2, 3]\n",
    "\n",
    "list1.remove(1)\n",
    "list1.remove(1)\n",
    "\n",
    "list1"
   ]
  },
  {
   "cell_type": "code",
   "execution_count": 71,
   "id": "509345db-e381-4109-8b4f-2e3d36817ae5",
   "metadata": {},
   "outputs": [
    {
     "data": {
      "text/plain": [
       "[]"
      ]
     },
     "execution_count": 71,
     "metadata": {},
     "output_type": "execute_result"
    }
   ],
   "source": [
    "# 68\n",
    "list1 = [1, 2, 3, 1, 2, 3]\n",
    "\n",
    "list1.clear()\n",
    "list1"
   ]
  },
  {
   "cell_type": "code",
   "execution_count": 72,
   "id": "bf0cb943-9e28-43cb-a89b-73e7d3912217",
   "metadata": {},
   "outputs": [
    {
     "name": "stdout",
     "output_type": "stream",
     "text": [
      "6\n"
     ]
    }
   ],
   "source": [
    "# 69\n",
    "list1 = [1, 2, 3, 'a', 'b', 'c']\n",
    "\n",
    "print(len(list1))"
   ]
  },
  {
   "cell_type": "code",
   "execution_count": 73,
   "id": "e1f0271f-eeae-416a-bdc0-31c959ef8e3c",
   "metadata": {},
   "outputs": [
    {
     "name": "stdin",
     "output_type": "stream",
     "text": [
      " 2\n"
     ]
    },
    {
     "name": "stdout",
     "output_type": "stream",
     "text": [
      "True\n"
     ]
    }
   ],
   "source": [
    "# 70\n",
    "list1 = [1, 2, 3, 4, 5]\n",
    "numeric1 = int(input())\n",
    "\n",
    "bool1 = numeric1 in list1\n",
    "print(bool1)\n"
   ]
  },
  {
   "cell_type": "markdown",
   "id": "c72e9024-67f5-43d7-add9-4db2567b1069",
   "metadata": {},
   "source": [
    "# Tuple"
   ]
  },
  {
   "cell_type": "code",
   "execution_count": 74,
   "id": "f37c4fea-b5dd-4a53-a247-8f0a169cba25",
   "metadata": {},
   "outputs": [
    {
     "name": "stdout",
     "output_type": "stream",
     "text": [
      "\n",
      "America\n",
      "<class 'str'>\n",
      "\n",
      "Brazil\n",
      "<class 'str'>\n",
      "\n",
      "China\n",
      "<class 'str'>\n",
      "\n",
      "Dominican\n",
      "<class 'str'>\n",
      "\n",
      "Egypt\n",
      "<class 'str'>\n",
      "------------------------\n",
      "countries type is: <class 'tuple'>\n"
     ]
    }
   ],
   "source": [
    "# 71\n",
    "countries = ('america', 'brazil', 'china', 'dominican', 'egypt')\n",
    "\n",
    "for country in countries:\n",
    "    print('\\n' + country.title())\n",
    "    print(type(country))\n",
    "print('------------------------')\n",
    "print('countries type is:', type(countries))"
   ]
  },
  {
   "cell_type": "code",
   "execution_count": 75,
   "id": "f6e3b08a-84b7-451c-afa8-26401b2c07ea",
   "metadata": {},
   "outputs": [
    {
     "name": "stdout",
     "output_type": "stream",
     "text": [
      "brazil\n"
     ]
    }
   ],
   "source": [
    "# 72\n",
    "countries = ('america', 'brazil', 'china', 'dominican', 'egypt')\n",
    "\n",
    "print(countries[1])"
   ]
  },
  {
   "cell_type": "code",
   "execution_count": 76,
   "id": "18f11157-375f-4a3c-997d-264f4f252ec8",
   "metadata": {},
   "outputs": [
    {
     "name": "stdout",
     "output_type": "stream",
     "text": [
      "dominican\n"
     ]
    }
   ],
   "source": [
    "# 73 \n",
    "tuple1 = ('america', 'brazil', 'china', 'dominican', 'egypt')\n",
    "\n",
    "print(tuple1[-2])"
   ]
  },
  {
   "cell_type": "code",
   "execution_count": 77,
   "id": "d1362907-a442-4bf7-9fc5-97151e1f0108",
   "metadata": {},
   "outputs": [
    {
     "name": "stdout",
     "output_type": "stream",
     "text": [
      "china\n"
     ]
    }
   ],
   "source": [
    "# 74\n",
    "tuple1 = ('america', 'brazil', 'china', 'dominican', 'egypt')\n",
    "\n",
    "print(tuple1[2])"
   ]
  },
  {
   "cell_type": "code",
   "execution_count": 78,
   "id": "31b5c4b1-ef5f-477b-8ddb-ae87ef9762cc",
   "metadata": {},
   "outputs": [
    {
     "name": "stdout",
     "output_type": "stream",
     "text": [
      "egypt\n"
     ]
    }
   ],
   "source": [
    "# 75 \n",
    "tuple1 = ('america', 'brazil', 'china', 'dominican', 'egypt')\n",
    "\n",
    "print(tuple1[-1])"
   ]
  },
  {
   "cell_type": "code",
   "execution_count": 79,
   "id": "21ad47e8-b432-40e4-b98b-1c1374b63118",
   "metadata": {},
   "outputs": [
    {
     "name": "stdout",
     "output_type": "stream",
     "text": [
      "('two', 'three', 1)\n"
     ]
    }
   ],
   "source": [
    "# 76\n",
    "tuple2 = ('one', 'two', 'three', 1, 2, 3)\n",
    "\n",
    "print(tuple2[1:4])"
   ]
  },
  {
   "cell_type": "code",
   "execution_count": 80,
   "id": "e0c19be5-2e67-4743-901b-07cec282a233",
   "metadata": {},
   "outputs": [
    {
     "name": "stdout",
     "output_type": "stream",
     "text": [
      "('three', 1, 2)\n"
     ]
    }
   ],
   "source": [
    "# 77\n",
    "tuple2 = ('one', 'two', 'three', 1, 2, 3)\n",
    "\n",
    "print(tuple2[2:-1])"
   ]
  },
  {
   "cell_type": "code",
   "execution_count": 81,
   "id": "4516ab6d-56e6-4cb7-aef0-e7f2017fe231",
   "metadata": {},
   "outputs": [
    {
     "name": "stdout",
     "output_type": "stream",
     "text": [
      "('three', 1)\n"
     ]
    }
   ],
   "source": [
    "# 78\n",
    "tuple2 = ('one', 'two', 'three', 1, 2, 3)\n",
    "\n",
    "print(tuple2[2:4])"
   ]
  },
  {
   "cell_type": "code",
   "execution_count": 82,
   "id": "95edb2d2-015b-4b20-a97e-75ffd2759a9c",
   "metadata": {},
   "outputs": [
    {
     "name": "stdout",
     "output_type": "stream",
     "text": [
      "('one', 'two', 'three')\n"
     ]
    }
   ],
   "source": [
    "# 79 \n",
    "tuple2 = ('one', 'two', 'three', 1, 2, 3)\n",
    "\n",
    "print(tuple2[:3])"
   ]
  },
  {
   "cell_type": "code",
   "execution_count": 83,
   "id": "1cae4925-023c-4ced-8ac9-ced48dd607ab",
   "metadata": {},
   "outputs": [
    {
     "name": "stdout",
     "output_type": "stream",
     "text": [
      "(1, 2, 3)\n"
     ]
    }
   ],
   "source": [
    "# 80\n",
    "tuple2 = ('one', 'two', 'three', 1, 2, 3)\n",
    "\n",
    "print(tuple2[3:])"
   ]
  },
  {
   "cell_type": "code",
   "execution_count": 84,
   "id": "58e07e3a-c0b7-487e-86d2-1b110254a106",
   "metadata": {},
   "outputs": [
    {
     "name": "stdout",
     "output_type": "stream",
     "text": [
      "5\n"
     ]
    }
   ],
   "source": [
    "# 81\n",
    "tuple3 = ('one', 'two', 'three', 'four', 'five')\n",
    "\n",
    "print(len(tuple3))"
   ]
  },
  {
   "cell_type": "code",
   "execution_count": 85,
   "id": "9454e643-90ea-433a-8c52-6bdf05f8881d",
   "metadata": {},
   "outputs": [
    {
     "name": "stdin",
     "output_type": "stream",
     "text": [
      " one\n"
     ]
    },
    {
     "name": "stdout",
     "output_type": "stream",
     "text": [
      "True\n"
     ]
    }
   ],
   "source": [
    "# 82\n",
    "tuple3 = ('one', 'two', 'three', 'four', 'five')\n",
    "str1 = input()\n",
    "\n",
    "bool1 = str1 in tuple3 \n",
    "print(bool1)"
   ]
  },
  {
   "cell_type": "markdown",
   "id": "a4ce5394-d690-43ad-b7b2-0bbe8eee017d",
   "metadata": {},
   "source": [
    "# Dictionary"
   ]
  },
  {
   "cell_type": "code",
   "execution_count": 86,
   "id": "291f98d5-7a7d-459b-84c0-2f44cab646c8",
   "metadata": {},
   "outputs": [
    {
     "name": "stdout",
     "output_type": "stream",
     "text": [
      "{'first_name': 'John', 'last_name': 'Doe'}\n",
      "<class 'dict'>\n"
     ]
    }
   ],
   "source": [
    "# 83\n",
    "dict1 = {\n",
    "    'first_name': 'John',\n",
    "    'last_name': 'Doe',\n",
    "}\n",
    "\n",
    "print(dict1)\n",
    "print(type(dict1))"
   ]
  },
  {
   "cell_type": "code",
   "execution_count": 87,
   "id": "3d484653-92d7-4c62-9df5-5edd7b9c31ed",
   "metadata": {},
   "outputs": [
    {
     "name": "stdout",
     "output_type": "stream",
     "text": [
      "John\n"
     ]
    }
   ],
   "source": [
    "# 84 \n",
    "dict1 = {\n",
    "    'first_name': 'John',\n",
    "    'last_name': 'Doe',\n",
    "}\n",
    "\n",
    "print(dict1['first_name'])"
   ]
  },
  {
   "cell_type": "code",
   "execution_count": 88,
   "id": "ad6cd0f9-f47e-4f2f-8e22-8287e0bbe2e8",
   "metadata": {},
   "outputs": [
    {
     "name": "stdout",
     "output_type": "stream",
     "text": [
      "Doe\n"
     ]
    }
   ],
   "source": [
    "# 85\n",
    "dict1 = {\n",
    "    'first_name': 'John',\n",
    "    'last_name': 'Doe',\n",
    "}\n",
    "\n",
    "print(dict1['last_name'])"
   ]
  },
  {
   "cell_type": "code",
   "execution_count": 89,
   "id": "34ecd62e-a367-410f-9ac5-95893a318d53",
   "metadata": {},
   "outputs": [
    {
     "name": "stdout",
     "output_type": "stream",
     "text": [
      "dict_keys(['first_name', 'last_name'])\n"
     ]
    }
   ],
   "source": [
    "# 86\n",
    "dict1 = {\n",
    "    'first_name': 'John',\n",
    "    'last_name': 'Doe',\n",
    "}\n",
    "\n",
    "print(dict1.keys())\n",
    "    "
   ]
  },
  {
   "cell_type": "code",
   "execution_count": 90,
   "id": "efa4b012-f735-47a3-9a10-ee8fcfe8c49d",
   "metadata": {},
   "outputs": [
    {
     "name": "stdout",
     "output_type": "stream",
     "text": [
      "dict_values(['John', 'Doe'])\n"
     ]
    }
   ],
   "source": [
    "# 87 \n",
    "dict1 = {\n",
    "    'first_name': 'John',\n",
    "    'last_name': 'Doe',\n",
    "}\n",
    "\n",
    "print(dict1.values())"
   ]
  },
  {
   "cell_type": "code",
   "execution_count": 91,
   "id": "0e162072-0249-47e2-a02e-89445959d40f",
   "metadata": {},
   "outputs": [
    {
     "name": "stdout",
     "output_type": "stream",
     "text": [
      "{'first_name': 'Jane', 'last_name': 'Doe'}\n"
     ]
    }
   ],
   "source": [
    "# 88\n",
    "dict1 = {\n",
    "    'first_name': 'John',\n",
    "    'last_name': 'Doe',\n",
    "}\n",
    "\n",
    "dict1['first_name'] = 'Jane'\n",
    "\n",
    "print(dict1)"
   ]
  },
  {
   "cell_type": "code",
   "execution_count": 92,
   "id": "30807eb2-911e-40ab-82f1-3214f1626850",
   "metadata": {},
   "outputs": [
    {
     "name": "stdout",
     "output_type": "stream",
     "text": [
      "{'first_name': 'John', 'last_name': 'Doe', 'age': 32}\n"
     ]
    }
   ],
   "source": [
    "# 89 \n",
    "dict1 = {\n",
    "    'first_name': 'John',\n",
    "    'last_name': 'Doe',\n",
    "}\n",
    "\n",
    "dict1['age'] = 32\n",
    "print(dict1)"
   ]
  },
  {
   "cell_type": "code",
   "execution_count": 93,
   "id": "009cbc5d-15b1-46b6-906a-a7aef57a6d73",
   "metadata": {},
   "outputs": [
    {
     "name": "stdout",
     "output_type": "stream",
     "text": [
      "{'first_name': 'John', 'last_name': 'Doe', 'age': 32, 'hobby': ['coding', 'studying']}\n"
     ]
    }
   ],
   "source": [
    "# 90\n",
    "dict1 = {\n",
    "    'first_name': 'John',\n",
    "    'last_name': 'Doe',\n",
    "}\n",
    "\n",
    "dict1['age'] = 32\n",
    "dict1['hobby'] = ['coding', 'studying']\n",
    "\n",
    "print(dict1)"
   ]
  },
  {
   "cell_type": "code",
   "execution_count": 94,
   "id": "0f977234-e015-45c3-873c-b913dd11a43e",
   "metadata": {},
   "outputs": [
    {
     "name": "stdin",
     "output_type": "stream",
     "text": [
      " 1212\n",
      " 2323\n"
     ]
    },
    {
     "name": "stdout",
     "output_type": "stream",
     "text": [
      "{'1212': '2323'}\n"
     ]
    }
   ],
   "source": [
    "# 91\n",
    "dict1 = {}\n",
    "str1 = input()\n",
    "str2 = input()\n",
    "\n",
    "dict1[str1] = str2\n",
    "\n",
    "print(dict1)"
   ]
  },
  {
   "cell_type": "code",
   "execution_count": 95,
   "id": "5849bbcd-57e3-454b-9405-d96c90dde32b",
   "metadata": {},
   "outputs": [
    {
     "name": "stdout",
     "output_type": "stream",
     "text": [
      "{'first_name': 'John', 'last_name': 'Doe'}\n"
     ]
    }
   ],
   "source": [
    "# 92\n",
    "dict1 = {\n",
    "    'first_name': 'John',\n",
    "    'last_name': 'Doe',\n",
    "    'age': 32\n",
    "}\n",
    "\n",
    "del dict1['age']\n",
    "\n",
    "print(dict1)"
   ]
  },
  {
   "cell_type": "code",
   "execution_count": 96,
   "id": "9f28b221-c34b-48f9-a49f-eea0eb6fa5f0",
   "metadata": {},
   "outputs": [
    {
     "name": "stdout",
     "output_type": "stream",
     "text": [
      "{}\n"
     ]
    }
   ],
   "source": [
    "# 93 \n",
    "dict1 = {\n",
    "    'first_name': 'John',\n",
    "    'last_name': 'Doe',\n",
    "    'age': 32,\n",
    "}\n",
    "\n",
    "dict1.clear()\n",
    "\n",
    "print(dict1)"
   ]
  },
  {
   "cell_type": "code",
   "execution_count": 97,
   "id": "c8205321-e8dd-41c4-9685-cea419af53ea",
   "metadata": {},
   "outputs": [
    {
     "name": "stdout",
     "output_type": "stream",
     "text": [
      "3\n"
     ]
    }
   ],
   "source": [
    "# 94\n",
    "dict1 = {\n",
    "    'first_name': 'John',\n",
    "    'last_name': 'Doe',\n",
    "    'age': 32,\n",
    "}\n",
    "\n",
    "print(len(dict1.keys()))"
   ]
  },
  {
   "cell_type": "code",
   "execution_count": 98,
   "id": "fe70f4c8-5d39-41bb-9890-42762467d14b",
   "metadata": {},
   "outputs": [
    {
     "name": "stdin",
     "output_type": "stream",
     "text": [
      "Enter your word (eng_alphabet):  as\n"
     ]
    },
    {
     "name": "stdout",
     "output_type": "stream",
     "text": [
      "False\n"
     ]
    }
   ],
   "source": [
    "# 95\n",
    "dict1 = {\n",
    "    'first_name': 'John',\n",
    "    'last_name': 'Doe',\n",
    "    'age': 32,\n",
    "}\n",
    "\n",
    "str1 = input('Enter your word (eng_alphabet): ')\n",
    "\n",
    "word_check = str1 in dict1.keys()\n",
    "print(word_check)"
   ]
  },
  {
   "cell_type": "code",
   "execution_count": 99,
   "id": "62286233-bd0a-4727-8e49-b9d892fbdb46",
   "metadata": {},
   "outputs": [
    {
     "name": "stdin",
     "output_type": "stream",
     "text": [
      "Enter your word (eng_alphabet):  asc\n"
     ]
    },
    {
     "name": "stdout",
     "output_type": "stream",
     "text": [
      "False\n"
     ]
    }
   ],
   "source": [
    "# 96\n",
    "dict1 = {\n",
    "    'first_name': 'John',\n",
    "    'last_name': 'Doe',\n",
    "    'age': 32,\n",
    "}\n",
    "\n",
    "str1 = input('Enter your word (eng_alphabet): ')\n",
    "\n",
    "\n",
    "word_check = str1 in dict1.values()\n",
    "print(word_check)"
   ]
  },
  {
   "cell_type": "code",
   "execution_count": 100,
   "id": "45475d3c-548b-4347-b747-8b43b9ae8ed7",
   "metadata": {},
   "outputs": [
    {
     "name": "stdout",
     "output_type": "stream",
     "text": [
      "{1, 2, 3, 'ii', 'iii', 'i'}\n",
      "<class 'set'>\n"
     ]
    }
   ],
   "source": [
    "# 97 \n",
    "set1 = {1, 2, 3, 'i', 'ii', 'iii'}\n",
    "\n",
    "print(set1)\n",
    "print(type(set1))"
   ]
  },
  {
   "cell_type": "code",
   "execution_count": 101,
   "id": "76cd21c3-13fe-4308-91a2-0891826cfb08",
   "metadata": {},
   "outputs": [
    {
     "name": "stdout",
     "output_type": "stream",
     "text": [
      "1\n",
      "2\n",
      "3\n",
      "ii\n",
      "iii\n",
      "i\n"
     ]
    }
   ],
   "source": [
    "# 98\n",
    "set1 = {1, 2, 3, 'i', 'ii', 'iii'}\n",
    "\n",
    "# If you want to read member in side set you have to loop through entire set.\n",
    "for member in set1:\n",
    "    print(member)\n",
    "# note: set doesn't sorted your data when it stored in set.\n"
   ]
  },
  {
   "cell_type": "code",
   "execution_count": 102,
   "id": "5317f99e-68ef-4959-83b1-30ce04a11205",
   "metadata": {},
   "outputs": [
    {
     "name": "stdout",
     "output_type": "stream",
     "text": [
      "{1, 2, 3, 'ii', 'iv', 'iii', 'i'}\n"
     ]
    }
   ],
   "source": [
    "# 99\n",
    "set1 = {1, 2, 3, 'i', 'ii', 'iii'}\n",
    "\n",
    "set1.add('iv')\n",
    "print(set1)"
   ]
  },
  {
   "cell_type": "code",
   "execution_count": 103,
   "id": "8ddb717f-4d6e-4925-9ad6-60f909330bbd",
   "metadata": {},
   "outputs": [
    {
     "name": "stdout",
     "output_type": "stream",
     "text": [
      "{1, 2, 3, 'ii', 'iii', 'i'}\n"
     ]
    }
   ],
   "source": [
    "# 100\n",
    "set1 = {1, 2, 3, 'i', 'ii', 'iii'}\n",
    "\n",
    "set1.add(1)\n",
    "print(set1)"
   ]
  },
  {
   "cell_type": "code",
   "execution_count": 104,
   "id": "518867ff-7172-4fa2-ab6b-245298de872b",
   "metadata": {},
   "outputs": [
    {
     "name": "stdin",
     "output_type": "stream",
     "text": [
      " asd\n",
      " asd\n",
      " asd\n"
     ]
    },
    {
     "name": "stdout",
     "output_type": "stream",
     "text": [
      "{'asd', 'asc'}\n"
     ]
    }
   ],
   "source": [
    "# 101\n",
    "empty_set = set()\n",
    "srt1 = input()\n",
    "str2 = input()\n",
    "str3 = input()\n",
    "\n",
    "empty_set.add(str1)\n",
    "empty_set.add(str2)\n",
    "empty_set.add(str3)\n",
    "print(empty_set)"
   ]
  },
  {
   "cell_type": "code",
   "execution_count": 105,
   "id": "aba7a5ed-c9fc-4a69-affa-27001edda5db",
   "metadata": {},
   "outputs": [
    {
     "name": "stdin",
     "output_type": "stream",
     "text": [
      " asd\n",
      " asd\n",
      " asd\n"
     ]
    },
    {
     "name": "stdout",
     "output_type": "stream",
     "text": [
      "{'a', 's', 'd'}\n"
     ]
    }
   ],
   "source": [
    "# 102\n",
    "alphabets = set()\n",
    "str1 = input()\n",
    "str2 = input()\n",
    "str3 = input()\n",
    "\n",
    "alphabets.update(str1, str2, str3)\n",
    "print(alphabets)"
   ]
  },
  {
   "cell_type": "code",
   "execution_count": 107,
   "id": "c371ea82-57bb-4479-8987-11a77a8b8d81",
   "metadata": {},
   "outputs": [
    {
     "name": "stdout",
     "output_type": "stream",
     "text": [
      "{2, 3, 'ii', 'iii', 'i'}\n"
     ]
    }
   ],
   "source": [
    "# 103\n",
    "set1 = {1, 2, 3, 'i', 'ii', 'iii'}\n",
    "\n",
    "set1.remove(1)\n",
    "print(set1)"
   ]
  },
  {
   "cell_type": "code",
   "execution_count": 108,
   "id": "dd93486e-5319-4080-bea7-6bce4bf526f5",
   "metadata": {},
   "outputs": [
    {
     "name": "stdout",
     "output_type": "stream",
     "text": [
      "6\n"
     ]
    }
   ],
   "source": [
    "# 104 \n",
    "set1 = {1, 2, 3, 'i', 'ii', 'iii'}\n",
    "\n",
    "print(len(set1)) "
   ]
  },
  {
   "cell_type": "code",
   "execution_count": 111,
   "id": "97956592-abe7-42a8-8910-5417a21f0175",
   "metadata": {},
   "outputs": [
    {
     "name": "stdin",
     "output_type": "stream",
     "text": [
      " 'i'\n"
     ]
    },
    {
     "ename": "ValueError",
     "evalue": "invalid literal for int() with base 10: \"'i'\"",
     "output_type": "error",
     "traceback": [
      "\u001b[1;31m---------------------------------------------------------------------------\u001b[0m",
      "\u001b[1;31mValueError\u001b[0m                                Traceback (most recent call last)",
      "Cell \u001b[1;32mIn[111], line 3\u001b[0m\n\u001b[0;32m      1\u001b[0m \u001b[38;5;66;03m# 105\u001b[39;00m\n\u001b[0;32m      2\u001b[0m set1 \u001b[38;5;241m=\u001b[39m {\u001b[38;5;241m1\u001b[39m, \u001b[38;5;241m2\u001b[39m, \u001b[38;5;241m3\u001b[39m, \u001b[38;5;124m'\u001b[39m\u001b[38;5;124mi\u001b[39m\u001b[38;5;124m'\u001b[39m, \u001b[38;5;124m'\u001b[39m\u001b[38;5;124mii\u001b[39m\u001b[38;5;124m'\u001b[39m, \u001b[38;5;124m'\u001b[39m\u001b[38;5;124miii\u001b[39m\u001b[38;5;124m'\u001b[39m}\n\u001b[1;32m----> 3\u001b[0m number1 \u001b[38;5;241m=\u001b[39m \u001b[38;5;28mint\u001b[39m(\u001b[38;5;28minput\u001b[39m())\n\u001b[0;32m      5\u001b[0m check \u001b[38;5;241m=\u001b[39m number1 \u001b[38;5;129;01min\u001b[39;00m set1\n\u001b[0;32m      6\u001b[0m \u001b[38;5;28mprint\u001b[39m(check)\n",
      "\u001b[1;31mValueError\u001b[0m: invalid literal for int() with base 10: \"'i'\""
     ]
    }
   ],
   "source": [
    "# 105\n",
    "set1 = {1, 2, 3, 'i', 'ii', 'iii'}\n",
    "number1 = int(input())\n",
    "\n",
    "check = number1 in set1\n",
    "print(check)"
   ]
  },
  {
   "cell_type": "code",
   "execution_count": 112,
   "id": "8c056b3e-31ce-4eac-b326-dac163c6d24a",
   "metadata": {},
   "outputs": [
    {
     "data": {
      "text/plain": [
       "{1, 2, 3, 4, 5, 6}"
      ]
     },
     "execution_count": 112,
     "metadata": {},
     "output_type": "execute_result"
    }
   ],
   "source": [
    "# 106\n",
    "set1 = {1, 2, 3, 4, 5} \n",
    "set2 = {3, 4, 5, 6}\n",
    "\n",
    "set1 | set2 "
   ]
  },
  {
   "cell_type": "code",
   "execution_count": 113,
   "id": "df370e51-329b-426e-b257-d991919ed776",
   "metadata": {},
   "outputs": [
    {
     "data": {
      "text/plain": [
       "{3, 4, 5}"
      ]
     },
     "execution_count": 113,
     "metadata": {},
     "output_type": "execute_result"
    }
   ],
   "source": [
    "# 107\n",
    "set1 = {1, 2, 3, 4, 5} \n",
    "set2 = {3, 4, 5, 6}\n",
    "set1 & set2"
   ]
  },
  {
   "cell_type": "code",
   "execution_count": 114,
   "id": "0aae3a4b-4c1a-41c8-a7ab-603b4c6be6bc",
   "metadata": {},
   "outputs": [
    {
     "data": {
      "text/plain": [
       "{1, 2}"
      ]
     },
     "execution_count": 114,
     "metadata": {},
     "output_type": "execute_result"
    }
   ],
   "source": [
    "# 108\n",
    "set1 = {1, 2, 3, 4, 5} \n",
    "set2 = {3, 4, 5, 6}\n",
    "\n",
    "set1 - set2"
   ]
  },
  {
   "cell_type": "code",
   "execution_count": 115,
   "id": "263f0195-3e60-427e-8580-8defbdad7bea",
   "metadata": {},
   "outputs": [
    {
     "data": {
      "text/plain": [
       "{6}"
      ]
     },
     "execution_count": 115,
     "metadata": {},
     "output_type": "execute_result"
    }
   ],
   "source": [
    "# 109\n",
    "set1 = {1, 2, 3, 4, 5} \n",
    "set2 = {3, 4, 5, 6}\n",
    "\n",
    "set2 - set1"
   ]
  },
  {
   "cell_type": "code",
   "execution_count": 116,
   "id": "967e5ee7-9c38-4b69-8e1f-7143c686c582",
   "metadata": {},
   "outputs": [
    {
     "data": {
      "text/plain": [
       "{1, 2, 6}"
      ]
     },
     "execution_count": 116,
     "metadata": {},
     "output_type": "execute_result"
    }
   ],
   "source": [
    "# 110\n",
    "set1 = {1, 2, 3, 4, 5} \n",
    "set2 = {3, 4, 5, 6}\n",
    "\n",
    "set1 ^ set2"
   ]
  },
  {
   "cell_type": "code",
   "execution_count": null,
   "id": "a5bb3708-9577-4e16-b804-6c36773ce9d4",
   "metadata": {},
   "outputs": [],
   "source": []
  }
 ],
 "metadata": {
  "kernelspec": {
   "display_name": "Python 3 (ipykernel)",
   "language": "python",
   "name": "python3"
  },
  "language_info": {
   "codemirror_mode": {
    "name": "ipython",
    "version": 3
   },
   "file_extension": ".py",
   "mimetype": "text/x-python",
   "name": "python",
   "nbconvert_exporter": "python",
   "pygments_lexer": "ipython3",
   "version": "3.11.7"
  }
 },
 "nbformat": 4,
 "nbformat_minor": 5
}
