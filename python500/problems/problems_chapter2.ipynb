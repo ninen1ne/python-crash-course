{
 "cells": [
  {
   "cell_type": "code",
   "execution_count": 1,
   "id": "016b4e16-6ae6-40d8-a84b-8a5289415f14",
   "metadata": {},
   "outputs": [
    {
     "name": "stdout",
     "output_type": "stream",
     "text": [
      "Hello\n"
     ]
    }
   ],
   "source": [
    "print('Hello')"
   ]
  },
  {
   "cell_type": "code",
   "execution_count": 2,
   "id": "19d30683-c3b9-481b-9d51-e8f48ef47483",
   "metadata": {},
   "outputs": [
    {
     "name": "stdout",
     "output_type": "stream",
     "text": [
      "Hello World\n"
     ]
    }
   ],
   "source": [
    "print('Hello World')"
   ]
  },
  {
   "cell_type": "code",
   "execution_count": 3,
   "id": "3000a310-7b44-48cf-90f1-a01b515407d1",
   "metadata": {},
   "outputs": [
    {
     "name": "stdout",
     "output_type": "stream",
     "text": [
      "hello_python\n"
     ]
    }
   ],
   "source": [
    "print('hello_python')"
   ]
  },
  {
   "cell_type": "code",
   "execution_count": 5,
   "id": "c759637f-cc3a-4c6e-8bea-09a8b7b78cfd",
   "metadata": {},
   "outputs": [
    {
     "name": "stdout",
     "output_type": "stream",
     "text": [
      "Merry X'Mas\n"
     ]
    }
   ],
   "source": [
    "print(\"Merry X'Mas\")"
   ]
  },
  {
   "cell_type": "code",
   "execution_count": 7,
   "id": "873efc7e-61f3-4d60-a55c-0ac70e88bd9b",
   "metadata": {},
   "outputs": [
    {
     "name": "stdout",
     "output_type": "stream",
     "text": [
      "I want to ask you \"Why don't you drive to work ?\"\n"
     ]
    }
   ],
   "source": [
    "print('I want to ask you \"Why don\\'t you drive to work ?\"')"
   ]
  },
  {
   "cell_type": "code",
   "execution_count": 8,
   "id": "b8bd6815-535e-40b6-b0c9-4d691842cca8",
   "metadata": {},
   "outputs": [
    {
     "name": "stdout",
     "output_type": "stream",
     "text": [
      "\"I don't have a car\"\n"
     ]
    }
   ],
   "source": [
    "print('\"I don\\'t have a car\"')"
   ]
  },
  {
   "cell_type": "code",
   "execution_count": 9,
   "id": "4acf343d-788d-4f65-803c-7023b7e3bf70",
   "metadata": {},
   "outputs": [
    {
     "name": "stdout",
     "output_type": "stream",
     "text": [
      "You got a new job !? That's so exciting\n"
     ]
    }
   ],
   "source": [
    "print(\"You got a new job !? That's so exciting\")"
   ]
  },
  {
   "cell_type": "code",
   "execution_count": 10,
   "id": "1a6d1f15-7549-494f-8cd7-bbd5e12cec44",
   "metadata": {},
   "outputs": [
    {
     "name": "stdout",
     "output_type": "stream",
     "text": [
      "สวัสดีวันจันทร์\n"
     ]
    }
   ],
   "source": [
    "print('สวัสดีวันจันทร์')"
   ]
  },
  {
   "cell_type": "code",
   "execution_count": 11,
   "id": "38930b58-e01e-4d1f-b24a-dfb5a55b4af7",
   "metadata": {},
   "outputs": [
    {
     "name": "stdout",
     "output_type": "stream",
     "text": [
      "ความแตกต่างระหว่างคนเก่งกับคนไม่เก่ง คือ \"การใช้เวลาว่างให้เกิดประโยชน์\"\n"
     ]
    }
   ],
   "source": [
    "print('ความแตกต่างระหว่างคนเก่งกับคนไม่เก่ง คือ \"การใช้เวลาว่างให้เกิดประโยชน์\"')"
   ]
  },
  {
   "cell_type": "code",
   "execution_count": 12,
   "id": "4190c1c7-716b-4ee2-8590-51b92e528354",
   "metadata": {},
   "outputs": [
    {
     "name": "stdout",
     "output_type": "stream",
     "text": [
      "/\\/\\/\\\n"
     ]
    }
   ],
   "source": [
    "print('/\\\\/\\\\/\\\\')"
   ]
  },
  {
   "cell_type": "code",
   "execution_count": 1,
   "id": "a3f7beb1-983f-4d08-a5f0-a977aed133df",
   "metadata": {},
   "outputs": [
    {
     "name": "stdout",
     "output_type": "stream",
     "text": [
      "\n",
      "a\n",
      "an\n",
      "ant\n"
     ]
    }
   ],
   "source": [
    "print('''\n",
    "a\n",
    "an\n",
    "ant''')"
   ]
  },
  {
   "cell_type": "code",
   "execution_count": 3,
   "id": "d34943b5-4daf-4745-af80-e4ce55139af6",
   "metadata": {},
   "outputs": [
    {
     "name": "stdout",
     "output_type": "stream",
     "text": [
      "\n",
      "\t*\n",
      "*\t*\t*\n",
      "\t*\n",
      "\n"
     ]
    }
   ],
   "source": [
    "print('''\n",
    "\\t*\n",
    "*\\t*\\t*\n",
    "\\t*\n",
    "''')"
   ]
  },
  {
   "cell_type": "code",
   "execution_count": 4,
   "id": "e721365b-5b57-444e-ad61-27e28d329acd",
   "metadata": {},
   "outputs": [
    {
     "name": "stdout",
     "output_type": "stream",
     "text": [
      "\n",
      "*\t+\t*\n",
      "+\t*\t+\n",
      "*\t+\t*\n",
      "\n"
     ]
    }
   ],
   "source": [
    "print('''\n",
    "*\\t+\\t*\n",
    "+\\t*\\t+\n",
    "*\\t+\\t*\n",
    "''')"
   ]
  },
  {
   "cell_type": "code",
   "execution_count": 6,
   "id": "09fbe752-71a0-4b34-878b-71d01888e0a2",
   "metadata": {},
   "outputs": [
    {
     "name": "stdout",
     "output_type": "stream",
     "text": [
      "\n",
      "Just because something\n",
      "thinks differently from you,\n",
      "does that mean it's not thonking ?\n"
     ]
    }
   ],
   "source": [
    "print(\"\"\"\n",
    "Just because something\n",
    "thinks differently from you,\n",
    "does that mean it's not thonking ?\"\"\")"
   ]
  },
  {
   "cell_type": "code",
   "execution_count": 9,
   "id": "e600ef24-fed6-4aa6-8833-bc9dcf5f61ae",
   "metadata": {},
   "outputs": [
    {
     "name": "stdout",
     "output_type": "stream",
     "text": [
      "\n",
      "\\\t\t/\n",
      "\tx\t\n",
      "/\t\t\\\n",
      "\n"
     ]
    }
   ],
   "source": [
    "print('''\n",
    "\\\\\\t\\t/\n",
    "\\tx\\t\n",
    "/\\t\\t\\\\\n",
    "''')"
   ]
  },
  {
   "cell_type": "code",
   "execution_count": 10,
   "id": "6a6b4e75-3fea-484d-a5db-f97b941914c5",
   "metadata": {},
   "outputs": [
    {
     "name": "stdout",
     "output_type": "stream",
     "text": [
      "25\n"
     ]
    }
   ],
   "source": [
    "print('%d' %25)"
   ]
  },
  {
   "cell_type": "code",
   "execution_count": 11,
   "id": "ae1a6570-055b-4e78-adff-dba936a0ce8e",
   "metadata": {},
   "outputs": [
    {
     "name": "stdout",
     "output_type": "stream",
     "text": [
      "100.000000\n"
     ]
    }
   ],
   "source": [
    "print('%f' %100)"
   ]
  },
  {
   "cell_type": "code",
   "execution_count": 21,
   "id": "9c326a31-4e0d-46d0-a3fe-372547568dbc",
   "metadata": {},
   "outputs": [
    {
     "name": "stdout",
     "output_type": "stream",
     "text": [
      "3.141592653589793\n",
      "3.141592653589793\n"
     ]
    }
   ],
   "source": [
    "from math import pi\n",
    "\n",
    "print('%s' %3.141592653589793) #sol 1\n",
    "print('%.15f' %pi) # sol 2"
   ]
  },
  {
   "cell_type": "code",
   "execution_count": 14,
   "id": "4f81512f-d2c1-49f4-b573-43aaee288dc3",
   "metadata": {},
   "outputs": [
    {
     "name": "stdout",
     "output_type": "stream",
     "text": [
      "2\n"
     ]
    }
   ],
   "source": [
    "a = 2 \n",
    "print(a)"
   ]
  },
  {
   "cell_type": "code",
   "execution_count": 15,
   "id": "f7fb500c-ef05-4bfc-abba-e20b0fd41a64",
   "metadata": {},
   "outputs": [
    {
     "name": "stdout",
     "output_type": "stream",
     "text": [
      "12.5\n"
     ]
    }
   ],
   "source": [
    "a = 12.5\n",
    "print(a)"
   ]
  },
  {
   "cell_type": "code",
   "execution_count": 31,
   "id": "52762e02-2d26-4f62-9efa-d5ec35991ac1",
   "metadata": {},
   "outputs": [
    {
     "name": "stdout",
     "output_type": "stream",
     "text": [
      "2 x 3 = 6\n",
      "2 x 3 = 6\n",
      "2 x 3 = 6\n"
     ]
    }
   ],
   "source": [
    "a = 2 \n",
    "b = 3 \n",
    "\n",
    "print('%d x %d = %d' %(a,b, a*b))\n",
    "print(a, 'x', b, '=', a*b)\n",
    "print('2 x 3 = ' + str(a*b))"
   ]
  },
  {
   "cell_type": "code",
   "execution_count": 33,
   "id": "7d3d7112-005e-4c24-8367-d4ccdd5bb742",
   "metadata": {},
   "outputs": [
    {
     "name": "stdout",
     "output_type": "stream",
     "text": [
      "2 + 3 = 3 + 2 = 5\n",
      "2 + 3 = 3 + 2 = 5\n"
     ]
    }
   ],
   "source": [
    "a = 2 \n",
    "b = 3 \n",
    "\n",
    "print('2 + 3 = 3 + 2 = ' + str(a+b))\n",
    "print('%d + %d = %d + %d = %d' %(a, b, b, a, a+b))"
   ]
  },
  {
   "cell_type": "code",
   "execution_count": 39,
   "id": "cea5dac4-9b47-4008-be9a-6023afd493f8",
   "metadata": {},
   "outputs": [
    {
     "name": "stdout",
     "output_type": "stream",
     "text": [
      "2*(3 + 5) = 2*3 + 2*5\n",
      "2*(3 + 5) = 2*3 + 2*5\n"
     ]
    }
   ],
   "source": [
    "a, b ,c = 2, 3 ,5\n",
    "\n",
    "print('%d*(%d + %d) = %d*%d + %d*%d' %(2, 3, 5, 2, 3, 2, 5))\n",
    "print('2*(3 + 5) = 2*3 + 2*5')"
   ]
  },
  {
   "cell_type": "code",
   "execution_count": 42,
   "id": "6ef37397-9eb7-496b-bea1-9b3696e08bd3",
   "metadata": {},
   "outputs": [
    {
     "name": "stdout",
     "output_type": "stream",
     "text": [
      "2.4 + 2.5 = 4.9000\n"
     ]
    }
   ],
   "source": [
    "a, b = 2.4, 2.5\n",
    "\n",
    "print('%.1f + %.1f = %.4f' %(a, b ,a +b))"
   ]
  },
  {
   "cell_type": "code",
   "execution_count": 45,
   "id": "e1c790a0-1596-4133-91f3-74d592d7c44b",
   "metadata": {},
   "outputs": [
    {
     "name": "stdout",
     "output_type": "stream",
     "text": [
      "5.00 - 2.00 = 3.0000\n"
     ]
    }
   ],
   "source": [
    "a, b = 5, 2\n",
    "\n",
    "print('%.2f - %.2f = %.4f' %(a, b, a-b))"
   ]
  },
  {
   "cell_type": "code",
   "execution_count": 59,
   "id": "1e6b8075-aeeb-424a-a8c0-bb66b9bb7e45",
   "metadata": {},
   "outputs": [
    {
     "name": "stdout",
     "output_type": "stream",
     "text": [
      "ฉันเกิดวันที่ 25 ธันวาคม\n",
      "ฉันเกิดวันที่ 25 ธันวาคม\n",
      "ฉันเกิดวันที่ 25 ธันวาคม\n"
     ]
    }
   ],
   "source": [
    "birthday = 25\n",
    "\n",
    "print('ฉันเกิดวันที่ ' + str(birthday) + ' ธันวาคม')\n",
    "print('ฉันเกิดวันที่', birthday, 'ธันวาคม')\n",
    "print(f'ฉันเกิดวันที่ {birthday} ธันวาคม')"
   ]
  },
  {
   "cell_type": "code",
   "execution_count": 63,
   "id": "876d60ef-9294-4d79-99c4-129c43a908ed",
   "metadata": {},
   "outputs": [
    {
     "name": "stdout",
     "output_type": "stream",
     "text": [
      "5 เท่าของ 100 มีค่าเท่ากับ 500\n",
      "5 เท่าของ 100 มีค่าเท่ากับ 500\n",
      "5 เท่าของ 100 มีค่าเท่ากับ 500\n"
     ]
    }
   ],
   "source": [
    "a, b = 5, 100\n",
    "\n",
    "print('5 เท่าของ 100 มีค่าเท่ากับ ' + str(a*b))\n",
    "print('%d เท่าของ %d มีค่าเท่ากับ %d' %(a, b, a*b))\n",
    "print(f'{a} เท่าของ {b} มีค่าเท่ากับ {a*b}')"
   ]
  },
  {
   "cell_type": "code",
   "execution_count": 64,
   "id": "849fb5ea-9627-4b97-8e8b-f39352906ebf",
   "metadata": {},
   "outputs": [
    {
     "name": "stdout",
     "output_type": "stream",
     "text": [
      "เขามีเงินเยอะกว่าฉัน 3.50\n"
     ]
    }
   ],
   "source": [
    "a = 3.5\n",
    "\n",
    "print('เขามีเงินเยอะกว่าฉัน %.2f' %a)"
   ]
  },
  {
   "cell_type": "code",
   "execution_count": 79,
   "id": "327b0ae3-1b7c-412a-8a19-9a7c6030ae95",
   "metadata": {},
   "outputs": [
    {
     "name": "stdout",
     "output_type": "stream",
     "text": [
      "ฉันได้กำไร 5 %\n",
      "ฉันได้กำไร 5 %\n",
      "ฉันได้กำไร 5 %\n"
     ]
    }
   ],
   "source": [
    "a = 5\n",
    "\n",
    "print('ฉันได้กำไร ' + str(a) + ' %')\n",
    "print('ฉันได้กำไร',5, '%')\n",
    "print('ฉันได้กำไร %d %%' %a)"
   ]
  },
  {
   "cell_type": "code",
   "execution_count": 84,
   "id": "9d95de59-27a9-4865-9925-2d3eb3572963",
   "metadata": {},
   "outputs": [
    {
     "name": "stdout",
     "output_type": "stream",
     "text": [
      "เมื่อวานฉันขาดทุน 2 % วันนี้ฉันได้กำไร 3.50 %\n"
     ]
    }
   ],
   "source": [
    "a, b = 2, 3.5\n",
    "\n",
    "print('เมื่อวานฉันขาดทุน %d %% วันนี้ฉันได้กำไร %.2f %%' %(a, b))"
   ]
  },
  {
   "cell_type": "markdown",
   "id": "e6cd462a-88bf-4062-bbd4-fe235a899ff1",
   "metadata": {},
   "source": [
    "Finished!!!!"
   ]
  }
 ],
 "metadata": {
  "kernelspec": {
   "display_name": "Python 3 (ipykernel)",
   "language": "python",
   "name": "python3"
  },
  "language_info": {
   "codemirror_mode": {
    "name": "ipython",
    "version": 3
   },
   "file_extension": ".py",
   "mimetype": "text/x-python",
   "name": "python",
   "nbconvert_exporter": "python",
   "pygments_lexer": "ipython3",
   "version": "3.11.7"
  }
 },
 "nbformat": 4,
 "nbformat_minor": 5
}
