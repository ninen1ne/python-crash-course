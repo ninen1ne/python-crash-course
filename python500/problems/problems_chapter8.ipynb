{
 "cells": [
  {
   "cell_type": "code",
   "execution_count": 1,
   "id": "eb588c0b-6c0c-4d6d-a8aa-826b809a7d7b",
   "metadata": {},
   "outputs": [
    {
     "name": "stdin",
     "output_type": "stream",
     "text": [
      "Enter your number(integer):  1\n"
     ]
    },
    {
     "name": "stdout",
     "output_type": "stream",
     "text": [
      "This number is odd.\n"
     ]
    }
   ],
   "source": [
    "# 1\n",
    "int_1 = int(input('Enter your number(integer): '))\n",
    "\n",
    "if int_1 % 2 == 0:\n",
    "    print('This number is even.')\n",
    "else:\n",
    "    print('This number is odd.')"
   ]
  },
  {
   "cell_type": "code",
   "execution_count": 2,
   "id": "8ee221fa-6927-4461-accd-56e0c0f73825",
   "metadata": {},
   "outputs": [
    {
     "name": "stdin",
     "output_type": "stream",
     "text": [
      "Enter your number(integer):  1\n"
     ]
    },
    {
     "name": "stdout",
     "output_type": "stream",
     "text": [
      "1: This number is greater-than 0.\n"
     ]
    }
   ],
   "source": [
    "# 2\n",
    "number = int(input('Enter your number(integer): '))\n",
    "\n",
    "if number > 0:\n",
    "    print(str(number) + ':' + ' This number is greater-than 0.')\n",
    "else:\n",
    "    print(str(number) + ':' + ' This number is less-than or equal to 0.')"
   ]
  },
  {
   "cell_type": "code",
   "execution_count": 3,
   "id": "0370cfe4-272c-4cc2-994e-1959c1242602",
   "metadata": {},
   "outputs": [
    {
     "name": "stdin",
     "output_type": "stream",
     "text": [
      "Enter your number(real-number):  12\n"
     ]
    },
    {
     "name": "stdout",
     "output_type": "stream",
     "text": [
      "Positive\n"
     ]
    }
   ],
   "source": [
    "# 3 \n",
    "real_1 = float(input('Enter your number(real-number): '))\n",
    "\n",
    "if real_1 > 0:\n",
    "    print('Positive')\n",
    "elif real_1 < 0:\n",
    "    print('Negative')\n",
    "else:\n",
    "    print('Zero')"
   ]
  },
  {
   "cell_type": "code",
   "execution_count": 4,
   "id": "4f5c4527-c029-44bc-a19d-720a4a84ae26",
   "metadata": {},
   "outputs": [
    {
     "name": "stdin",
     "output_type": "stream",
     "text": [
      "Enter your number:  12\n"
     ]
    },
    {
     "name": "stdout",
     "output_type": "stream",
     "text": [
      "positive even\n"
     ]
    }
   ],
   "source": [
    "# 4\n",
    "int_num = int(input('Enter your number: '))\n",
    "\n",
    "if int_num > 0:\n",
    "    if int_num % 2 == 0:\n",
    "        print('positive even')\n",
    "    else:\n",
    "        print('positive odd')\n",
    "elif int_num < 0:\n",
    "    if int_num % 2 == 0:\n",
    "        print('negative even')\n",
    "    else:\n",
    "        print('negative odd')\n",
    "else:\n",
    "    print('zero')"
   ]
  },
  {
   "cell_type": "code",
   "execution_count": 5,
   "id": "9ceb6e0f-640d-4225-a8e5-e01d31317a5a",
   "metadata": {},
   "outputs": [
    {
     "name": "stdin",
     "output_type": "stream",
     "text": [
      "Enter width of rectangle(integer):  12\n",
      "Enter length of rectangle(integer):  12\n"
     ]
    },
    {
     "name": "stdout",
     "output_type": "stream",
     "text": [
      "Area of rectangle is: 144\n"
     ]
    }
   ],
   "source": [
    "# 5\n",
    "width = int(input('Enter width of rectangle(integer): '))\n",
    "length = int(input('Enter length of rectangle(integer): '))\n",
    "\n",
    "if width <= 0 or length <= 0:\n",
    "    print('Please enter only positive integer.')\n",
    "else:\n",
    "    area = width * length\n",
    "    print('Area of rectangle is:', area)\n"
   ]
  },
  {
   "cell_type": "code",
   "execution_count": 6,
   "id": "b85c4868-508f-4365-9b90-aac681601feb",
   "metadata": {},
   "outputs": [
    {
     "name": "stdin",
     "output_type": "stream",
     "text": [
      "Enter AD:  12\n"
     ]
    },
    {
     "name": "stdout",
     "output_type": "stream",
     "text": [
      "BE = 555\n"
     ]
    }
   ],
   "source": [
    "# 6\n",
    "AD = int(input('Enter AD: '))\n",
    "\n",
    "if AD >= 0:\n",
    "    BE = AD + 543\n",
    "    print('BE =', BE)\n",
    "else:\n",
    "    print('กรุณากรอกข้อมูลที่มากกว่าหรือเท่ากับ 0')\n",
    "    "
   ]
  },
  {
   "cell_type": "code",
   "execution_count": 7,
   "id": "7cb89f6b-13d5-4489-94e2-42c9f9feaecb",
   "metadata": {},
   "outputs": [
    {
     "name": "stdin",
     "output_type": "stream",
     "text": [
      "Enter temperature(Fahrenheit):  12\n"
     ]
    },
    {
     "name": "stdout",
     "output_type": "stream",
     "text": [
      "cold\n"
     ]
    }
   ],
   "source": [
    "# 7 Fahrenheit to Celsius.\n",
    "fahrenheit = float(input('Enter temperature(Fahrenheit): '))\n",
    "\n",
    "if fahrenheit >= 32:\n",
    "    c = (5*(fahrenheit-32))/9\n",
    "    print(c)\n",
    "else:\n",
    "    print('cold')"
   ]
  },
  {
   "cell_type": "code",
   "execution_count": 8,
   "id": "83f721aa-3dcc-4ce1-94be-53f0fa1d7f0e",
   "metadata": {},
   "outputs": [
    {
     "name": "stdin",
     "output_type": "stream",
     "text": [
      "Enter amount of money you want to exchange(USD):  12\n"
     ]
    },
    {
     "name": "stdout",
     "output_type": "stream",
     "text": [
      "390.0 บาท\n"
     ]
    }
   ],
   "source": [
    "# 8 USD to THB\n",
    "USD = float(input('Enter amount of money you want to exchange(USD): '))\n",
    "\n",
    "if USD > 0:\n",
    "    THB = USD * 32.5\n",
    "    print(THB, 'บาท')\n",
    "else:\n",
    "    print(\"You don't have money.\")"
   ]
  },
  {
   "cell_type": "code",
   "execution_count": 9,
   "id": "1a1ddbaf-937d-46df-bd78-ef4d33e74463",
   "metadata": {},
   "outputs": [
    {
     "name": "stdin",
     "output_type": "stream",
     "text": [
      "Enter amount of money you want to exchange(THB):  12\n"
     ]
    },
    {
     "name": "stdout",
     "output_type": "stream",
     "text": [
      " 0.3658536585365854 Dollars\n",
      "Profit bank gain form exchange 0.10975609756097562 baht.\n"
     ]
    }
   ],
   "source": [
    "# 9 THB to USD abd bank profit.\n",
    "THB = float(input('Enter amount of money you want to exchange(THB): '))\n",
    "\n",
    "if THB > 0:\n",
    "    USD = THB / 32.80\n",
    "    profit = USD * 0.3\n",
    "    print(' %s Dollars' %USD)\n",
    "    print('Profit bank gain form exchange %s baht.' %(0.3*USD))\n",
    "else:\n",
    "    print(\"you don't have money.\")"
   ]
  },
  {
   "cell_type": "code",
   "execution_count": 10,
   "id": "99411d01-549f-4111-a4f6-4c8daafb120d",
   "metadata": {},
   "outputs": [
    {
     "name": "stdin",
     "output_type": "stream",
     "text": [
      "Enter your first number(real_number):  12\n",
      "Enter your second number(real_number):  12\n"
     ]
    },
    {
     "name": "stdout",
     "output_type": "stream",
     "text": [
      "มีค่าเท่ากัน\n"
     ]
    }
   ],
   "source": [
    "# 10 Greater-than or equal to.\n",
    "real_1 = float(input('Enter your first number(real_number): '))\n",
    "real_2 = float(input('Enter your second number(real_number): '))\n",
    "\n",
    "if real_1 > real_2:\n",
    "    print(real_1)\n",
    "elif real_1 < real_2:\n",
    "    print(real_2)\n",
    "else:\n",
    "    print('มีค่าเท่ากัน')"
   ]
  },
  {
   "cell_type": "code",
   "execution_count": 11,
   "id": "3e253b13-c537-4b6c-85bf-8e36195d2d95",
   "metadata": {},
   "outputs": [
    {
     "name": "stdin",
     "output_type": "stream",
     "text": [
      "Enter your first message:  asdasd\n",
      "Enter your second message:  sadasd\n"
     ]
    },
    {
     "name": "stdout",
     "output_type": "stream",
     "text": [
      "same\n"
     ]
    }
   ],
   "source": [
    "# 11\n",
    "str_1 = input('Enter your first message: ')\n",
    "str_2 = input('Enter your second message: ')\n",
    "\n",
    "if len(str_1) == len(str_2):\n",
    "    print('same')\n",
    "else:\n",
    "    print('not same')"
   ]
  },
  {
   "cell_type": "code",
   "execution_count": 12,
   "id": "f0cdb8d0-a1dd-4a97-bc4b-03c342d95359",
   "metadata": {},
   "outputs": [
    {
     "name": "stdin",
     "output_type": "stream",
     "text": [
      "Enter your number here(integer):  21212\n"
     ]
    },
    {
     "name": "stdout",
     "output_type": "stream",
     "text": [
      "หารด้วย 3 ไม่ลงตัว\n"
     ]
    }
   ],
   "source": [
    "# 12\n",
    "int_1 = int(input('Enter your number here(integer): '))\n",
    "\n",
    "if int_1 % 3 == 0:\n",
    "    print('หารด้วย 3 ลงตัว')\n",
    "else:\n",
    "    print('หารด้วย 3 ไม่ลงตัว')"
   ]
  },
  {
   "cell_type": "code",
   "execution_count": 13,
   "id": "bb89f86b-3a28-46c5-b7b8-35b6a34c2f44",
   "metadata": {},
   "outputs": [
    {
     "name": "stdin",
     "output_type": "stream",
     "text": [
      "Enter your number:  12\n"
     ]
    },
    {
     "name": "stdout",
     "output_type": "stream",
     "text": [
      "หารด้วย 3 และ 5 ไม่ลงตัว\n"
     ]
    }
   ],
   "source": [
    "# 13 หาร 3 และ 5 ลงตัว.\n",
    "int_1 = int(input('Enter your number: '))\n",
    "\n",
    "if int_1 % 3 == 0 and int_1 % 5 == 0:\n",
    "    print('หารด้วย 3 และ 5 ลงตัว')\n",
    "else:\n",
    "    print('หารด้วย 3 และ 5 ไม่ลงตัว')"
   ]
  },
  {
   "cell_type": "code",
   "execution_count": 14,
   "id": "ba5f5cfb-4444-405e-bf26-09bf8f6f233c",
   "metadata": {},
   "outputs": [
    {
     "name": "stdin",
     "output_type": "stream",
     "text": [
      "Enter your number:  12\n"
     ]
    },
    {
     "name": "stdout",
     "output_type": "stream",
     "text": [
      "หารด้วย 3 หรือ 5 ลงตัว\n"
     ]
    }
   ],
   "source": [
    "# 14  หารด้วย 3 หรือ 5 ลงตัว.\n",
    "int_1 = int(input('Enter your number: '))\n",
    "\n",
    "if int_1 % 3 == 0 or int_1 % 5 == 0:\n",
    "    print('หารด้วย 3 หรือ 5 ลงตัว')\n",
    "else:\n",
    "    print('หารด้วย 3 หรือ 5 ไม่ลงตัว')"
   ]
  },
  {
   "cell_type": "code",
   "execution_count": 15,
   "id": "82245ec6-f822-4101-a15e-adce75078eeb",
   "metadata": {},
   "outputs": [
    {
     "name": "stdin",
     "output_type": "stream",
     "text": [
      "Enter your first number:  12\n",
      "Enter your second number:  1\n",
      "Enter your third number:  2\n"
     ]
    },
    {
     "name": "stdout",
     "output_type": "stream",
     "text": [
      "a + b > c\n"
     ]
    }
   ],
   "source": [
    "# 15 Check if r1 + r2 > r3\n",
    "r1 = float(input('Enter your first number: '))\n",
    "r2 = float(input('Enter your second number: '))\n",
    "r3 = float(input('Enter your third number: '))\n",
    "\n",
    "if r1 + r2 > r3:\n",
    "    print('a + b > c')"
   ]
  },
  {
   "cell_type": "code",
   "execution_count": 16,
   "id": "079881c4-453c-4987-809d-49af072037ff",
   "metadata": {},
   "outputs": [
    {
     "name": "stdin",
     "output_type": "stream",
     "text": [
      "hour:  12\n",
      "minute:  1\n"
     ]
    },
    {
     "name": "stdout",
     "output_type": "stream",
     "text": [
      "360\n"
     ]
    }
   ],
   "source": [
    "# 16 คำนวณค่าจอดรถ\n",
    "hour = int(input('hour: '))\n",
    "minute = int(input('minute: '))\n",
    "\n",
    "if minute > 0:\n",
    "    hour = hour + 1 \n",
    "cost = 30*(hour-1)\n",
    "\n",
    "print(cost)"
   ]
  },
  {
   "cell_type": "code",
   "execution_count": 17,
   "id": "03bdd926-8ad3-4d7b-af98-ebc1729b27c1",
   "metadata": {},
   "outputs": [
    {
     "name": "stdin",
     "output_type": "stream",
     "text": [
      "hour:  12\n",
      "minute:  1\n"
     ]
    },
    {
     "name": "stdout",
     "output_type": "stream",
     "text": [
      "360\n"
     ]
    }
   ],
   "source": [
    "# 17 คำนวณค่าจอดรถ upgrade.\n",
    "hour = int(input('hour: '))\n",
    "minute = int(input('minute: '))\n",
    "\n",
    "if hour < 0 or minute < 0:\n",
    "    print('โปรดใส่ข้อมูลที่ไม่ติดลบ')\n",
    "else:\n",
    "    if minute > 0:\n",
    "        hour = hour + 1 \n",
    "    cost = 30*(hour-1)\n",
    "    print(cost)\n"
   ]
  },
  {
   "cell_type": "code",
   "execution_count": 18,
   "id": "80177f60-80e1-4767-b2c5-ef058ec45704",
   "metadata": {},
   "outputs": [
    {
     "name": "stdin",
     "output_type": "stream",
     "text": [
      "bill:  1\n",
      "hour:  1\n",
      "minute:  1\n"
     ]
    },
    {
     "name": "stdout",
     "output_type": "stream",
     "text": [
      "30\n"
     ]
    }
   ],
   "source": [
    "# 18 คำนวณค่าจอดรถ upgrade!!!\n",
    "bill = int(input('bill: '))\n",
    "hour = int(input('hour: '))\n",
    "minute = int(input('minute: '))\n",
    "\n",
    "if minute > 0:\n",
    "    hour = hour + 1\n",
    "\n",
    "if bill >= 1000:\n",
    "    cost = 30*(hour-4)\n",
    "    if cost < 0:\n",
    "        cost = 0  \n",
    "else:\n",
    "    cost = 30*(hour-1)\n",
    "\n",
    "print(cost)"
   ]
  },
  {
   "cell_type": "code",
   "execution_count": 19,
   "id": "a39f7312-38b2-4d29-b3fa-8fcf6418769c",
   "metadata": {},
   "outputs": [
    {
     "name": "stdin",
     "output_type": "stream",
     "text": [
      "bill:  1\n"
     ]
    },
    {
     "name": "stdout",
     "output_type": "stream",
     "text": [
      "1.0\n"
     ]
    }
   ],
   "source": [
    "# 19 discount\n",
    "bill = float(input('bill: '))\n",
    "\n",
    "if bill >= 50000:\n",
    "    charge = bill * 0.8\n",
    "elif bill >= 10000:\n",
    "    charge = bill * 0.85\n",
    "elif bill >= 1000:\n",
    "    charge = bill * 0.9\n",
    "else:\n",
    "    charge = bill\n",
    "print(charge)"
   ]
  },
  {
   "cell_type": "code",
   "execution_count": 20,
   "id": "b741d8e1-b008-4c9f-be4b-39a8585adf09",
   "metadata": {},
   "outputs": [
    {
     "name": "stdin",
     "output_type": "stream",
     "text": [
      "Enter your gender:  1\n",
      "Enter your weight:  1\n",
      "Enter your height:  1\n"
     ]
    }
   ],
   "source": [
    "# 20 trainner tired. tell customer who should work out.\n",
    "gender = input('Enter your gender: ')\n",
    "weight = float(input('Enter your weight: '))\n",
    "height = int(input('Enter your height: '))\n",
    "\n",
    "if gender == 'ชาย':\n",
    "    if weight > (height-100):\n",
    "        print('ควรออกกำลังกาย')\n",
    "    else:\n",
    "        print('คุณผู้ชายหุ่นดีเยี่ยม')\n",
    "elif gender == 'หญิง':\n",
    "    if weight > (height-110):\n",
    "        print('ควรออกกำลังกาย')\n",
    "    else:\n",
    "        print('คุณผู้หญิงหุ่นดีเยี่ยม')"
   ]
  },
  {
   "cell_type": "code",
   "execution_count": 21,
   "id": "e774f6ab-ec4a-43a0-a51c-d2876697acad",
   "metadata": {},
   "outputs": [
    {
     "name": "stdin",
     "output_type": "stream",
     "text": [
      "Enter velocity:  1\n"
     ]
    }
   ],
   "source": [
    "# 21 speed detector.\n",
    "velocity = float(input('Enter velocity: '))\n",
    "\n",
    "if velocity > 120:\n",
    "    print('ออกใบสั่ง')"
   ]
  },
  {
   "cell_type": "code",
   "execution_count": 22,
   "id": "72943cea-35f8-4f6d-a37b-4b898ab1cc6e",
   "metadata": {},
   "outputs": [
    {
     "name": "stdin",
     "output_type": "stream",
     "text": [
      "Enter velocity:  1\n"
     ]
    }
   ],
   "source": [
    "# 22 speend detector with money.\n",
    "velocity = float(input('Enter velocity: '))\n",
    "\n",
    "if velocity > 120:\n",
    "    print('ปรับ 1,000 บาท')\n",
    "elif 80 < velocity < 120:\n",
    "    print('ปรับ 500 บาท')"
   ]
  },
  {
   "cell_type": "code",
   "execution_count": 23,
   "id": "f625c9e6-22e7-437d-9cb8-23c4cee8ccd4",
   "metadata": {},
   "outputs": [
    {
     "name": "stdin",
     "output_type": "stream",
     "text": [
      "your listen time(hour):  1\n"
     ]
    },
    {
     "name": "stdout",
     "output_type": "stream",
     "text": [
      "ขอให้สนุกกับการฟังเพลง\n"
     ]
    }
   ],
   "source": [
    "# 23 list time.\n",
    "listen_time = float(input('your listen time(hour): '))\n",
    "\n",
    "if listen_time > 4:\n",
    "    print('อันตรายต่อหู')\n",
    "else:\n",
    "    print('ขอให้สนุกกับการฟังเพลง')"
   ]
  },
  {
   "cell_type": "code",
   "execution_count": 24,
   "id": "271edffc-0711-4503-a716-d140cea0e3bb",
   "metadata": {},
   "outputs": [
    {
     "name": "stdin",
     "output_type": "stream",
     "text": [
      "Traffic status('คล่องตัว', 'ปานกลาง', 'หนาเเน่น'):  ปานกลาง\n",
      "Enter distance:  12\n"
     ]
    },
    {
     "name": "stdout",
     "output_type": "stream",
     "text": [
      "144.0\n"
     ]
    }
   ],
   "source": [
    "# 24 travel cost.\n",
    "status = input(\"Traffic status('คล่องตัว', 'ปานกลาง', 'หนาเเน่น'): \")\n",
    "distance = float(input('Enter distance: '))\n",
    "\n",
    "if status == 'คล่องตัว':\n",
    "    cost = distance * 10\n",
    "elif status == 'ปานกลาง':\n",
    "    cost = distance * 12\n",
    "elif status == 'หนาเเน่น':\n",
    "    cost = distance * 15\n",
    "print(cost)"
   ]
  },
  {
   "cell_type": "code",
   "execution_count": 25,
   "id": "53b85296-3f69-469b-a323-a75e0f98fe21",
   "metadata": {},
   "outputs": [
    {
     "name": "stdin",
     "output_type": "stream",
     "text": [
      "Enter student score:  12\n"
     ]
    },
    {
     "name": "stdout",
     "output_type": "stream",
     "text": [
      "Fail\n"
     ]
    }
   ],
   "source": [
    "# 25 Score Pass n' Fail.\n",
    "score = int(input('Enter student score: '))\n",
    "\n",
    "if score >= 50:\n",
    "    print('Pass')\n",
    "else:\n",
    "    print('Fail')"
   ]
  },
  {
   "cell_type": "code",
   "execution_count": 26,
   "id": "6d73d2c7-f283-4f26-83d5-a5d98e527fae",
   "metadata": {},
   "outputs": [
    {
     "name": "stdin",
     "output_type": "stream",
     "text": [
      "Enter student score:  12\n"
     ]
    },
    {
     "name": "stdout",
     "output_type": "stream",
     "text": [
      "F\n"
     ]
    }
   ],
   "source": [
    "# 26 Score A to F.\n",
    "score = int(input('Enter student score: '))\n",
    "\n",
    "if score >= 80:\n",
    "    print('A')\n",
    "elif score >= 70:\n",
    "    print('B')\n",
    "elif score >= 60:\n",
    "    print('C')\n",
    "elif score >= 50:\n",
    "    print('D')\n",
    "else:\n",
    "    print('F')"
   ]
  },
  {
   "cell_type": "code",
   "execution_count": 27,
   "id": "3fdaeeff-b7d8-4a0d-bb18-4a81cce5f457",
   "metadata": {},
   "outputs": [
    {
     "name": "stdin",
     "output_type": "stream",
     "text": [
      "member or not?(yes, no):  no\n",
      "Enter your bill:  12\n"
     ]
    },
    {
     "name": "stdout",
     "output_type": "stream",
     "text": [
      "your is count is: 0 dollars\n"
     ]
    }
   ],
   "source": [
    "# 27 Discount.\n",
    "ismember = input('member or not?(yes, no): ')\n",
    "bill = float(input('Enter your bill: '))\n",
    "\n",
    "if ismember == 'yes':\n",
    "    if bill >= 5000:\n",
    "        discount = bill * 0.15\n",
    "    elif bill >= 1000:\n",
    "        discount = bill * 0.1\n",
    "    elif bill >= 500:\n",
    "        discount = bill * 0.05\n",
    "    else:\n",
    "        discount = 0\n",
    "elif ismember == 'no':\n",
    "    discount = 0\n",
    "print('your is count is: ' + str(discount) + ' dollars')"
   ]
  },
  {
   "cell_type": "code",
   "execution_count": 28,
   "id": "9bd0cef3-61e9-45df-99bb-23dbcce177ad",
   "metadata": {},
   "outputs": [
    {
     "name": "stdin",
     "output_type": "stream",
     "text": [
      "Enter your currency(USD or JYP):  usd\n",
      "Enter amount of money you want to exchange.:  1\n"
     ]
    },
    {
     "name": "stdout",
     "output_type": "stream",
     "text": [
      "total THB money you can exchange: 32.5 baht\n"
     ]
    }
   ],
   "source": [
    "# 28 Money exchange.\n",
    "currency = input('Enter your currency(USD or JYP): ')\n",
    "amount = float(input('Enter amount of money you want to exchange.: '))\n",
    "\n",
    "if currency.upper() == 'USD':\n",
    "    THB = amount * 32.5\n",
    "elif currency.upper() == 'JYP':\n",
    "    THB = amount * 0.29\n",
    "\n",
    "print('total THB money you can exchange: ' + str(THB) + ' baht')"
   ]
  },
  {
   "cell_type": "code",
   "execution_count": 29,
   "id": "a368a18e-00cb-4909-a01c-821fefa6667a",
   "metadata": {},
   "outputs": [
    {
     "name": "stdin",
     "output_type": "stream",
     "text": [
      "Choose your order('ไข่ดาว', 'ไข่เจียว', 'ไข่ต้ม'):  ไข่ต้ม\n",
      "Enter amount of food you've ordered: 500\n"
     ]
    },
    {
     "name": "stdout",
     "output_type": "stream",
     "text": [
      "2500\n"
     ]
    }
   ],
   "source": [
    "# 29 eggs.\n",
    "order = input(\"Choose your order('ไข่ดาว', 'ไข่เจียว', 'ไข่ต้ม'): \")\n",
    "amount = int(input(\"Enter amount of food you've ordered:\"))\n",
    "\n",
    "if order == 'ไข่ดาว':\n",
    "    price = amount * 7\n",
    "    print(price)\n",
    "elif order == 'เจียว':\n",
    "    price = amount * 10\n",
    "    print(price)\n",
    "if order == 'ไข่ต้ม':\n",
    "    price = amount * 5\n",
    "    print(price)\n",
    "else:\n",
    "    print('ร้านเรามีไข่ดาว, ไข่เจียว, ไข่ต้ม')    "
   ]
  },
  {
   "cell_type": "code",
   "execution_count": 2,
   "id": "9db65122-1aaf-4d7b-9736-2f5422882052",
   "metadata": {},
   "outputs": [
    {
     "name": "stdin",
     "output_type": "stream",
     "text": [
      "Choose your order('ไข่ดาว', 'ไข่เจียว', 'ไข่ต้ม'):  ไข่ดาว\n"
     ]
    },
    {
     "name": "stdout",
     "output_type": "stream",
     "text": [
      "แนะนำให้สั่งคู่กับไข่น้ำ\n"
     ]
    }
   ],
   "source": [
    "# 30 Tie-in product.\n",
    "order = input(\"Choose your order('ไข่ดาว', 'ไข่เจียว', 'ไข่ต้ม'): \")\n",
    "\n",
    "if order == 'ไข่ดาว':\n",
    "    print('แนะนำให้สั่งคู่กับไข่น้ำ')\n",
    "elif order == 'ไข่เจียว':\n",
    "    print('แนะนำให้สั่งคู่กับไข่ลูกเขย')\n",
    "elif order == 'ไข่ต้ม':\n",
    "    print('แนะนำให้สั่งคู่กับยำไข่ดาว')\n",
    "else:\n",
    "    print('ร้านเรามีไข่ดาว, ไข่เจียว, ไข่ต้ม')    "
   ]
  },
  {
   "cell_type": "code",
   "execution_count": null,
   "id": "585d38aa-599f-491b-b176-2691ead49a30",
   "metadata": {},
   "outputs": [],
   "source": []
  }
 ],
 "metadata": {
  "kernelspec": {
   "display_name": "Python 3 (ipykernel)",
   "language": "python",
   "name": "python3"
  },
  "language_info": {
   "codemirror_mode": {
    "name": "ipython",
    "version": 3
   },
   "file_extension": ".py",
   "mimetype": "text/x-python",
   "name": "python",
   "nbconvert_exporter": "python",
   "pygments_lexer": "ipython3",
   "version": "3.11.7"
  }
 },
 "nbformat": 4,
 "nbformat_minor": 5
}
