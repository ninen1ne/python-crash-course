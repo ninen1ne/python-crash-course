{
 "cells": [
  {
   "cell_type": "code",
   "execution_count": 1,
   "id": "d838667b-b925-4b40-975b-65129582cabb",
   "metadata": {},
   "outputs": [
    {
     "name": "stdout",
     "output_type": "stream",
     "text": [
      "0\n",
      "1\n",
      "2\n",
      "3\n",
      "4\n",
      "5\n",
      "6\n",
      "7\n",
      "8\n",
      "9\n",
      "10\n",
      "11\n",
      "12\n",
      "13\n",
      "14\n",
      "15\n",
      "16\n",
      "17\n",
      "18\n",
      "19\n",
      "-------------------------------------------------------------------\n",
      "0\n",
      "1\n",
      "2\n",
      "3\n",
      "4\n",
      "5\n",
      "6\n",
      "7\n",
      "8\n",
      "9\n",
      "10\n",
      "11\n",
      "12\n",
      "13\n",
      "14\n",
      "15\n",
      "16\n",
      "17\n",
      "18\n",
      "19\n"
     ]
    }
   ],
   "source": [
    "# 1\n",
    "# out put>>> 0,1,2,3,...,19\n",
    "\n",
    "# for loop.\n",
    "for i in range(20):\n",
    "    print(i)\n",
    "\n",
    "print('-------------------------------------------------------------------')\n",
    "\n",
    "# while loop \n",
    "i = 0\n",
    "while i < 20:\n",
    "    print(i)\n",
    "    i += 1"
   ]
  },
  {
   "cell_type": "code",
   "execution_count": 2,
   "id": "ae2e5500-c43e-44cb-88d5-0afa264f430c",
   "metadata": {},
   "outputs": [
    {
     "name": "stdout",
     "output_type": "stream",
     "text": [
      "0\n",
      "2\n",
      "4\n",
      "6\n",
      "8\n",
      "10\n",
      "12\n",
      "14\n",
      "16\n",
      "18\n",
      "-------------------------------------------------------------------\n",
      "0\n",
      "2\n",
      "4\n",
      "6\n",
      "8\n",
      "10\n",
      "12\n",
      "14\n",
      "16\n",
      "18\n"
     ]
    }
   ],
   "source": [
    "# 2 \n",
    "# out put>>> 0,2,4,6,...,18\n",
    "\n",
    "# for loop.\n",
    "for i in range(0, 19, 2):\n",
    "    print(i)\n",
    "\n",
    "print('-------------------------------------------------------------------')\n",
    "\n",
    "# while loop.\n",
    "i = 0\n",
    "while i < 19:\n",
    "    print(i)\n",
    "    i += 2"
   ]
  },
  {
   "cell_type": "code",
   "execution_count": 3,
   "id": "278e72fb-ba2f-4db9-a35b-08ef9e1f099c",
   "metadata": {},
   "outputs": [
    {
     "name": "stdout",
     "output_type": "stream",
     "text": [
      "1\n",
      "3\n",
      "5\n",
      "7\n",
      "9\n",
      "11\n",
      "13\n",
      "15\n",
      "17\n",
      "19\n",
      "-------------------------------------------------------------------\n",
      "1\n",
      "3\n",
      "5\n",
      "7\n",
      "9\n",
      "11\n",
      "13\n",
      "15\n",
      "17\n",
      "19\n"
     ]
    }
   ],
   "source": [
    "# 3\n",
    "# out put>>> 1,3,5,...,19\n",
    "\n",
    "# for loop.\n",
    "for i in range(1, 20, 2):\n",
    "    print(i)\n",
    "\n",
    "print('-------------------------------------------------------------------')\n",
    "\n",
    "# while loop.\n",
    "i = 1\n",
    "while i < 20:\n",
    "    print(i)\n",
    "    i += 2 "
   ]
  },
  {
   "cell_type": "code",
   "execution_count": 4,
   "id": "f863c2f1-5996-4c74-9543-32cabf3bc365",
   "metadata": {},
   "outputs": [
    {
     "name": "stdout",
     "output_type": "stream",
     "text": [
      "19\n",
      "18\n",
      "17\n",
      "16\n",
      "15\n",
      "14\n",
      "13\n",
      "12\n",
      "11\n",
      "10\n",
      "9\n",
      "8\n",
      "7\n",
      "6\n",
      "5\n",
      "4\n",
      "3\n",
      "2\n",
      "1\n",
      "0\n",
      "-------------------------------------------------------------------\n",
      "19\n",
      "18\n",
      "17\n",
      "16\n",
      "15\n",
      "14\n",
      "13\n",
      "12\n",
      "11\n",
      "10\n",
      "9\n",
      "8\n",
      "7\n",
      "6\n",
      "5\n",
      "4\n",
      "3\n",
      "2\n",
      "1\n",
      "0\n"
     ]
    }
   ],
   "source": [
    "# 4 \n",
    "# out put>>>19,18,17,...,0\n",
    "\n",
    "# for loop.\n",
    "for i in range(19, -1, -1):\n",
    "    print(i)\n",
    "\n",
    "print('-------------------------------------------------------------------')\n",
    "\n",
    "# while loop.\n",
    "i = 19\n",
    "while i > -1:\n",
    "    print(i)\n",
    "    i -= 1"
   ]
  },
  {
   "cell_type": "code",
   "execution_count": 5,
   "id": "3a73fce6-bf52-4f89-b10f-7fd6fb58a75a",
   "metadata": {},
   "outputs": [
    {
     "name": "stdout",
     "output_type": "stream",
     "text": [
      "18\n",
      "16\n",
      "14\n",
      "12\n",
      "10\n",
      "8\n",
      "6\n",
      "4\n",
      "2\n",
      "0\n",
      "-------------------------------------------------------------------\n",
      "18\n",
      "16\n",
      "14\n",
      "12\n",
      "10\n",
      "8\n",
      "6\n",
      "4\n",
      "2\n",
      "0\n"
     ]
    }
   ],
   "source": [
    "# 5\n",
    "# out put>>>18,16,14,...,0\n",
    "\n",
    "#for loop.\n",
    "for i in range(18, -1, -2):\n",
    "    print(i)\n",
    "\n",
    "print('-------------------------------------------------------------------')\n",
    "\n",
    "# while loop.\n",
    "i = 18\n",
    "while i > -1:\n",
    "    print(i)\n",
    "    i -= 2"
   ]
  },
  {
   "cell_type": "code",
   "execution_count": 6,
   "id": "c1e6fa8d-dca6-47ba-9a85-d96da1167bce",
   "metadata": {},
   "outputs": [
    {
     "name": "stdout",
     "output_type": "stream",
     "text": [
      "19\n",
      "17\n",
      "15\n",
      "13\n",
      "11\n",
      "9\n",
      "7\n",
      "5\n",
      "3\n",
      "1\n",
      "-------------------------------------------------------------------\n",
      "19\n",
      "17\n",
      "15\n",
      "13\n",
      "11\n",
      "9\n",
      "7\n",
      "5\n",
      "3\n",
      "1\n"
     ]
    }
   ],
   "source": [
    "# 6 \n",
    "# out put>>>19,17,15,...,1\n",
    "\n",
    "# for loop.\n",
    "for i in range(19, 0, -2):\n",
    "    print(i)\n",
    "\n",
    "print('-------------------------------------------------------------------')\n",
    "\n",
    "# while loop.\n",
    "i = 19\n",
    "while i > 0:\n",
    "    print(i)\n",
    "    i -= 2"
   ]
  },
  {
   "cell_type": "code",
   "execution_count": 7,
   "id": "dfde0981-b755-4398-8571-b6ea92377ce7",
   "metadata": {},
   "outputs": [
    {
     "name": "stdout",
     "output_type": "stream",
     "text": [
      "-3\n",
      "-2\n",
      "-1\n",
      "0\n",
      "1\n",
      "2\n",
      "3\n",
      "4\n",
      "5\n",
      "6\n",
      "7\n",
      "8\n",
      "9\n",
      "-------------------------------------------------------------------\n",
      "-3\n",
      "-2\n",
      "-1\n",
      "0\n",
      "1\n",
      "2\n",
      "3\n",
      "4\n",
      "5\n",
      "6\n",
      "7\n",
      "8\n",
      "9\n"
     ]
    }
   ],
   "source": [
    "# 7 \n",
    "# out put>>>-3,-2,-1,0,...,9\n",
    "\n",
    "# for loop.\n",
    "for i in range(-3, 10, 1):\n",
    "    print(i)\n",
    "\n",
    "print('-------------------------------------------------------------------')\n",
    "\n",
    "# while loop.\n",
    "i = -3\n",
    "while i < 10:\n",
    "    print(i)\n",
    "    i += 1"
   ]
  },
  {
   "cell_type": "code",
   "execution_count": 8,
   "id": "7591d183-eb01-4ebe-bf6b-6a40e2bc2752",
   "metadata": {},
   "outputs": [
    {
     "name": "stdout",
     "output_type": "stream",
     "text": [
      "-9\n",
      "-8\n",
      "-7\n",
      "-6\n",
      "-5\n",
      "-4\n",
      "-3\n",
      "-2\n",
      "-1\n",
      "0\n",
      "-------------------------------------------------------------------\n",
      "-9\n",
      "-8\n",
      "-7\n",
      "-6\n",
      "-5\n",
      "-4\n",
      "-3\n",
      "-2\n",
      "-1\n",
      "0\n"
     ]
    }
   ],
   "source": [
    "# 8 \n",
    "# out out>>>-9,-8,-7,...,0\n",
    "\n",
    "# for loop.\n",
    "for i in range(-9, 1, 1):\n",
    "    print(i)\n",
    "\n",
    "print('-------------------------------------------------------------------')\n",
    "\n",
    "# while loop.\n",
    "i = -9\n",
    "while i < 1:\n",
    "    print(i)\n",
    "    i += 1"
   ]
  },
  {
   "cell_type": "code",
   "execution_count": 9,
   "id": "227ef8b4-184b-4be6-8627-7e95345889ec",
   "metadata": {},
   "outputs": [
    {
     "name": "stdout",
     "output_type": "stream",
     "text": [
      "-5\n",
      "-6\n",
      "-7\n",
      "-8\n",
      "-9\n",
      "-10\n",
      "-11\n",
      "-12\n",
      "-13\n",
      "-14\n",
      "-15\n",
      "-------------------------------------------------------------------\n",
      "-5\n",
      "-6\n",
      "-7\n",
      "-8\n",
      "-9\n",
      "-10\n",
      "-11\n",
      "-12\n",
      "-13\n",
      "-14\n",
      "-15\n"
     ]
    }
   ],
   "source": [
    "# 9 \n",
    "# out put>>>-5,-6,-7,...,-15\n",
    "\n",
    "# for loop.\n",
    "for i in range(-5, -16, -1):\n",
    "    print(i)\n",
    "\n",
    "print('-------------------------------------------------------------------')\n",
    "\n",
    "# while loop.\n",
    "i = -5\n",
    "while i > -16:\n",
    "    print(i)\n",
    "    i -= 1"
   ]
  },
  {
   "cell_type": "code",
   "execution_count": 10,
   "id": "3a1d62c0-52b9-4227-a161-34401a862320",
   "metadata": {},
   "outputs": [
    {
     "name": "stdout",
     "output_type": "stream",
     "text": [
      "-5\n",
      "-7\n",
      "-9\n",
      "-11\n",
      "-13\n",
      "-15\n",
      "-------------------------------------------------------------------\n",
      "-5\n",
      "-7\n",
      "-9\n",
      "-11\n",
      "-13\n",
      "-15\n"
     ]
    }
   ],
   "source": [
    "# 10\n",
    "# out put>>>-5,-7,-9,...,-15\n",
    "\n",
    "# for loop.\n",
    "for i in range(-5, -16, -2):\n",
    "    print(i)\n",
    "\n",
    "print('-------------------------------------------------------------------')\n",
    "\n",
    "i = -5\n",
    "while i > -16:\n",
    "    print(i)\n",
    "    i -= 2"
   ]
  },
  {
   "cell_type": "code",
   "execution_count": 3,
   "id": "447a7230-4d24-4ce4-9bfc-b374ae4b391f",
   "metadata": {},
   "outputs": [
    {
     "name": "stdin",
     "output_type": "stream",
     "text": [
      "Enter your number:  9\n"
     ]
    },
    {
     "name": "stdout",
     "output_type": "stream",
     "text": [
      "45\n",
      "-------------------------------------------------------------------\n",
      "45\n"
     ]
    }
   ],
   "source": [
    "# 11\n",
    "# out put>>> sum of 1+2+3+...+n\n",
    "\n",
    "# for loop.\n",
    "n = int(input('Enter your number: '))\n",
    "result = 0\n",
    "\n",
    "for i in range(1, n+1, 1):\n",
    "    result = result + i\n",
    "\n",
    "print(result)\n",
    "\n",
    "print('-------------------------------------------------------------------')\n",
    "\n",
    "# while loop.\n",
    "i = 1\n",
    "result = 0\n",
    "\n",
    "while i <= n:\n",
    "    result = result + i\n",
    "    i += 1\n",
    "\n",
    "print(result)"
   ]
  },
  {
   "cell_type": "code",
   "execution_count": 4,
   "id": "b03af275-72c7-4b2c-8974-8c6c6a3682bf",
   "metadata": {},
   "outputs": [
    {
     "name": "stdin",
     "output_type": "stream",
     "text": [
      "Enter your number:  5\n"
     ]
    },
    {
     "name": "stdout",
     "output_type": "stream",
     "text": [
      "120\n",
      "-------------------------------------------------------------------\n",
      "120\n"
     ]
    }
   ],
   "source": [
    "# 12 factorial!!?\n",
    "# out put>>>1x2x3x4x...xn\n",
    "\n",
    "# for loop.\n",
    "n = int(input('Enter your number: '))\n",
    "result = 1\n",
    "\n",
    "for i in range(1, n+1, 1):\n",
    "    result = result*i\n",
    "\n",
    "print(result)\n",
    "\n",
    "print('-------------------------------------------------------------------')\n",
    "\n",
    "# while loop.\n",
    "i = 1\n",
    "result = 1\n",
    "\n",
    "while i <= n:\n",
    "    result = result * i\n",
    "    i += 1\n",
    "\n",
    "print(result)"
   ]
  },
  {
   "cell_type": "code",
   "execution_count": 5,
   "id": "97df7824-f769-495e-896e-d18f9e4ff7e7",
   "metadata": {},
   "outputs": [
    {
     "name": "stdin",
     "output_type": "stream",
     "text": [
      "Enter your number:  10\n"
     ]
    },
    {
     "name": "stdout",
     "output_type": "stream",
     "text": [
      "2.9289682539682538\n",
      "-------------------------------------------------------------------\n",
      "2.9289682539682538\n"
     ]
    }
   ],
   "source": [
    "# 13\n",
    "# out put>>>1/1+1/2+1/3+...+1/n\n",
    "\n",
    "# for loop.\n",
    "n = int(input('Enter your number: '))\n",
    "result = 0\n",
    "\n",
    "for i in range(1, n+1, 1):\n",
    "    result = result + 1/i\n",
    "\n",
    "print(result)\n",
    "\n",
    "print('-------------------------------------------------------------------')\n",
    "\n",
    "# while loop.\n",
    "i = 1\n",
    "result = 0\n",
    "while i <= n:\n",
    "    result = result + 1/i\n",
    "    i += 1\n",
    "\n",
    "print(result)"
   ]
  },
  {
   "cell_type": "code",
   "execution_count": 6,
   "id": "3fcdacc2-e66b-4261-9e25-70f0db736795",
   "metadata": {},
   "outputs": [
    {
     "name": "stdin",
     "output_type": "stream",
     "text": [
      "Enter your number:  10\n"
     ]
    },
    {
     "name": "stdout",
     "output_type": "stream",
     "text": [
      "1.5497677311665408\n",
      "-------------------------------------------------------------------\n",
      "1.5497677311665408\n"
     ]
    }
   ],
   "source": [
    "# 14\n",
    "# out put>>>(1/1^2)+(1/2^2)+(1/3^2)+...+(1/n^2)\n",
    "\n",
    "# for loop.\n",
    "n = int(input('Enter your number: '))\n",
    "result = 0\n",
    "for i in range(1, n+1, 1):\n",
    "    result = result + 1/i**2\n",
    "\n",
    "print(result)\n",
    "\n",
    "print('-------------------------------------------------------------------')\n",
    "\n",
    "# while loop.\n",
    "i = 1\n",
    "result = 0\n",
    "\n",
    "while i <= n:\n",
    "    result = result + 1/i**2\n",
    "    i += 1\n",
    "\n",
    "print(result)"
   ]
  },
  {
   "cell_type": "code",
   "execution_count": 9,
   "id": "ad1011af-9ae6-41c2-ad5c-3c1f43bbeac5",
   "metadata": {},
   "outputs": [
    {
     "name": "stdin",
     "output_type": "stream",
     "text": [
      "Enter your number:  1000000\n"
     ]
    },
    {
     "name": "stdout",
     "output_type": "stream",
     "text": [
      "3.1415916986605086\n",
      "-------------------------------------------------------------------\n",
      "3.1415916986605086\n"
     ]
    }
   ],
   "source": [
    "# 15 (approximate pi???)\n",
    "# out put>>> root(6*((1/1^2)+(1/2^2)+(1/3^2)+...+(1/n^2)))\n",
    "\n",
    "from math import sqrt\n",
    "# for loop.\n",
    "n = int(input('Enter your number: '))\n",
    "result = 0\n",
    "\n",
    "for i in range(1, n+1, 1):\n",
    "    result = result + 1/i**2\n",
    "\n",
    "result = sqrt(6*result)\n",
    "print(result)\n",
    "\n",
    "print('-------------------------------------------------------------------')\n",
    "\n",
    "# while loop.\n",
    "\n",
    "i = 1\n",
    "result = 0\n",
    "\n",
    "while i <= n:\n",
    "    result = result + 1/i**2\n",
    "    i += 1\n",
    "\n",
    "result = sqrt(6*result)\n",
    "print(result)\n",
    "\n",
    "# or u can re write root as | root(x) = x**1/2\n",
    "# I like this it's show me how beautiful math really is."
   ]
  }
 ],
 "metadata": {
  "kernelspec": {
   "display_name": "Python 3 (ipykernel)",
   "language": "python",
   "name": "python3"
  },
  "language_info": {
   "codemirror_mode": {
    "name": "ipython",
    "version": 3
   },
   "file_extension": ".py",
   "mimetype": "text/x-python",
   "name": "python",
   "nbconvert_exporter": "python",
   "pygments_lexer": "ipython3",
   "version": "3.11.7"
  }
 },
 "nbformat": 4,
 "nbformat_minor": 5
}
