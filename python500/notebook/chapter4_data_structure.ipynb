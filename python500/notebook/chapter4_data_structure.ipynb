{
 "cells": [
  {
   "cell_type": "markdown",
   "id": "23e2e910-046e-411a-bbd4-b1d4147aa219",
   "metadata": {},
   "source": [
    "# **Data Structure**\n",
    "## 1. Basic Data Structure\n",
    "## 2. composite Data Structure"
   ]
  },
  {
   "cell_type": "markdown",
   "id": "4bfad943-5816-4627-bbf9-23095ca447b6",
   "metadata": {},
   "source": [
    "## 1. Basic Data Structure"
   ]
  },
  {
   "cell_type": "markdown",
   "id": "725de94f-b08c-49df-a73c-23a9eba31421",
   "metadata": {},
   "source": [
    "### 1.1.1 Integer"
   ]
  },
  {
   "cell_type": "code",
   "execution_count": 1,
   "id": "9ac9a419-d3b8-4f15-8547-7417d2c23654",
   "metadata": {},
   "outputs": [],
   "source": [
    "a = 1\n",
    "b = 2"
   ]
  },
  {
   "cell_type": "code",
   "execution_count": 2,
   "id": "5abcff84-0ed7-46ac-8995-257fe2caa738",
   "metadata": {},
   "outputs": [
    {
     "data": {
      "text/plain": [
       "int"
      ]
     },
     "execution_count": 2,
     "metadata": {},
     "output_type": "execute_result"
    }
   ],
   "source": [
    "type(a)"
   ]
  },
  {
   "cell_type": "code",
   "execution_count": 3,
   "id": "ddd92008-f2e4-49e3-9faa-c44aea4b00ab",
   "metadata": {},
   "outputs": [
    {
     "data": {
      "text/plain": [
       "int"
      ]
     },
     "execution_count": 3,
     "metadata": {},
     "output_type": "execute_result"
    }
   ],
   "source": [
    "type(b)"
   ]
  },
  {
   "cell_type": "markdown",
   "id": "6d4898e2-d812-4558-a265-943dc994a3e8",
   "metadata": {},
   "source": [
    "### 1.1.2 Floating-Point Number"
   ]
  },
  {
   "cell_type": "code",
   "execution_count": 4,
   "id": "b1377411-e135-4363-a229-433a030feab4",
   "metadata": {},
   "outputs": [],
   "source": [
    "c = 0.5"
   ]
  },
  {
   "cell_type": "code",
   "execution_count": 5,
   "id": "51e49644-8160-40d1-ba94-53782c1caaf4",
   "metadata": {},
   "outputs": [],
   "source": [
    "d = 3/4"
   ]
  },
  {
   "cell_type": "code",
   "execution_count": 6,
   "id": "1f94a56e-11d4-4a19-8507-f9f350475898",
   "metadata": {},
   "outputs": [
    {
     "data": {
      "text/plain": [
       "float"
      ]
     },
     "execution_count": 6,
     "metadata": {},
     "output_type": "execute_result"
    }
   ],
   "source": [
    "type(c)"
   ]
  },
  {
   "cell_type": "code",
   "execution_count": 7,
   "id": "405d32f5-ba50-46f0-a61d-d703419126ba",
   "metadata": {},
   "outputs": [
    {
     "data": {
      "text/plain": [
       "float"
      ]
     },
     "execution_count": 7,
     "metadata": {},
     "output_type": "execute_result"
    }
   ],
   "source": [
    "type(d)"
   ]
  },
  {
   "cell_type": "markdown",
   "id": "de73bd57-8860-4115-a003-fc815b502d4c",
   "metadata": {},
   "source": [
    "### 1.1.3 Boolean"
   ]
  },
  {
   "cell_type": "code",
   "execution_count": 8,
   "id": "f12c1618-20d4-4592-a390-d39fb6ace3b2",
   "metadata": {},
   "outputs": [],
   "source": [
    "t = True"
   ]
  },
  {
   "cell_type": "code",
   "execution_count": 9,
   "id": "2d777312-1f1e-411a-8356-424442ba04ca",
   "metadata": {},
   "outputs": [],
   "source": [
    "f = False"
   ]
  },
  {
   "cell_type": "code",
   "execution_count": 10,
   "id": "b33d3d7d-44e3-4b84-b63e-4e8ec8d2534e",
   "metadata": {},
   "outputs": [
    {
     "data": {
      "text/plain": [
       "bool"
      ]
     },
     "execution_count": 10,
     "metadata": {},
     "output_type": "execute_result"
    }
   ],
   "source": [
    "type(t)"
   ]
  },
  {
   "cell_type": "code",
   "execution_count": 11,
   "id": "e0ce4096-7232-49b0-b229-aeba62ffbddd",
   "metadata": {},
   "outputs": [
    {
     "data": {
      "text/plain": [
       "bool"
      ]
     },
     "execution_count": 11,
     "metadata": {},
     "output_type": "execute_result"
    }
   ],
   "source": [
    "type(f)"
   ]
  },
  {
   "cell_type": "markdown",
   "id": "85186e8a-514c-4495-a775-1164fe686488",
   "metadata": {},
   "source": [
    "### 1.1.4 Complex Number"
   ]
  },
  {
   "cell_type": "code",
   "execution_count": 12,
   "id": "fada509f-e924-4d79-981e-dcb98b6ffa2f",
   "metadata": {},
   "outputs": [],
   "source": [
    "z = 1 + 2j"
   ]
  },
  {
   "cell_type": "code",
   "execution_count": 13,
   "id": "3e314d95-17cf-483d-9487-d153fd85afe8",
   "metadata": {},
   "outputs": [
    {
     "data": {
      "text/plain": [
       "1.0"
      ]
     },
     "execution_count": 13,
     "metadata": {},
     "output_type": "execute_result"
    }
   ],
   "source": [
    "z.real"
   ]
  },
  {
   "cell_type": "code",
   "execution_count": 14,
   "id": "d81904a5-4170-4491-9186-8924e34909b7",
   "metadata": {},
   "outputs": [
    {
     "data": {
      "text/plain": [
       "2.0"
      ]
     },
     "execution_count": 14,
     "metadata": {},
     "output_type": "execute_result"
    }
   ],
   "source": [
    "z.imag"
   ]
  },
  {
   "cell_type": "code",
   "execution_count": 15,
   "id": "150d23f2-8418-4a26-ad5c-ab75eb2a7ff9",
   "metadata": {},
   "outputs": [
    {
     "data": {
      "text/plain": [
       "complex"
      ]
     },
     "execution_count": 15,
     "metadata": {},
     "output_type": "execute_result"
    }
   ],
   "source": [
    "type(z)"
   ]
  },
  {
   "cell_type": "markdown",
   "id": "806c33a3-2a32-4311-b066-7a4c88817c4e",
   "metadata": {},
   "source": [
    "### 1.2 String"
   ]
  },
  {
   "cell_type": "raw",
   "id": "b149e722-3e6d-4fb1-9f8e-fdf552bb25b3",
   "metadata": {},
   "source": [
    "1.2.1 Create String\n",
    "1.2.2 Read String\n",
    "1.2.3 String + replace\n",
    "1.2.4 String + len\n",
    "1.2.5 String + in \n",
    "1.2.6 String + split\n",
    "1.2.7 String + concatenation"
   ]
  },
  {
   "cell_type": "markdown",
   "id": "4b866949-3525-40bf-8302-352fc2e1f7f4",
   "metadata": {},
   "source": [
    "### 1.2.1 Create String"
   ]
  },
  {
   "cell_type": "code",
   "execution_count": 16,
   "id": "84d0dacd-3381-4022-addf-2a966a4685d3",
   "metadata": {},
   "outputs": [],
   "source": [
    "char1 = 'Hello World'"
   ]
  },
  {
   "cell_type": "code",
   "execution_count": 17,
   "id": "617b9390-05de-4f2c-8e35-98a64eeff24c",
   "metadata": {},
   "outputs": [],
   "source": [
    "char2 = '0123456789'"
   ]
  },
  {
   "cell_type": "code",
   "execution_count": 18,
   "id": "019fd57c-59e4-4d3f-bbd7-8eb690fc8277",
   "metadata": {},
   "outputs": [
    {
     "data": {
      "text/plain": [
       "str"
      ]
     },
     "execution_count": 18,
     "metadata": {},
     "output_type": "execute_result"
    }
   ],
   "source": [
    "type(char1)"
   ]
  },
  {
   "cell_type": "code",
   "execution_count": 19,
   "id": "b94773e8-88ce-4f6d-b345-35620deb11cf",
   "metadata": {},
   "outputs": [
    {
     "data": {
      "text/plain": [
       "str"
      ]
     },
     "execution_count": 19,
     "metadata": {},
     "output_type": "execute_result"
    }
   ],
   "source": [
    "type(char2)"
   ]
  },
  {
   "cell_type": "markdown",
   "id": "a0e83742-2004-45a6-af21-05245f18a423",
   "metadata": {},
   "source": [
    "### 1.2.2 Read string"
   ]
  },
  {
   "cell_type": "code",
   "execution_count": 20,
   "id": "31a127ee-2e0e-47f5-b4de-594b46e48eeb",
   "metadata": {},
   "outputs": [],
   "source": [
    "char3 = '0123456789'"
   ]
  },
  {
   "cell_type": "code",
   "execution_count": 21,
   "id": "2ec99bd7-153c-4960-b209-6edf2254e76a",
   "metadata": {},
   "outputs": [
    {
     "data": {
      "text/plain": [
       "'0'"
      ]
     },
     "execution_count": 21,
     "metadata": {},
     "output_type": "execute_result"
    }
   ],
   "source": [
    "char3[0]"
   ]
  },
  {
   "cell_type": "code",
   "execution_count": 22,
   "id": "def48b02-d509-48b8-abe4-183b1bbf3d6a",
   "metadata": {},
   "outputs": [
    {
     "data": {
      "text/plain": [
       "'5'"
      ]
     },
     "execution_count": 22,
     "metadata": {},
     "output_type": "execute_result"
    }
   ],
   "source": [
    "char3[5]"
   ]
  },
  {
   "cell_type": "code",
   "execution_count": 23,
   "id": "cc6ed07e-aadb-4a91-8135-fbcad943ace4",
   "metadata": {},
   "outputs": [
    {
     "data": {
      "text/plain": [
       "'9'"
      ]
     },
     "execution_count": 23,
     "metadata": {},
     "output_type": "execute_result"
    }
   ],
   "source": [
    "char3[-1]"
   ]
  },
  {
   "cell_type": "code",
   "execution_count": 24,
   "id": "cccb2edc-b33a-4dd3-8c56-b6fa6af33962",
   "metadata": {},
   "outputs": [
    {
     "data": {
      "text/plain": [
       "'8'"
      ]
     },
     "execution_count": 24,
     "metadata": {},
     "output_type": "execute_result"
    }
   ],
   "source": [
    "char3[-2]"
   ]
  },
  {
   "cell_type": "code",
   "execution_count": 25,
   "id": "1cedef66-d129-4039-bef4-dd6edcf5dff1",
   "metadata": {},
   "outputs": [
    {
     "data": {
      "text/plain": [
       "'3456789'"
      ]
     },
     "execution_count": 25,
     "metadata": {},
     "output_type": "execute_result"
    }
   ],
   "source": [
    "char3[3:] # ถ้า colon อยู่ข้างหลังเริ่มอ่านค่าตั้งแต่ index 3 ถึง index สุดท้าย เรียกว่า slice"
   ]
  },
  {
   "cell_type": "code",
   "execution_count": 26,
   "id": "d2a1fc07-385f-4ee4-b8e5-1622fe13ccd7",
   "metadata": {},
   "outputs": [
    {
     "data": {
      "text/plain": [
       "'0123456'"
      ]
     },
     "execution_count": 26,
     "metadata": {},
     "output_type": "execute_result"
    }
   ],
   "source": [
    "char3[:7] # ถ้า colon อยู่ข้างหน้าเริ่มอ่านตั้งแต่ index 0 - ก่อน index 7"
   ]
  },
  {
   "cell_type": "code",
   "execution_count": 27,
   "id": "136915b5-8b4d-4681-a7e7-3808cf4bf001",
   "metadata": {},
   "outputs": [
    {
     "data": {
      "text/plain": [
       "'3456'"
      ]
     },
     "execution_count": 27,
     "metadata": {},
     "output_type": "execute_result"
    }
   ],
   "source": [
    "char3[3:7] # เริ่ม index 3 - ก่อน index 7 "
   ]
  },
  {
   "cell_type": "markdown",
   "id": "d627329c-2366-4e4e-b3eb-f65bce30a430",
   "metadata": {},
   "source": [
    "### 1.2.3 String + replace"
   ]
  },
  {
   "cell_type": "code",
   "execution_count": 28,
   "id": "8b833a77-680c-4833-8b5c-a4a50037c3de",
   "metadata": {},
   "outputs": [],
   "source": [
    "char4 = 'abc'"
   ]
  },
  {
   "cell_type": "code",
   "execution_count": 29,
   "id": "52bdec0f-e174-4eb4-bf5a-1f46f1d978c0",
   "metadata": {},
   "outputs": [
    {
     "data": {
      "text/plain": [
       "'Abc'"
      ]
     },
     "execution_count": 29,
     "metadata": {},
     "output_type": "execute_result"
    }
   ],
   "source": [
    "char4.replace('a', 'A')"
   ]
  },
  {
   "cell_type": "code",
   "execution_count": 30,
   "id": "96d7d8be-4517-4385-91b5-4c46baba3fe2",
   "metadata": {},
   "outputs": [],
   "source": [
    "char4 = 'abc'"
   ]
  },
  {
   "cell_type": "code",
   "execution_count": 31,
   "id": "11411d96-4a9a-4e84-834c-4075049bd332",
   "metadata": {},
   "outputs": [
    {
     "data": {
      "text/plain": [
       "'aDE'"
      ]
     },
     "execution_count": 31,
     "metadata": {},
     "output_type": "execute_result"
    }
   ],
   "source": [
    "char4.replace('bc', 'DE') # note ตัวที่จะเปลี่ยนต้องติดกัน"
   ]
  },
  {
   "cell_type": "markdown",
   "id": "fb66530f-501d-42ac-af28-122c2a20ed1d",
   "metadata": {},
   "source": [
    "### 1.2.4 String + len"
   ]
  },
  {
   "cell_type": "code",
   "execution_count": 32,
   "id": "487cc94e-ab7b-4c9e-9984-47365f0dfc36",
   "metadata": {},
   "outputs": [],
   "source": [
    "char5 = '12345'"
   ]
  },
  {
   "cell_type": "code",
   "execution_count": 33,
   "id": "06eb3142-2ed0-4f73-9673-7523d82f9a17",
   "metadata": {},
   "outputs": [
    {
     "data": {
      "text/plain": [
       "5"
      ]
     },
     "execution_count": 33,
     "metadata": {},
     "output_type": "execute_result"
    }
   ],
   "source": [
    "len(char5) # len funtion count how long string is."
   ]
  },
  {
   "cell_type": "markdown",
   "id": "f5dd32b5-9297-4496-b421-fbe1864c36cf",
   "metadata": {},
   "source": [
    "### 1.2.5 String + in "
   ]
  },
  {
   "cell_type": "code",
   "execution_count": 34,
   "id": "0b908522-c555-4f1c-b15f-9038a68d00ee",
   "metadata": {},
   "outputs": [],
   "source": [
    "char6 = 'Python'"
   ]
  },
  {
   "cell_type": "code",
   "execution_count": 35,
   "id": "9dcf16d5-8d8a-4740-8879-fc9f2caeacf1",
   "metadata": {},
   "outputs": [
    {
     "data": {
      "text/plain": [
       "True"
      ]
     },
     "execution_count": 35,
     "metadata": {},
     "output_type": "execute_result"
    }
   ],
   "source": [
    "'P' in char6 # in function Check if letter we specify is in string."
   ]
  },
  {
   "cell_type": "code",
   "execution_count": 36,
   "id": "fd3aeecd-0d37-4052-b5c0-fc31fab69698",
   "metadata": {},
   "outputs": [
    {
     "data": {
      "text/plain": [
       "False"
      ]
     },
     "execution_count": 36,
     "metadata": {},
     "output_type": "execute_result"
    }
   ],
   "source": [
    "'p' in char6 # it's case-sensitive too. "
   ]
  },
  {
   "cell_type": "markdown",
   "id": "b3c2f62d-180a-43b9-8189-f2c3c630c971",
   "metadata": {},
   "source": [
    "### 1.2.6 String + spilt การแยกคำ"
   ]
  },
  {
   "cell_type": "code",
   "execution_count": 37,
   "id": "22641725-fb2a-4c95-bc30-bdc76bb3312d",
   "metadata": {},
   "outputs": [],
   "source": [
    "char7 = 'one-two-three' # .split จะตัดคำเมื่อมันอ่านเจอค่าที่เราใส่ในวงเล็ป ()"
   ]
  },
  {
   "cell_type": "code",
   "execution_count": 38,
   "id": "c91f73de-1561-41c3-a3b5-c936b959ca44",
   "metadata": {},
   "outputs": [
    {
     "data": {
      "text/plain": [
       "['one', 'two', 'three']"
      ]
     },
     "execution_count": 38,
     "metadata": {},
     "output_type": "execute_result"
    }
   ],
   "source": [
    "char7.split('-') # In this case python will split word when it found '-' and store each word in list."
   ]
  },
  {
   "cell_type": "code",
   "execution_count": 39,
   "id": "5645f767-0526-473b-9f35-4d31e79c4c6a",
   "metadata": {},
   "outputs": [],
   "source": [
    "char8 = 'I love coding'"
   ]
  },
  {
   "cell_type": "code",
   "execution_count": 40,
   "id": "7c103d00-df99-4de4-bfdf-ee0208e1d148",
   "metadata": {},
   "outputs": [
    {
     "data": {
      "text/plain": [
       "['I', 'love', 'coding']"
      ]
     },
     "execution_count": 40,
     "metadata": {},
     "output_type": "execute_result"
    }
   ],
   "source": [
    "char8.split(' ')"
   ]
  },
  {
   "cell_type": "markdown",
   "id": "487ba90f-da4a-4fa2-beba-f301aa063fc0",
   "metadata": {},
   "source": [
    "### 1.2.7 String + Concatenation"
   ]
  },
  {
   "cell_type": "code",
   "execution_count": 41,
   "id": "7fe7c0df-432e-4098-ad3f-0d5281d9d578",
   "metadata": {},
   "outputs": [],
   "source": [
    "char9 = 'ab'\n",
    "char10 = 'cd'"
   ]
  },
  {
   "cell_type": "code",
   "execution_count": 42,
   "id": "c314a289-9dcd-46e3-a3a8-0154493492d3",
   "metadata": {},
   "outputs": [
    {
     "data": {
      "text/plain": [
       "'abcd'"
      ]
     },
     "execution_count": 42,
     "metadata": {},
     "output_type": "execute_result"
    }
   ],
   "source": [
    "char9 + char10 # คือการต่อสายอักขระ"
   ]
  },
  {
   "cell_type": "code",
   "execution_count": 43,
   "id": "3f7b5607-a373-48f7-8c2a-e8fd1358279f",
   "metadata": {},
   "outputs": [],
   "source": [
    "char11 = 'A' \n",
    "char12 = 'B' \n",
    "char13 = 'C'"
   ]
  },
  {
   "cell_type": "code",
   "execution_count": 44,
   "id": "9b4ea7ed-c0cc-4a47-abd3-e4f8288f7abd",
   "metadata": {},
   "outputs": [
    {
     "data": {
      "text/plain": [
       "'ABC'"
      ]
     },
     "execution_count": 44,
     "metadata": {},
     "output_type": "execute_result"
    }
   ],
   "source": [
    "char11 + char12 + char13"
   ]
  },
  {
   "cell_type": "markdown",
   "id": "a60dda0a-5069-46fe-b495-1fbb045fe5d5",
   "metadata": {},
   "source": [
    "# 2. Composite Data Structure "
   ]
  },
  {
   "cell_type": "markdown",
   "id": "0c8a6437-ecc9-4ef0-8e9b-9529937076c0",
   "metadata": {},
   "source": [
    "## 2.1 List"
   ]
  },
  {
   "cell_type": "markdown",
   "id": "a4cc0a7b-b870-48dc-82ad-bb6fcae60c80",
   "metadata": {},
   "source": [
    "### List มีการเข้าถึงข้อมูลผ่าน index เรียกว่า index based"
   ]
  },
  {
   "cell_type": "markdown",
   "id": "0cb41842-8471-46b1-96c6-206136b64f8c",
   "metadata": {},
   "source": [
    "### List can => \"CRUD(Create, read, Update, delete) + sort + len + in\""
   ]
  },
  {
   "cell_type": "raw",
   "id": "1f225178-293d-4f83-b536-96a4f87cbc66",
   "metadata": {},
   "source": [
    "What list can do??? \n",
    ">>> 2.1.1 Create List\n",
    "    2.1.2 Read List\n",
    "    2.1.3 Update List\n",
    "    2.1.4 Delete List\n",
    "    2.1.5 List + sort\n",
    "    2.1.6 List + len\n",
    "    2.1.7 List + in "
   ]
  },
  {
   "cell_type": "markdown",
   "id": "95a0aeef-0362-48c5-9318-6d1b45d7ec44",
   "metadata": {},
   "source": [
    "## 2.1.1 Create List "
   ]
  },
  {
   "cell_type": "code",
   "execution_count": 45,
   "id": "d6fb4cb7-0b6c-4528-a56e-8583586fc763",
   "metadata": {},
   "outputs": [],
   "source": [
    "list1 = [1, 2, 3, 4, 5]\n",
    "list2 = ['a', 'b', 'c', 'd']\n",
    "list3 = [1, 2, 3, 'a', 'b', 'c']"
   ]
  },
  {
   "cell_type": "code",
   "execution_count": 46,
   "id": "87a8d5e7-3703-4917-a6b7-a7363db62994",
   "metadata": {},
   "outputs": [
    {
     "data": {
      "text/plain": [
       "list"
      ]
     },
     "execution_count": 46,
     "metadata": {},
     "output_type": "execute_result"
    }
   ],
   "source": [
    "type(list1)"
   ]
  },
  {
   "cell_type": "code",
   "execution_count": 47,
   "id": "0334da21-7e06-4da7-bfec-4baf56adb0b9",
   "metadata": {},
   "outputs": [
    {
     "data": {
      "text/plain": [
       "list"
      ]
     },
     "execution_count": 47,
     "metadata": {},
     "output_type": "execute_result"
    }
   ],
   "source": [
    "type(list2)"
   ]
  },
  {
   "cell_type": "code",
   "execution_count": 48,
   "id": "99235539-2007-492e-a6f1-916bd1918a6e",
   "metadata": {},
   "outputs": [
    {
     "data": {
      "text/plain": [
       "list"
      ]
     },
     "execution_count": 48,
     "metadata": {},
     "output_type": "execute_result"
    }
   ],
   "source": [
    "type(list3)"
   ]
  },
  {
   "cell_type": "markdown",
   "id": "8db306dc-3a28-4394-b56b-91f88d487f2b",
   "metadata": {},
   "source": [
    "### 2.1.2 Read List"
   ]
  },
  {
   "cell_type": "code",
   "execution_count": 49,
   "id": "8da11245-7ebf-4478-bdaf-8c5a9c3812a6",
   "metadata": {},
   "outputs": [],
   "source": [
    "list4 = [1, 2, 3, 'a', 'b', 'c']"
   ]
  },
  {
   "cell_type": "code",
   "execution_count": 50,
   "id": "6497ed26-829c-4653-a6b8-263a4ba039fe",
   "metadata": {},
   "outputs": [
    {
     "data": {
      "text/plain": [
       "1"
      ]
     },
     "execution_count": 50,
     "metadata": {},
     "output_type": "execute_result"
    }
   ],
   "source": [
    "list4[0] # We can access(read) member inside list by type it index."
   ]
  },
  {
   "cell_type": "code",
   "execution_count": 51,
   "id": "7c3b83b0-f713-4b52-97b9-43ef74c647bd",
   "metadata": {},
   "outputs": [
    {
     "data": {
      "text/plain": [
       "'c'"
      ]
     },
     "execution_count": 51,
     "metadata": {},
     "output_type": "execute_result"
    }
   ],
   "source": [
    "list4[-1]"
   ]
  },
  {
   "cell_type": "code",
   "execution_count": 52,
   "id": "59d47a86-112f-4e75-bfd5-39c3de53d31a",
   "metadata": {},
   "outputs": [
    {
     "data": {
      "text/plain": [
       "'b'"
      ]
     },
     "execution_count": 52,
     "metadata": {},
     "output_type": "execute_result"
    }
   ],
   "source": [
    "list4[-2]"
   ]
  },
  {
   "cell_type": "code",
   "execution_count": 53,
   "id": "f7e1016b-c9d0-408d-95c6-426ff6075c3f",
   "metadata": {},
   "outputs": [],
   "source": [
    "list5 = [1, 2, 3, 'a', 'b', 'c']"
   ]
  },
  {
   "cell_type": "code",
   "execution_count": 54,
   "id": "1ae84504-bbe0-418c-8c2a-737dc4d0b1f1",
   "metadata": {},
   "outputs": [
    {
     "data": {
      "text/plain": [
       "['a', 'b', 'c']"
      ]
     },
     "execution_count": 54,
     "metadata": {},
     "output_type": "execute_result"
    }
   ],
   "source": [
    "list5[3:] # อ่านตั้งแต่ index 3 - index สุดท้าย"
   ]
  },
  {
   "cell_type": "code",
   "execution_count": 55,
   "id": "665e875b-fb21-4e57-992e-f9b45b773ca1",
   "metadata": {},
   "outputs": [
    {
     "data": {
      "text/plain": [
       "[1, 2, 3, 'a', 'b']"
      ]
     },
     "execution_count": 55,
     "metadata": {},
     "output_type": "execute_result"
    }
   ],
   "source": [
    "list5[:5] # อ่านตั้งแต่ index 0 - ก่อนindex 5"
   ]
  },
  {
   "cell_type": "code",
   "execution_count": 56,
   "id": "8bd41ecc-2da1-4300-b5aa-fe16c7304f49",
   "metadata": {},
   "outputs": [
    {
     "data": {
      "text/plain": [
       "['a', 'b']"
      ]
     },
     "execution_count": 56,
     "metadata": {},
     "output_type": "execute_result"
    }
   ],
   "source": [
    "list5[3:5] # อ่านตั้งแต่ index 3 - ก่อน index 5"
   ]
  },
  {
   "cell_type": "markdown",
   "id": "bd45f9b6-db4c-4239-93b8-c45a6fdb1cc7",
   "metadata": {},
   "source": [
    "### 2.1.3 Update List : Replace"
   ]
  },
  {
   "cell_type": "code",
   "execution_count": 57,
   "id": "fb4b686c-46d6-4b88-abf3-a1c328059355",
   "metadata": {},
   "outputs": [],
   "source": [
    "list6 = [1, 2, 3, 'a', 'b', 'c']"
   ]
  },
  {
   "cell_type": "code",
   "execution_count": 58,
   "id": "362bb3ca-ae63-4953-8688-aa43839f5d51",
   "metadata": {},
   "outputs": [],
   "source": [
    "list6[0] = 0 # We replace value inside index 0 of list6 from 1 to 0. "
   ]
  },
  {
   "cell_type": "code",
   "execution_count": 59,
   "id": "8f9bb1d1-00b8-47f9-9514-090bce69bc1e",
   "metadata": {},
   "outputs": [
    {
     "data": {
      "text/plain": [
       "[0, 2, 3, 'a', 'b', 'c']"
      ]
     },
     "execution_count": 59,
     "metadata": {},
     "output_type": "execute_result"
    }
   ],
   "source": [
    "list6"
   ]
  },
  {
   "cell_type": "code",
   "execution_count": 60,
   "id": "2b936512-6313-4ef8-870a-0af1f0881d32",
   "metadata": {},
   "outputs": [],
   "source": [
    "list6[-1] = 'x'"
   ]
  },
  {
   "cell_type": "code",
   "execution_count": 61,
   "id": "58d1f479-481c-40b2-9b71-4ae8de7f264d",
   "metadata": {},
   "outputs": [
    {
     "data": {
      "text/plain": [
       "[0, 2, 3, 'a', 'b', 'x']"
      ]
     },
     "execution_count": 61,
     "metadata": {},
     "output_type": "execute_result"
    }
   ],
   "source": [
    "list6 # We replace value inside index -1 of list6 from 'c' to 'x'. "
   ]
  },
  {
   "cell_type": "markdown",
   "id": "9668779c-c33c-4ea9-94ae-b3f9cd8a389c",
   "metadata": {},
   "source": [
    "### 2.1.3 Update List : append"
   ]
  },
  {
   "cell_type": "markdown",
   "id": "871dd3cf-da9b-4458-a20f-f2f346b54cc4",
   "metadata": {},
   "source": [
    "#### append คือการนำค่าใหม่ไปต่อท้าย list"
   ]
  },
  {
   "cell_type": "code",
   "execution_count": 62,
   "id": "4dc44291-aafd-40b8-a3ac-2addc7111ad8",
   "metadata": {},
   "outputs": [],
   "source": [
    "list7 = [1, 2, 3, 'a', 'b', 'c']"
   ]
  },
  {
   "cell_type": "code",
   "execution_count": 63,
   "id": "ea6d930f-f77a-486c-aef1-09f9fe2b87cd",
   "metadata": {},
   "outputs": [],
   "source": [
    "list7.append('d')"
   ]
  },
  {
   "cell_type": "code",
   "execution_count": 64,
   "id": "a4b7d2e3-02b6-4301-9aa7-f3f999faba19",
   "metadata": {},
   "outputs": [
    {
     "data": {
      "text/plain": [
       "[1, 2, 3, 'a', 'b', 'c', 'd']"
      ]
     },
     "execution_count": 64,
     "metadata": {},
     "output_type": "execute_result"
    }
   ],
   "source": [
    "list7"
   ]
  },
  {
   "cell_type": "code",
   "execution_count": 65,
   "id": "fc3b29db-4e38-4db6-9de8-f47eeefe7aca",
   "metadata": {},
   "outputs": [],
   "source": [
    "list7.append('e')"
   ]
  },
  {
   "cell_type": "code",
   "execution_count": 66,
   "id": "060396a3-c00d-4a7d-b21b-8e740a8ef2dc",
   "metadata": {},
   "outputs": [
    {
     "data": {
      "text/plain": [
       "[1, 2, 3, 'a', 'b', 'c', 'd', 'e']"
      ]
     },
     "execution_count": 66,
     "metadata": {},
     "output_type": "execute_result"
    }
   ],
   "source": [
    "list7"
   ]
  },
  {
   "cell_type": "markdown",
   "id": "f1eaec6f-e5ee-43ad-a31f-b0e17920313b",
   "metadata": {},
   "source": [
    "### 2.1.3 Update List : extend"
   ]
  },
  {
   "cell_type": "markdown",
   "id": "d3e9dc14-627d-428a-b9f9-8e4189f79eb1",
   "metadata": {},
   "source": [
    "#### คือการเอา list 2 อันมาต่อกัน"
   ]
  },
  {
   "cell_type": "code",
   "execution_count": 67,
   "id": "a9156d95-d8e6-4bee-9fe9-0a7364dcd727",
   "metadata": {},
   "outputs": [],
   "source": [
    "list8 = [1, 2, 3]\n",
    "list9 = ['a', 'b', 'c']"
   ]
  },
  {
   "cell_type": "code",
   "execution_count": 68,
   "id": "a165be90-61bb-4f28-a0e9-360ca6293392",
   "metadata": {},
   "outputs": [],
   "source": [
    "list8.extend(list9)"
   ]
  },
  {
   "cell_type": "code",
   "execution_count": 69,
   "id": "a623c8ca-131d-4320-9fed-67df3a1cfa72",
   "metadata": {},
   "outputs": [
    {
     "data": {
      "text/plain": [
       "[1, 2, 3, 'a', 'b', 'c']"
      ]
     },
     "execution_count": 69,
     "metadata": {},
     "output_type": "execute_result"
    }
   ],
   "source": [
    "list8"
   ]
  },
  {
   "cell_type": "markdown",
   "id": "687c1507-c543-41ae-a872-380d63b4d82d",
   "metadata": {},
   "source": [
    "### 2.1.3 Update List : insert "
   ]
  },
  {
   "cell_type": "markdown",
   "id": "249dad48-4aac-4f4e-a5cb-a3142042c988",
   "metadata": {},
   "source": [
    "#### insert คือการแทรกค่า"
   ]
  },
  {
   "cell_type": "code",
   "execution_count": 70,
   "id": "885c793a-495a-4f1f-9889-88483dd74961",
   "metadata": {},
   "outputs": [],
   "source": [
    "list10 = [1, 2, 3, 'a', 'b', 'c']"
   ]
  },
  {
   "cell_type": "code",
   "execution_count": 71,
   "id": "8aa0a3ec-f1be-44fb-95f6-30cfca540559",
   "metadata": {},
   "outputs": [],
   "source": [
    "list10.insert(1, 'one') # In parentheses number1 tell python to insert 'one' at the position index 1."
   ]
  },
  {
   "cell_type": "code",
   "execution_count": 72,
   "id": "e2ed601e-8cb8-4601-afbc-9547daf7e5ce",
   "metadata": {},
   "outputs": [
    {
     "data": {
      "text/plain": [
       "[1, 'one', 2, 3, 'a', 'b', 'c']"
      ]
     },
     "execution_count": 72,
     "metadata": {},
     "output_type": "execute_result"
    }
   ],
   "source": [
    "list10"
   ]
  },
  {
   "cell_type": "markdown",
   "id": "ffa774a0-e18e-4a2f-b6ef-16500899b998",
   "metadata": {},
   "source": [
    "### 2.1.4 Delete List : del"
   ]
  },
  {
   "cell_type": "markdown",
   "id": "a4d6611c-7cf3-403e-bb9d-9d36c003b469",
   "metadata": {},
   "source": [
    "#### del ลบโดยใช้ index"
   ]
  },
  {
   "cell_type": "code",
   "execution_count": 73,
   "id": "7023ad02-7abb-4966-826d-6c56ff76969e",
   "metadata": {},
   "outputs": [],
   "source": [
    "list11 = [1, 2, 3, 'a', 'b', 'c']"
   ]
  },
  {
   "cell_type": "code",
   "execution_count": 74,
   "id": "f1979604-20a9-447b-8730-dbc44db9908c",
   "metadata": {},
   "outputs": [],
   "source": [
    "del list11[2]"
   ]
  },
  {
   "cell_type": "code",
   "execution_count": 75,
   "id": "8e8caa0d-599a-4e4e-a120-b434dfbd4dea",
   "metadata": {},
   "outputs": [
    {
     "data": {
      "text/plain": [
       "[1, 2, 'a', 'b', 'c']"
      ]
     },
     "execution_count": 75,
     "metadata": {},
     "output_type": "execute_result"
    }
   ],
   "source": [
    "list11"
   ]
  },
  {
   "cell_type": "code",
   "execution_count": 76,
   "id": "4d45f4dc-8f14-436a-94c6-9bd531b01247",
   "metadata": {},
   "outputs": [],
   "source": [
    "list11 = [1, 2, 3, 'a', 'b', 'c']"
   ]
  },
  {
   "cell_type": "code",
   "execution_count": 77,
   "id": "57636b54-5de0-489b-8c33-309be1474f09",
   "metadata": {},
   "outputs": [],
   "source": [
    "del list11[-2]"
   ]
  },
  {
   "cell_type": "code",
   "execution_count": 78,
   "id": "bb71529d-8f2d-4e51-82b5-c60b2467a77d",
   "metadata": {},
   "outputs": [
    {
     "data": {
      "text/plain": [
       "[1, 2, 3, 'a', 'c']"
      ]
     },
     "execution_count": 78,
     "metadata": {},
     "output_type": "execute_result"
    }
   ],
   "source": [
    "list11"
   ]
  },
  {
   "cell_type": "markdown",
   "id": "00a2751e-b254-46cc-8483-97f9d830b704",
   "metadata": {},
   "source": [
    "### 2.1.4 Delate List : remove "
   ]
  },
  {
   "cell_type": "markdown",
   "id": "55d7177e-53e1-403e-a0d9-9b63f5eb3b88",
   "metadata": {},
   "source": [
    "#### remove ลบโดยบอกค่า"
   ]
  },
  {
   "cell_type": "code",
   "execution_count": 79,
   "id": "d8e46910-d7b9-4def-b2ad-5ce420abe01f",
   "metadata": {},
   "outputs": [],
   "source": [
    "list12 = [1, 2, 3, 'a', 'b', 'c']"
   ]
  },
  {
   "cell_type": "code",
   "execution_count": 80,
   "id": "bb93b5d4-b3b6-4347-8970-819ba4d99134",
   "metadata": {},
   "outputs": [],
   "source": [
    "list12.remove(1)"
   ]
  },
  {
   "cell_type": "code",
   "execution_count": 81,
   "id": "e0ce35b4-0965-491c-b86f-bcacd4ca1791",
   "metadata": {},
   "outputs": [
    {
     "data": {
      "text/plain": [
       "[2, 3, 'a', 'b', 'c']"
      ]
     },
     "execution_count": 81,
     "metadata": {},
     "output_type": "execute_result"
    }
   ],
   "source": [
    "list12"
   ]
  },
  {
   "cell_type": "code",
   "execution_count": 82,
   "id": "3c289f8c-8d7c-469a-b5cf-d71a55e25410",
   "metadata": {},
   "outputs": [],
   "source": [
    "list12.remove('a')"
   ]
  },
  {
   "cell_type": "code",
   "execution_count": 83,
   "id": "c5a6bf6d-9681-4e8c-90d8-a859f447a416",
   "metadata": {},
   "outputs": [
    {
     "data": {
      "text/plain": [
       "[2, 3, 'b', 'c']"
      ]
     },
     "execution_count": 83,
     "metadata": {},
     "output_type": "execute_result"
    }
   ],
   "source": [
    "list12"
   ]
  },
  {
   "cell_type": "markdown",
   "id": "6baf33a7-32e1-4010-a953-d2b13ca6b482",
   "metadata": {},
   "source": [
    "### 2.1.4 Delete List : clear"
   ]
  },
  {
   "cell_type": "code",
   "execution_count": 84,
   "id": "391a58ce-0110-465d-9921-55f830e455ef",
   "metadata": {},
   "outputs": [],
   "source": [
    "list13 = [1, 2, 3, 'a', 'b', 'c']"
   ]
  },
  {
   "cell_type": "code",
   "execution_count": 85,
   "id": "0552fba4-314d-4a5a-8848-5a23afda53bc",
   "metadata": {},
   "outputs": [],
   "source": [
    "list13.clear()"
   ]
  },
  {
   "cell_type": "code",
   "execution_count": 86,
   "id": "44538caa-e033-4850-920f-f3f5eecec5ba",
   "metadata": {},
   "outputs": [
    {
     "data": {
      "text/plain": [
       "[]"
      ]
     },
     "execution_count": 86,
     "metadata": {},
     "output_type": "execute_result"
    }
   ],
   "source": [
    "list13"
   ]
  },
  {
   "cell_type": "markdown",
   "id": "64039412-178c-4625-b688-42c50b3c39bc",
   "metadata": {},
   "source": [
    "### 2.1.5 List + sort"
   ]
  },
  {
   "cell_type": "code",
   "execution_count": 87,
   "id": "e1afc9cb-34ec-44a9-8596-590806d9f13a",
   "metadata": {},
   "outputs": [],
   "source": [
    "list14 = [1, 5, 4, 2, 3]"
   ]
  },
  {
   "cell_type": "code",
   "execution_count": 88,
   "id": "ee86e422-e7e9-45e2-ad5b-207934f63ae1",
   "metadata": {},
   "outputs": [],
   "source": [
    "list14.sort()"
   ]
  },
  {
   "cell_type": "code",
   "execution_count": 89,
   "id": "5826c048-19da-4600-a95b-848e1d78ce62",
   "metadata": {},
   "outputs": [
    {
     "data": {
      "text/plain": [
       "[1, 2, 3, 4, 5]"
      ]
     },
     "execution_count": 89,
     "metadata": {},
     "output_type": "execute_result"
    }
   ],
   "source": [
    "list14"
   ]
  },
  {
   "cell_type": "code",
   "execution_count": 90,
   "id": "46e64db7-de1a-48d2-811f-efafeff04667",
   "metadata": {},
   "outputs": [],
   "source": [
    "list14 = [1, 5, 4, 2, 3]"
   ]
  },
  {
   "cell_type": "code",
   "execution_count": 91,
   "id": "c245c934-eefa-4981-baf5-c9bf77319f9f",
   "metadata": {},
   "outputs": [],
   "source": [
    "list14.sort(reverse = True)"
   ]
  },
  {
   "cell_type": "code",
   "execution_count": 92,
   "id": "cf7c8405-b32e-48e0-ab89-177004492f3d",
   "metadata": {},
   "outputs": [
    {
     "data": {
      "text/plain": [
       "[5, 4, 3, 2, 1]"
      ]
     },
     "execution_count": 92,
     "metadata": {},
     "output_type": "execute_result"
    }
   ],
   "source": [
    "list14"
   ]
  },
  {
   "cell_type": "code",
   "execution_count": 93,
   "id": "6ff7030d-e8fa-44f5-a5c7-f0cc2cd11469",
   "metadata": {},
   "outputs": [],
   "source": [
    "list14 = [1, 5, 4, 2, 3]"
   ]
  },
  {
   "cell_type": "code",
   "execution_count": 94,
   "id": "f36bf6ac-b9e4-4d69-936e-21be2db8fb5f",
   "metadata": {},
   "outputs": [],
   "source": [
    "sorted_list14 = sorted(list14) # sort and store in new variable keep the original one remain still."
   ]
  },
  {
   "cell_type": "code",
   "execution_count": 95,
   "id": "d60abadf-62bd-4f48-90cd-f61008af2c47",
   "metadata": {},
   "outputs": [
    {
     "data": {
      "text/plain": [
       "[1, 2, 3, 4, 5]"
      ]
     },
     "execution_count": 95,
     "metadata": {},
     "output_type": "execute_result"
    }
   ],
   "source": [
    "sorted_list14"
   ]
  },
  {
   "cell_type": "code",
   "execution_count": 96,
   "id": "472b4f33-a3c6-457f-9942-d378001fd7ce",
   "metadata": {},
   "outputs": [],
   "source": [
    "list14 = [1, 5, 4, 2, 3]"
   ]
  },
  {
   "cell_type": "code",
   "execution_count": 97,
   "id": "e080d641-48b8-48a1-b83c-d7ad0d4abdc6",
   "metadata": {},
   "outputs": [],
   "source": [
    "sorted_list14 = sorted(list14, reverse = True) "
   ]
  },
  {
   "cell_type": "code",
   "execution_count": 98,
   "id": "75d19c92-02ee-47fc-8b95-151cf7417ce8",
   "metadata": {},
   "outputs": [
    {
     "data": {
      "text/plain": [
       "[5, 4, 3, 2, 1]"
      ]
     },
     "execution_count": 98,
     "metadata": {},
     "output_type": "execute_result"
    }
   ],
   "source": [
    "sorted_list14"
   ]
  },
  {
   "cell_type": "markdown",
   "id": "f206d887-f776-4a92-b6cf-e5971c64cfc7",
   "metadata": {},
   "source": [
    "### 2.1.7 List + len"
   ]
  },
  {
   "cell_type": "code",
   "execution_count": 99,
   "id": "1757cd1e-3db9-4ee4-a312-68dde34e8aac",
   "metadata": {},
   "outputs": [],
   "source": [
    "list15 = [1, 2, 3, 'a', 'b', 'c']"
   ]
  },
  {
   "cell_type": "code",
   "execution_count": 100,
   "id": "930e0d4b-0793-4d35-a580-ec9ef580c138",
   "metadata": {},
   "outputs": [
    {
     "data": {
      "text/plain": [
       "6"
      ]
     },
     "execution_count": 100,
     "metadata": {},
     "output_type": "execute_result"
    }
   ],
   "source": [
    "len(list15) # len function check how many member in a list."
   ]
  },
  {
   "cell_type": "code",
   "execution_count": 101,
   "id": "496ad88e-f89e-4f1a-b051-3cc7b59cad67",
   "metadata": {},
   "outputs": [],
   "source": [
    "list16 = ['a', 'b', 'c', 'd', 'e']"
   ]
  },
  {
   "cell_type": "code",
   "execution_count": 102,
   "id": "6ab13036-e918-4d2c-9d1f-55947943458a",
   "metadata": {},
   "outputs": [
    {
     "data": {
      "text/plain": [
       "5"
      ]
     },
     "execution_count": 102,
     "metadata": {},
     "output_type": "execute_result"
    }
   ],
   "source": [
    "len(list16)"
   ]
  },
  {
   "cell_type": "markdown",
   "id": "033d1a08-1ccb-45e3-84d0-adbff4f5d078",
   "metadata": {},
   "source": [
    "### 2.1.8 List + in "
   ]
  },
  {
   "cell_type": "code",
   "execution_count": 103,
   "id": "f181b339-a120-4586-a95a-bb9290bbdde4",
   "metadata": {},
   "outputs": [],
   "source": [
    "list17 = [1, 2, 3, 'a', 'b', 'c']"
   ]
  },
  {
   "cell_type": "code",
   "execution_count": 104,
   "id": "fc1a1c89-d654-417f-93df-e9391cbc234d",
   "metadata": {},
   "outputs": [
    {
     "data": {
      "text/plain": [
       "True"
      ]
     },
     "execution_count": 104,
     "metadata": {},
     "output_type": "execute_result"
    }
   ],
   "source": [
    "'b' in list17 # in function check if 'b' is a member of list17 or not."
   ]
  },
  {
   "cell_type": "code",
   "execution_count": 105,
   "id": "22e285a2-bb18-4610-a490-63b382201472",
   "metadata": {},
   "outputs": [
    {
     "data": {
      "text/plain": [
       "False"
      ]
     },
     "execution_count": 105,
     "metadata": {},
     "output_type": "execute_result"
    }
   ],
   "source": [
    "4 in list17"
   ]
  },
  {
   "cell_type": "markdown",
   "id": "5cd1f1f9-f5bf-4dce-b1ed-a37ed9c69b62",
   "metadata": {},
   "source": [
    "## 2.2 Tuple "
   ]
  },
  {
   "cell_type": "raw",
   "id": "1d6f0ae9-2888-41dd-a070-ee5e673ab726",
   "metadata": {},
   "source": [
    "เหมือนกับ list แต่ไม่สามารถแก้ไขได้(สร้างเเล้วสร้างเลย) \n",
    "\" Create read + len + in \" \n",
    "note why use tuple instead of list in sometime??\n",
    "because tuple faster than list if you want to only read data."
   ]
  },
  {
   "cell_type": "markdown",
   "id": "040f7126-b1ee-4c40-90d1-4c54af89b1ee",
   "metadata": {},
   "source": [
    "### 2.2.1 Create Tuple"
   ]
  },
  {
   "cell_type": "code",
   "execution_count": 106,
   "id": "fff9d334-b85e-4f1a-ac5b-5a3bc04d8c07",
   "metadata": {},
   "outputs": [],
   "source": [
    "tuple1 = (1, 2, 3, 4, 5)\n",
    "tuple2 = ('a', 'b', 'c', 'd')\n",
    "tuple3 = (1, 2, 3, 'a', 'b', 'c')"
   ]
  },
  {
   "cell_type": "code",
   "execution_count": 107,
   "id": "19bee92a-5372-401e-96f3-ae5f2e42fb46",
   "metadata": {},
   "outputs": [
    {
     "data": {
      "text/plain": [
       "tuple"
      ]
     },
     "execution_count": 107,
     "metadata": {},
     "output_type": "execute_result"
    }
   ],
   "source": [
    "type(tuple1)"
   ]
  },
  {
   "cell_type": "code",
   "execution_count": 108,
   "id": "2e53d8b7-4c8a-471c-a63b-bde2d16f8cf4",
   "metadata": {},
   "outputs": [
    {
     "data": {
      "text/plain": [
       "tuple"
      ]
     },
     "execution_count": 108,
     "metadata": {},
     "output_type": "execute_result"
    }
   ],
   "source": [
    "type(tuple2)"
   ]
  },
  {
   "cell_type": "code",
   "execution_count": 109,
   "id": "a439849f-2417-49a4-ac77-92632862010f",
   "metadata": {},
   "outputs": [
    {
     "data": {
      "text/plain": [
       "tuple"
      ]
     },
     "execution_count": 109,
     "metadata": {},
     "output_type": "execute_result"
    }
   ],
   "source": [
    "type(tuple3)"
   ]
  },
  {
   "cell_type": "markdown",
   "id": "bbb9ad77-227a-4ed3-bf0f-849cb68b8e9c",
   "metadata": {},
   "source": [
    "### 2.2.2 Read Tuple"
   ]
  },
  {
   "cell_type": "code",
   "execution_count": 110,
   "id": "6ea0b82f-ad56-406d-9a1f-7c0e5b54bb5c",
   "metadata": {},
   "outputs": [],
   "source": [
    "tuple4 = (1, 2, 3, 'a', 'b', 'c')"
   ]
  },
  {
   "cell_type": "code",
   "execution_count": 111,
   "id": "c9e3a9d3-fc2b-4106-bc54-024ab5060291",
   "metadata": {},
   "outputs": [
    {
     "data": {
      "text/plain": [
       "1"
      ]
     },
     "execution_count": 111,
     "metadata": {},
     "output_type": "execute_result"
    }
   ],
   "source": [
    "tuple4[0]"
   ]
  },
  {
   "cell_type": "code",
   "execution_count": 112,
   "id": "49ac71de-fc07-4535-a7e8-cf6ca9e36ea5",
   "metadata": {},
   "outputs": [
    {
     "data": {
      "text/plain": [
       "'c'"
      ]
     },
     "execution_count": 112,
     "metadata": {},
     "output_type": "execute_result"
    }
   ],
   "source": [
    "tuple4[-1]"
   ]
  },
  {
   "cell_type": "code",
   "execution_count": 113,
   "id": "a73947b3-dab3-41eb-9050-586a1377dfaf",
   "metadata": {},
   "outputs": [
    {
     "data": {
      "text/plain": [
       "'b'"
      ]
     },
     "execution_count": 113,
     "metadata": {},
     "output_type": "execute_result"
    }
   ],
   "source": [
    "tuple4[-2]"
   ]
  },
  {
   "cell_type": "markdown",
   "id": "59f0c9ea-e753-4518-a9f4-17ac64437691",
   "metadata": {},
   "source": [
    "### 2.2.3 Tuple + len "
   ]
  },
  {
   "cell_type": "code",
   "execution_count": 114,
   "id": "b8f7d80e-a568-40f1-bcdf-7b82f131da09",
   "metadata": {},
   "outputs": [],
   "source": [
    "tuple6 = (1, 2, 3, 'a', 'b', 'c')"
   ]
  },
  {
   "cell_type": "code",
   "execution_count": 115,
   "id": "41a61154-47e9-4b00-8f60-ccdf2bf76d60",
   "metadata": {},
   "outputs": [
    {
     "data": {
      "text/plain": [
       "6"
      ]
     },
     "execution_count": 115,
     "metadata": {},
     "output_type": "execute_result"
    }
   ],
   "source": [
    "len(tuple6)"
   ]
  },
  {
   "cell_type": "code",
   "execution_count": 116,
   "id": "e8a07824-0dbf-4ff3-afe0-218236db99e3",
   "metadata": {},
   "outputs": [],
   "source": [
    "tuple7 = ('a', 'b', 'c', 'd', 'e')"
   ]
  },
  {
   "cell_type": "code",
   "execution_count": 117,
   "id": "182b54bd-0395-4338-90bd-241f3a767e82",
   "metadata": {},
   "outputs": [
    {
     "data": {
      "text/plain": [
       "5"
      ]
     },
     "execution_count": 117,
     "metadata": {},
     "output_type": "execute_result"
    }
   ],
   "source": [
    "len(tuple7)"
   ]
  },
  {
   "cell_type": "markdown",
   "id": "868bb71c-2789-4d75-9f01-7b876d17d480",
   "metadata": {},
   "source": [
    "### 2.2.4 Tuple + in "
   ]
  },
  {
   "cell_type": "code",
   "execution_count": 118,
   "id": "3dde23b4-1a67-4de8-922a-dc2f0b014d10",
   "metadata": {},
   "outputs": [],
   "source": [
    "tuple8 = (1, 2, 3, 'a', 'b', 'c')"
   ]
  },
  {
   "cell_type": "code",
   "execution_count": 119,
   "id": "1799b617-a6c2-478f-8ff5-0df08cc0b516",
   "metadata": {},
   "outputs": [
    {
     "data": {
      "text/plain": [
       "True"
      ]
     },
     "execution_count": 119,
     "metadata": {},
     "output_type": "execute_result"
    }
   ],
   "source": [
    "'b' in tuple8 "
   ]
  },
  {
   "cell_type": "code",
   "execution_count": 120,
   "id": "3843e23e-ed1f-4f14-a56c-785d1e67c959",
   "metadata": {},
   "outputs": [
    {
     "data": {
      "text/plain": [
       "False"
      ]
     },
     "execution_count": 120,
     "metadata": {},
     "output_type": "execute_result"
    }
   ],
   "source": [
    "4 in tuple8"
   ]
  },
  {
   "cell_type": "markdown",
   "id": "cfcb89b7-7303-409b-b1f9-00baf6c3907e",
   "metadata": {},
   "source": [
    "## 2.3 Dictionary"
   ]
  },
  {
   "cell_type": "raw",
   "id": "8cf6a314-8fe1-441c-bcfb-d314146ce63b",
   "metadata": {},
   "source": [
    "\" CRUD + len + in \" \n",
    "list and tuple is index based | and dictionary stored data in key: value based."
   ]
  },
  {
   "cell_type": "markdown",
   "id": "0f273bb9-6dfd-4b8c-8a78-a2a560d68aa4",
   "metadata": {},
   "source": [
    "### 2.3.1 Create Dictionary"
   ]
  },
  {
   "cell_type": "code",
   "execution_count": 121,
   "id": "38ecf4ab-f2f6-410f-b3fa-dfcb068314f4",
   "metadata": {},
   "outputs": [],
   "source": [
    "dict1 = {'firstname': 'John', 'lastname': 'Doe', 'age': 32}\n",
    "dict2 = {'fullname': 'John Doe', 'hobby': ['coding', 'study']}"
   ]
  },
  {
   "cell_type": "code",
   "execution_count": 122,
   "id": "a4add24c-f5eb-4caf-87c5-320e00e422b0",
   "metadata": {},
   "outputs": [
    {
     "data": {
      "text/plain": [
       "dict"
      ]
     },
     "execution_count": 122,
     "metadata": {},
     "output_type": "execute_result"
    }
   ],
   "source": [
    "type(dict1)"
   ]
  },
  {
   "cell_type": "code",
   "execution_count": 123,
   "id": "67b14772-2e45-487d-8c82-212a493c13db",
   "metadata": {},
   "outputs": [
    {
     "data": {
      "text/plain": [
       "dict"
      ]
     },
     "execution_count": 123,
     "metadata": {},
     "output_type": "execute_result"
    }
   ],
   "source": [
    "type(dict2)"
   ]
  },
  {
   "cell_type": "markdown",
   "id": "1b5e23e2-e0c7-4776-b316-439e761c43e7",
   "metadata": {},
   "source": [
    "### 2.3.2 Read Dictionary"
   ]
  },
  {
   "cell_type": "code",
   "execution_count": 124,
   "id": "f7ec8cbd-7b48-49cb-9664-84d8e55baedf",
   "metadata": {},
   "outputs": [],
   "source": [
    "dict3 = {'firstname': 'John', 'lastname': 'Doe', 'age': 32}"
   ]
  },
  {
   "cell_type": "code",
   "execution_count": 125,
   "id": "82136bec-9333-4bc1-8148-d6bd8207fe10",
   "metadata": {},
   "outputs": [
    {
     "data": {
      "text/plain": [
       "'John'"
      ]
     },
     "execution_count": 125,
     "metadata": {},
     "output_type": "execute_result"
    }
   ],
   "source": [
    "dict3['firstname']"
   ]
  },
  {
   "cell_type": "code",
   "execution_count": 126,
   "id": "d8295faf-1d10-4477-9392-44e1a0d240b4",
   "metadata": {},
   "outputs": [
    {
     "data": {
      "text/plain": [
       "32"
      ]
     },
     "execution_count": 126,
     "metadata": {},
     "output_type": "execute_result"
    }
   ],
   "source": [
    "dict3['age']"
   ]
  },
  {
   "cell_type": "markdown",
   "id": "ca34e019-bb73-429a-b104-f2d15730ef8b",
   "metadata": {},
   "source": [
    "### 2.3.3 Update Dictionary : replace "
   ]
  },
  {
   "cell_type": "code",
   "execution_count": 127,
   "id": "bf4172cf-50de-41ec-b358-8825c9fb5a48",
   "metadata": {},
   "outputs": [],
   "source": [
    "dict4 = {'firstname': 'John', 'lastname': 'Doe', 'age': 32}"
   ]
  },
  {
   "cell_type": "code",
   "execution_count": 128,
   "id": "ab535ca6-62e4-4a0f-8516-b2e98d5e969b",
   "metadata": {},
   "outputs": [],
   "source": [
    "dict4['firstname'] = 'Mario'"
   ]
  },
  {
   "cell_type": "code",
   "execution_count": 129,
   "id": "6978a816-d3e2-41c7-b6ef-aff56e188d80",
   "metadata": {},
   "outputs": [
    {
     "data": {
      "text/plain": [
       "{'firstname': 'Mario', 'lastname': 'Doe', 'age': 32}"
      ]
     },
     "execution_count": 129,
     "metadata": {},
     "output_type": "execute_result"
    }
   ],
   "source": [
    "dict4"
   ]
  },
  {
   "cell_type": "markdown",
   "id": "67d3567b-79d7-4707-8201-3c631aef5a53",
   "metadata": {},
   "source": [
    "### 2.3.3 Update Dictionary : Add"
   ]
  },
  {
   "cell_type": "code",
   "execution_count": 130,
   "id": "1a843b44-cae6-4810-afcc-6b15ec84bda5",
   "metadata": {},
   "outputs": [],
   "source": [
    "dict5 = {'firstname': 'John', 'lastname': 'Doe', 'age': 32}"
   ]
  },
  {
   "cell_type": "code",
   "execution_count": 131,
   "id": "bdc5c7b2-b867-4cbd-82d0-71b15f401e73",
   "metadata": {},
   "outputs": [],
   "source": [
    "dict5['blood_group'] = 'O'"
   ]
  },
  {
   "cell_type": "code",
   "execution_count": 132,
   "id": "a8bd9f6a-86a3-4c54-b09b-2da2b2beee46",
   "metadata": {},
   "outputs": [
    {
     "data": {
      "text/plain": [
       "{'firstname': 'John', 'lastname': 'Doe', 'age': 32, 'blood_group': 'O'}"
      ]
     },
     "execution_count": 132,
     "metadata": {},
     "output_type": "execute_result"
    }
   ],
   "source": [
    "dict5"
   ]
  },
  {
   "cell_type": "markdown",
   "id": "191a42d4-12a7-458c-a943-d31a6d57cffa",
   "metadata": {},
   "source": [
    "### 2.3.3 Update Dictionary : update"
   ]
  },
  {
   "cell_type": "code",
   "execution_count": 135,
   "id": "d63773c1-5aed-4ebe-87bd-f419ce1a9302",
   "metadata": {},
   "outputs": [],
   "source": [
    "dict6 = {'firstname': 'John', 'lastname': 'Doe', 'age': 32}"
   ]
  },
  {
   "cell_type": "code",
   "execution_count": 137,
   "id": "1af57390-28b0-4f74-8bad-3588c0a2ec9a",
   "metadata": {},
   "outputs": [],
   "source": [
    "dict6.update({'blood_group': 'O', 'height': 180})"
   ]
  },
  {
   "cell_type": "markdown",
   "id": "c12f18ab-4c73-4f79-88ba-cfaea1040ca3",
   "metadata": {},
   "source": [
    "dict6"
   ]
  },
  {
   "cell_type": "markdown",
   "id": "321699bd-10e1-4a7b-93fa-6f6f3af30541",
   "metadata": {},
   "source": [
    "### 2.3.4 Delete Dictionary : del "
   ]
  },
  {
   "cell_type": "code",
   "execution_count": 139,
   "id": "34a7cf93-1311-4421-821f-9c4af011839b",
   "metadata": {},
   "outputs": [],
   "source": [
    "dict7 = {'firstname': 'John', 'lastname': 'Doe', 'age': 32}"
   ]
  },
  {
   "cell_type": "code",
   "execution_count": 140,
   "id": "b3e00532-2790-4ffb-95dc-7ac1caf8662b",
   "metadata": {},
   "outputs": [],
   "source": [
    "del dict7['lastname']"
   ]
  },
  {
   "cell_type": "code",
   "execution_count": 141,
   "id": "c26e087b-689f-4674-b3ed-89a9d78c4433",
   "metadata": {},
   "outputs": [
    {
     "data": {
      "text/plain": [
       "{'firstname': 'John', 'age': 32}"
      ]
     },
     "execution_count": 141,
     "metadata": {},
     "output_type": "execute_result"
    }
   ],
   "source": [
    "dict7"
   ]
  },
  {
   "cell_type": "markdown",
   "id": "ddac8958-05b0-4d43-acfd-f18d9841db7a",
   "metadata": {},
   "source": [
    "### 2.3.4 Delete Dictionary : clear"
   ]
  },
  {
   "cell_type": "code",
   "execution_count": 142,
   "id": "609c5e98-aa4d-4003-b7ad-527da7786619",
   "metadata": {},
   "outputs": [],
   "source": [
    "dict8 = {'firstname': 'John', 'lastname': 'Doe', 'age': 32}"
   ]
  },
  {
   "cell_type": "code",
   "execution_count": 143,
   "id": "e298d4f7-d644-4f6d-a380-479ea9461be5",
   "metadata": {},
   "outputs": [],
   "source": [
    "dict8.clear()"
   ]
  },
  {
   "cell_type": "code",
   "execution_count": 144,
   "id": "665b9fe3-bf38-46f0-b1a7-4cedf357dec8",
   "metadata": {},
   "outputs": [
    {
     "data": {
      "text/plain": [
       "{}"
      ]
     },
     "execution_count": 144,
     "metadata": {},
     "output_type": "execute_result"
    }
   ],
   "source": [
    "dict8"
   ]
  },
  {
   "cell_type": "markdown",
   "id": "99895472-2127-46d1-94ca-4f54b5986678",
   "metadata": {},
   "source": [
    "### 2.3.5 Dictionary + len"
   ]
  },
  {
   "cell_type": "code",
   "execution_count": 145,
   "id": "7aa84ccd-b1cf-4288-869a-13dda8d9e01d",
   "metadata": {},
   "outputs": [],
   "source": [
    "dict9 = {'firstname': 'John', 'lastname': 'Doe', 'age': 32}"
   ]
  },
  {
   "cell_type": "code",
   "execution_count": 146,
   "id": "356343cd-d1d2-497a-85df-de0676bb58ef",
   "metadata": {},
   "outputs": [
    {
     "data": {
      "text/plain": [
       "3"
      ]
     },
     "execution_count": 146,
     "metadata": {},
     "output_type": "execute_result"
    }
   ],
   "source": [
    "len(dict9)"
   ]
  },
  {
   "cell_type": "code",
   "execution_count": 147,
   "id": "ec99481f-edbd-43bd-ba82-0100319c9128",
   "metadata": {},
   "outputs": [
    {
     "data": {
      "text/plain": [
       "3"
      ]
     },
     "execution_count": 147,
     "metadata": {},
     "output_type": "execute_result"
    }
   ],
   "source": [
    "len(dict9.keys())"
   ]
  },
  {
   "cell_type": "code",
   "execution_count": 148,
   "id": "42b15953-5228-4d56-b871-229327f873ae",
   "metadata": {},
   "outputs": [
    {
     "data": {
      "text/plain": [
       "3"
      ]
     },
     "execution_count": 148,
     "metadata": {},
     "output_type": "execute_result"
    }
   ],
   "source": [
    "len(dict9.values())"
   ]
  },
  {
   "cell_type": "markdown",
   "id": "16628a72-e7ab-4095-be1f-da1b7786a97e",
   "metadata": {},
   "source": [
    "### 2.3.6 Dictionary + in "
   ]
  },
  {
   "cell_type": "code",
   "execution_count": 151,
   "id": "0b3aab38-3be5-401b-a533-a8ca1af5292e",
   "metadata": {},
   "outputs": [],
   "source": [
    "dict10 = {'firstname': 'John', 'lastname': 'Doe', 'age': 32}"
   ]
  },
  {
   "cell_type": "code",
   "execution_count": 155,
   "id": "a30870fb-e3d1-4cc8-bed3-cdeee2bdf1fc",
   "metadata": {},
   "outputs": [
    {
     "data": {
      "text/plain": [
       "True"
      ]
     },
     "execution_count": 155,
     "metadata": {},
     "output_type": "execute_result"
    }
   ],
   "source": [
    "'firstname' in dict10 # Check if 'firstname' is in dict10."
   ]
  },
  {
   "cell_type": "code",
   "execution_count": 156,
   "id": "89c97428-27c4-462a-acaf-3e5622dee080",
   "metadata": {},
   "outputs": [
    {
     "data": {
      "text/plain": [
       "True"
      ]
     },
     "execution_count": 156,
     "metadata": {},
     "output_type": "execute_result"
    }
   ],
   "source": [
    "'firstname' in dict10.keys() # Check if 'firstname' is in keys of dict10."
   ]
  },
  {
   "cell_type": "code",
   "execution_count": 157,
   "id": "4d525023-f187-4e6f-8fdf-8ae5ea94e0d8",
   "metadata": {},
   "outputs": [
    {
     "data": {
      "text/plain": [
       "True"
      ]
     },
     "execution_count": 157,
     "metadata": {},
     "output_type": "execute_result"
    }
   ],
   "source": [
    "'John' in dict10.values() # Check if 'John' is in values of dict10."
   ]
  },
  {
   "cell_type": "markdown",
   "id": "3e585702-3c59-4efe-8b9f-74ae473065e7",
   "metadata": {},
   "source": [
    "## 2.4 Set"
   ]
  },
  {
   "cell_type": "raw",
   "id": "5b67ea64-8019-4421-a7cc-e84640e788e7",
   "metadata": {},
   "source": [
    "\" CRUD + len + in\" \n",
    "set ไม่มี index, key ให้อ้างอิงถึง value!\n",
    "แต่ set มี:\n",
    "Union, Intersection, Difference, Symmetric Difference"
   ]
  },
  {
   "cell_type": "markdown",
   "id": "4bc1cf6e-4f8d-405a-b41a-4e27303f6acf",
   "metadata": {},
   "source": [
    "### 2.4.1 Create Set "
   ]
  },
  {
   "cell_type": "code",
   "execution_count": 162,
   "id": "85be4f70-b7eb-494f-95fd-0f68387935b6",
   "metadata": {},
   "outputs": [],
   "source": [
    "set1 = {1, 2, 3, 4, 5} # Set structure is similar to dictionary but python know it is set or dictionary by reading inside '{}'\n",
    "set2 = {1, 2, 3, 'a', 'b', 'c'}"
   ]
  },
  {
   "cell_type": "raw",
   "id": "a3d32415-47c1-4ed5-b11c-53ab56272261",
   "metadata": {},
   "source": [
    "''' \n",
    "    Set structure is similar to dictionary but python know it is set or dictionary by reading inside '{}' braces symbol \n",
    "    for dictionary data stored as follow => {'key': 'value',.........} and so on \n",
    "    for set data stored as follow => {value1, value2,......., value_n} :DD\n",
    "'''"
   ]
  },
  {
   "cell_type": "code",
   "execution_count": 159,
   "id": "30a05a52-5f16-4cc2-88bc-58aa02dea211",
   "metadata": {},
   "outputs": [
    {
     "data": {
      "text/plain": [
       "set"
      ]
     },
     "execution_count": 159,
     "metadata": {},
     "output_type": "execute_result"
    }
   ],
   "source": [
    "type(set1)"
   ]
  },
  {
   "cell_type": "code",
   "execution_count": 160,
   "id": "ac12f33c-2285-40a5-a653-ae23687061bf",
   "metadata": {},
   "outputs": [
    {
     "data": {
      "text/plain": [
       "set"
      ]
     },
     "execution_count": 160,
     "metadata": {},
     "output_type": "execute_result"
    }
   ],
   "source": [
    "type(set2)"
   ]
  },
  {
   "cell_type": "markdown",
   "id": "dd4ae24e-4830-4fa7-b7cb-f43534c42928",
   "metadata": {},
   "source": [
    "### 2.4.2 Read Set "
   ]
  },
  {
   "cell_type": "raw",
   "id": "7972db15-11e8-43da-bddd-2eb2274efd2b",
   "metadata": {},
   "source": [
    "Set doesn't has an index based or key value based that why we can't access member in list in normal way.\n",
    "we usually use a for loop to run through all member in set.\n",
    "\n",
    "note: Set doesn't sorted the data you stored in it. if you stored {'a', 'b', 'c', 'd', 'e'} when you read it values will be unsort."
   ]
  },
  {
   "cell_type": "code",
   "execution_count": 164,
   "id": "d22f4c35-26f9-4f8d-addf-8236b2a3b771",
   "metadata": {},
   "outputs": [],
   "source": [
    "set3 = {'a', 'b', 'c', 'd', 'e'}"
   ]
  },
  {
   "cell_type": "code",
   "execution_count": 170,
   "id": "5b58161e-7977-4ef7-bbbb-3e5d3812a6f8",
   "metadata": {},
   "outputs": [
    {
     "name": "stdout",
     "output_type": "stream",
     "text": [
      "c\n",
      "d\n",
      "a\n",
      "b\n",
      "e\n"
     ]
    }
   ],
   "source": [
    "for member in set3:\n",
    "    print(member)"
   ]
  },
  {
   "cell_type": "markdown",
   "id": "9ddbd28d-7419-4b4c-a39d-19fddeb8eb9f",
   "metadata": {},
   "source": [
    "### 2.4.3 Update Set : add "
   ]
  },
  {
   "cell_type": "code",
   "execution_count": 172,
   "id": "3c35be07-1a16-4367-9050-9af4341f543d",
   "metadata": {},
   "outputs": [],
   "source": [
    "set4 = {'a', 'b', 'c', 'd', 'e'}"
   ]
  },
  {
   "cell_type": "code",
   "execution_count": 173,
   "id": "a284c1c0-df6e-41d8-9133-fce497f2cf62",
   "metadata": {},
   "outputs": [],
   "source": [
    "set4.add(1)"
   ]
  },
  {
   "cell_type": "code",
   "execution_count": 174,
   "id": "f8f08a4b-8e17-4065-a2e1-748b13bccca2",
   "metadata": {},
   "outputs": [
    {
     "data": {
      "text/plain": [
       "{1, 'a', 'b', 'c', 'd', 'e'}"
      ]
     },
     "execution_count": 174,
     "metadata": {},
     "output_type": "execute_result"
    }
   ],
   "source": [
    "set4"
   ]
  },
  {
   "cell_type": "markdown",
   "id": "c88e6da5-ef99-4548-a90d-aa2169855a03",
   "metadata": {},
   "source": [
    "### 2.4.3 Update Set: update"
   ]
  },
  {
   "cell_type": "code",
   "execution_count": 175,
   "id": "b76fd3af-7482-4f61-83b4-9154ac54107f",
   "metadata": {},
   "outputs": [],
   "source": [
    "set5 = {'a', 'b', 'c', 'd', 'e'}"
   ]
  },
  {
   "cell_type": "code",
   "execution_count": 176,
   "id": "722e5709-f8f8-4b00-ab5f-5fd495fb2ad3",
   "metadata": {},
   "outputs": [],
   "source": [
    "set5.update({1, 2})"
   ]
  },
  {
   "cell_type": "code",
   "execution_count": 177,
   "id": "c58b4bb7-9b50-486e-9895-d2b592fc55c8",
   "metadata": {},
   "outputs": [
    {
     "data": {
      "text/plain": [
       "{1, 2, 'a', 'b', 'c', 'd', 'e'}"
      ]
     },
     "execution_count": 177,
     "metadata": {},
     "output_type": "execute_result"
    }
   ],
   "source": [
    "set5"
   ]
  },
  {
   "cell_type": "markdown",
   "id": "8dd66e46-14c9-4f40-80f9-d4fe7c190c41",
   "metadata": {},
   "source": [
    "### 2.4.4 Delete Set: remove"
   ]
  },
  {
   "cell_type": "code",
   "execution_count": 178,
   "id": "892e4ab8-ade9-4b6a-99f5-693dca9103b7",
   "metadata": {},
   "outputs": [],
   "source": [
    "set6 = {'a', 'b', 'c', 'd', 'e'}"
   ]
  },
  {
   "cell_type": "code",
   "execution_count": 179,
   "id": "5d87d47b-1f04-4af1-8eb2-a2df17de35e0",
   "metadata": {},
   "outputs": [],
   "source": [
    "set6 .remove('a')"
   ]
  },
  {
   "cell_type": "code",
   "execution_count": 180,
   "id": "99ba74bc-3cc6-489d-80cf-c84b6b49f238",
   "metadata": {},
   "outputs": [
    {
     "data": {
      "text/plain": [
       "{'b', 'c', 'd', 'e'}"
      ]
     },
     "execution_count": 180,
     "metadata": {},
     "output_type": "execute_result"
    }
   ],
   "source": [
    "set6"
   ]
  },
  {
   "cell_type": "code",
   "execution_count": 181,
   "id": "1abe52e5-eec7-4942-95cb-8b3ef2e628ec",
   "metadata": {},
   "outputs": [],
   "source": [
    "set6.remove('c')"
   ]
  },
  {
   "cell_type": "code",
   "execution_count": 182,
   "id": "fbfa1eff-4b5f-4044-8e73-c453632c50a0",
   "metadata": {},
   "outputs": [
    {
     "data": {
      "text/plain": [
       "{'b', 'd', 'e'}"
      ]
     },
     "execution_count": 182,
     "metadata": {},
     "output_type": "execute_result"
    }
   ],
   "source": [
    "set6"
   ]
  },
  {
   "cell_type": "markdown",
   "id": "11b0e71a-f17b-44bf-b7d3-e2e3b0609b51",
   "metadata": {},
   "source": [
    "### 2.4.4 Delete Set: clear "
   ]
  },
  {
   "cell_type": "code",
   "execution_count": 183,
   "id": "47601e24-30b2-4155-86e6-db958f6372cc",
   "metadata": {},
   "outputs": [],
   "source": [
    "set7 = {'a', 'b', 'c', 'd', 'e'}"
   ]
  },
  {
   "cell_type": "code",
   "execution_count": 184,
   "id": "f145e241-1628-45eb-9c04-f01753c0c954",
   "metadata": {},
   "outputs": [],
   "source": [
    "set7.clear()"
   ]
  },
  {
   "cell_type": "code",
   "execution_count": 185,
   "id": "d4d93912-212a-44fe-9616-59644c6fb5aa",
   "metadata": {},
   "outputs": [
    {
     "data": {
      "text/plain": [
       "set()"
      ]
     },
     "execution_count": 185,
     "metadata": {},
     "output_type": "execute_result"
    }
   ],
   "source": [
    "set7"
   ]
  },
  {
   "cell_type": "markdown",
   "id": "96d0a70b-328e-44bf-8c0e-dc2c526925b7",
   "metadata": {},
   "source": [
    "### 2.4.5 Set + len"
   ]
  },
  {
   "cell_type": "code",
   "execution_count": 186,
   "id": "fe6908ba-6c6c-424d-990e-6284b97bb065",
   "metadata": {},
   "outputs": [],
   "source": [
    "set8 = {'a', 'b', 'c', 'd', 'e'}"
   ]
  },
  {
   "cell_type": "code",
   "execution_count": 187,
   "id": "5c46aa6d-e6dc-4a9b-89bf-530712e07853",
   "metadata": {},
   "outputs": [
    {
     "data": {
      "text/plain": [
       "5"
      ]
     },
     "execution_count": 187,
     "metadata": {},
     "output_type": "execute_result"
    }
   ],
   "source": [
    "len(set8)"
   ]
  },
  {
   "cell_type": "markdown",
   "id": "2d054d1b-0838-4d8c-9a52-54b5586ca515",
   "metadata": {},
   "source": [
    "### 2.4.6 Set + in "
   ]
  },
  {
   "cell_type": "code",
   "execution_count": 188,
   "id": "f6b830f3-c92a-4008-a225-bb66ccf46bb2",
   "metadata": {},
   "outputs": [],
   "source": [
    "set9 = {1, 2, 3, 4, 5} "
   ]
  },
  {
   "cell_type": "code",
   "execution_count": 189,
   "id": "2a6e46ce-668d-4a6e-86d6-562b7f54af83",
   "metadata": {},
   "outputs": [
    {
     "data": {
      "text/plain": [
       "True"
      ]
     },
     "execution_count": 189,
     "metadata": {},
     "output_type": "execute_result"
    }
   ],
   "source": [
    "1 in set9"
   ]
  },
  {
   "cell_type": "code",
   "execution_count": 190,
   "id": "3087714e-eadf-4d0e-b6dc-ccb6309381d5",
   "metadata": {},
   "outputs": [
    {
     "data": {
      "text/plain": [
       "False"
      ]
     },
     "execution_count": 190,
     "metadata": {},
     "output_type": "execute_result"
    }
   ],
   "source": [
    "'a' in set9"
   ]
  },
  {
   "cell_type": "markdown",
   "id": "b254ab95-1094-47db-b5a9-df2167e8a727",
   "metadata": {},
   "source": [
    "### 2.4.7 Set + Union "
   ]
  },
  {
   "cell_type": "code",
   "execution_count": 191,
   "id": "f07545f6-46c2-4d98-b8a8-9a31f1a333be",
   "metadata": {},
   "outputs": [],
   "source": [
    "setA = {1, 2, 3, 4, 5}\n",
    "setB = {3, 4, 5, 6, 7}"
   ]
  },
  {
   "cell_type": "code",
   "execution_count": 192,
   "id": "4a31b96b-b6a9-402d-a770-61cb9d2223db",
   "metadata": {},
   "outputs": [
    {
     "data": {
      "text/plain": [
       "{1, 2, 3, 4, 5, 6, 7}"
      ]
     },
     "execution_count": 192,
     "metadata": {},
     "output_type": "execute_result"
    }
   ],
   "source": [
    "setA | setB"
   ]
  },
  {
   "cell_type": "markdown",
   "id": "a0eda3a3-08d0-4b27-9013-38babbd2048a",
   "metadata": {},
   "source": [
    "### 2.4.8 Set + Intersection "
   ]
  },
  {
   "cell_type": "code",
   "execution_count": 193,
   "id": "06355e7f-6c26-4e17-a93d-b035e1d0d3a3",
   "metadata": {},
   "outputs": [],
   "source": [
    "setA = {1, 2, 3, 4, 5}\n",
    "setB = {3, 4, 5, 6, 7}"
   ]
  },
  {
   "cell_type": "code",
   "execution_count": 194,
   "id": "a8f99be0-4bfb-4468-875c-96aaa608dac1",
   "metadata": {},
   "outputs": [
    {
     "data": {
      "text/plain": [
       "{3, 4, 5}"
      ]
     },
     "execution_count": 194,
     "metadata": {},
     "output_type": "execute_result"
    }
   ],
   "source": [
    "setA & setB"
   ]
  },
  {
   "cell_type": "markdown",
   "id": "55602aa6-3fde-43c1-a60a-5dae9559c3bf",
   "metadata": {},
   "source": [
    "### 2.4.9 Set + Difference"
   ]
  },
  {
   "cell_type": "code",
   "execution_count": 195,
   "id": "314c36fc-8356-4e11-8a8a-51ad62b4d93a",
   "metadata": {},
   "outputs": [],
   "source": [
    "setA = {1, 2, 3, 4, 5}\n",
    "setB = {3, 4, 5, 6, 7}"
   ]
  },
  {
   "cell_type": "code",
   "execution_count": 196,
   "id": "3b42efc1-5c15-4c89-80bb-728816b83f3f",
   "metadata": {},
   "outputs": [
    {
     "data": {
      "text/plain": [
       "{1, 2}"
      ]
     },
     "execution_count": 196,
     "metadata": {},
     "output_type": "execute_result"
    }
   ],
   "source": [
    "setA - setB"
   ]
  },
  {
   "cell_type": "code",
   "execution_count": 197,
   "id": "701db7c9-82b1-4437-b386-fbb48bb6579f",
   "metadata": {},
   "outputs": [
    {
     "data": {
      "text/plain": [
       "{6, 7}"
      ]
     },
     "execution_count": 197,
     "metadata": {},
     "output_type": "execute_result"
    }
   ],
   "source": [
    "setB - setA "
   ]
  },
  {
   "cell_type": "markdown",
   "id": "ef9f9804-ca64-4495-9b86-f39a57736df6",
   "metadata": {},
   "source": [
    "### 2.4.10 Set + Symmetic Difference"
   ]
  },
  {
   "cell_type": "code",
   "execution_count": 198,
   "id": "04e9cb5b-23b5-4893-b59d-222ce91af790",
   "metadata": {},
   "outputs": [],
   "source": [
    "setA = {1, 2, 3, 4, 5}\n",
    "setB = {3, 4, 5, 6, 7}"
   ]
  },
  {
   "cell_type": "code",
   "execution_count": 200,
   "id": "93f7a83d-1a3b-4a3e-ba2a-8ece66a1933b",
   "metadata": {},
   "outputs": [
    {
     "data": {
      "text/plain": [
       "{1, 2, 6, 7}"
      ]
     },
     "execution_count": 200,
     "metadata": {},
     "output_type": "execute_result"
    }
   ],
   "source": [
    "setA ^ setB # (setA | setB) - (setA & setB)"
   ]
  },
  {
   "cell_type": "code",
   "execution_count": 10,
   "id": "50b682bb-0efc-4bea-8ac0-41d97e460492",
   "metadata": {},
   "outputs": [
    {
     "name": "stdout",
     "output_type": "stream",
     "text": [
      "9\n"
     ]
    }
   ],
   "source": [
    "list1 = [1,2,3,4,5,6,7,8,9,10]\n",
    "n = len(list1) - 1\n",
    "print(n)"
   ]
  },
  {
   "cell_type": "code",
   "execution_count": 14,
   "id": "d96bbdea-1d64-4301-b1ca-3906db253496",
   "metadata": {},
   "outputs": [
    {
     "name": "stdout",
     "output_type": "stream",
     "text": [
      "1\n",
      "3\n",
      "5\n",
      "7\n",
      "9\n"
     ]
    }
   ],
   "source": [
    "list1 = [1,2,3,4,5,6,7,8,9,10]\n",
    "n = len(list1) - 1\n",
    "i = 0\n",
    "while i <=n :\n",
    "    print(list1[i])\n",
    "    i += 2"
   ]
  },
  {
   "cell_type": "code",
   "execution_count": 19,
   "id": "1ad9c699-fde2-4c69-b673-8389f874b3b7",
   "metadata": {},
   "outputs": [
    {
     "name": "stdout",
     "output_type": "stream",
     "text": [
      "2\n",
      "4\n",
      "6\n",
      "8\n",
      "10\n"
     ]
    }
   ],
   "source": [
    "list1 = [1,2,3,4,5,6,7,8,9,10]\n",
    "n = len(list1) \n",
    "\n",
    "for i in range(1, n, 2):\n",
    "    print(list1[i])"
   ]
  },
  {
   "cell_type": "code",
   "execution_count": null,
   "id": "ebd8e415-37cc-488d-9a54-36716a98d550",
   "metadata": {},
   "outputs": [],
   "source": []
  }
 ],
 "metadata": {
  "kernelspec": {
   "display_name": "Python 3 (ipykernel)",
   "language": "python",
   "name": "python3"
  },
  "language_info": {
   "codemirror_mode": {
    "name": "ipython",
    "version": 3
   },
   "file_extension": ".py",
   "mimetype": "text/x-python",
   "name": "python",
   "nbconvert_exporter": "python",
   "pygments_lexer": "ipython3",
   "version": "3.11.7"
  }
 },
 "nbformat": 4,
 "nbformat_minor": 5
}
