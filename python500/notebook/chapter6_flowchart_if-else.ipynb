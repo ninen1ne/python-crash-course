{
 "cells": [
  {
   "cell_type": "markdown",
   "id": "410d51da-1ea6-4f02-8fbc-4ceb83939f3e",
   "metadata": {},
   "source": [
    "# If-Else"
   ]
  },
  {
   "cell_type": "markdown",
   "id": "9062c81e-6e46-4dc3-99c2-7ebb19dddf3c",
   "metadata": {},
   "source": [
    "## 1. if\n",
    "### if 1.จะมี 1 condition \n",
    "###    2.ด้านที่เป็น Flase จะไม่ทำอะไร"
   ]
  },
  {
   "cell_type": "code",
   "execution_count": 2,
   "id": "b30a29e8-7a16-4e25-b86c-c27dda2f7ff4",
   "metadata": {},
   "outputs": [
    {
     "name": "stdin",
     "output_type": "stream",
     "text": [
      "Please insert your name:  John\n"
     ]
    },
    {
     "name": "stdout",
     "output_type": "stream",
     "text": [
      "\n",
      "Hi john\n",
      "Nice to meet you\n"
     ]
    }
   ],
   "source": [
    "name = input('Please insert your name: ')\n",
    "print()\n",
    "if name == 'John':\n",
    "    print('Hi john')\n",
    "print('Nice to meet you')"
   ]
  },
  {
   "cell_type": "markdown",
   "id": "da1ff8c6-10df-4e0d-b3fc-b84dc342bca4",
   "metadata": {},
   "source": [
    "## 2. if-else\n",
    "### if-else: มี 1 condition 2.ทำด้านที่เป็น False "
   ]
  },
  {
   "cell_type": "code",
   "execution_count": 6,
   "id": "0b9caff3-f446-4c55-8b55-4a0ed7b09906",
   "metadata": {},
   "outputs": [
    {
     "name": "stdin",
     "output_type": "stream",
     "text": [
      "Please insert score:  50\n"
     ]
    },
    {
     "name": "stdout",
     "output_type": "stream",
     "text": [
      "Pass\n"
     ]
    }
   ],
   "source": [
    "score = int(input('Please insert score: '))\n",
    "if score >= 50:\n",
    "    print('Pass')\n",
    "else:\n",
    "    print('Fail')\n"
   ]
  },
  {
   "cell_type": "markdown",
   "id": "92769506-409f-4e7b-91a7-7c3b2bcb4e4f",
   "metadata": {},
   "source": [
    "## 3. if-elif "
   ]
  },
  {
   "cell_type": "markdown",
   "id": "18703956-115a-4b98-ac68-9fd3bdbae605",
   "metadata": {},
   "source": [
    "### if-elif : 1.มีตั้งแต่ 2 condition ขึ้นไป | 2. ที่ condition สุดท้ายไม่ทำด้วย False"
   ]
  },
  {
   "cell_type": "code",
   "execution_count": 7,
   "id": "a9c13e0f-3032-4c5c-aa95-d9230863d888",
   "metadata": {},
   "outputs": [
    {
     "name": "stdin",
     "output_type": "stream",
     "text": [
      "Please insert your name:  no\n"
     ]
    },
    {
     "name": "stdout",
     "output_type": "stream",
     "text": [
      "\n",
      "Glad to see you\n"
     ]
    }
   ],
   "source": [
    "name = input('Please insert your name: ')\n",
    "print()\n",
    "if name == 'Alan Turing':\n",
    "    print('Oh God !')\n",
    "elif name == 'Isaac Newton':\n",
    "    print('OMG !')\n",
    "print('Glad to see you')"
   ]
  },
  {
   "cell_type": "markdown",
   "id": "5677d10c-9816-4202-af02-441397493ff6",
   "metadata": {},
   "source": [
    "## 4. if-elif-else"
   ]
  },
  {
   "cell_type": "markdown",
   "id": "2606bcdc-b707-49f8-b106-2670ed1eb324",
   "metadata": {},
   "source": [
    "### if-elif-else: 1.มีตั้งแต่ 2 conditions ขึ้นไป 2. ทำด้าน False ของ condition สุดท้าย"
   ]
  },
  {
   "cell_type": "code",
   "execution_count": 8,
   "id": "6efc7fbd-9f5b-460f-8612-25a43cd2d2f3",
   "metadata": {},
   "outputs": [
    {
     "name": "stdin",
     "output_type": "stream",
     "text": [
      "Please insert your name:  Cherry\n"
     ]
    },
    {
     "name": "stdout",
     "output_type": "stream",
     "text": [
      "\n",
      "I love you\n"
     ]
    }
   ],
   "source": [
    "name = input('Please insert your name: ')\n",
    "print()\n",
    "if name == 'Gift':\n",
    "    print('I miss you')\n",
    "elif name == 'Cherry':\n",
    "    print('I love you')\n",
    "elif name == 'Wine':\n",
    "    print('I need you')\n",
    "else:\n",
    "    print('Leave me alone')"
   ]
  },
  {
   "cell_type": "code",
   "execution_count": null,
   "id": "89c7813f-c3aa-4931-b151-a17d1798f4b6",
   "metadata": {},
   "outputs": [],
   "source": []
  }
 ],
 "metadata": {
  "kernelspec": {
   "display_name": "Python 3 (ipykernel)",
   "language": "python",
   "name": "python3"
  },
  "language_info": {
   "codemirror_mode": {
    "name": "ipython",
    "version": 3
   },
   "file_extension": ".py",
   "mimetype": "text/x-python",
   "name": "python",
   "nbconvert_exporter": "python",
   "pygments_lexer": "ipython3",
   "version": "3.11.7"
  }
 },
 "nbformat": 4,
 "nbformat_minor": 5
}
