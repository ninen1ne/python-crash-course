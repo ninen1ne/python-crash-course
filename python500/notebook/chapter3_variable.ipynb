{
 "cells": [
  {
   "cell_type": "markdown",
   "id": "808356e2-e047-455b-9bee-6d78ae14c18d",
   "metadata": {},
   "source": [
    "Variable"
   ]
  },
  {
   "cell_type": "markdown",
   "id": "86d747bf-151d-4975-b2e4-47bfeadc6585",
   "metadata": {},
   "source": [
    "1 Create & Assign"
   ]
  },
  {
   "cell_type": "code",
   "execution_count": 2,
   "id": "410c8311-4aee-4777-bd59-642932706eda",
   "metadata": {},
   "outputs": [],
   "source": [
    "firstname = 'John'"
   ]
  },
  {
   "cell_type": "code",
   "execution_count": 3,
   "id": "c3844541-5dc2-4abb-b9f2-642311221aef",
   "metadata": {},
   "outputs": [],
   "source": [
    "lastname = 'Doe'"
   ]
  },
  {
   "cell_type": "code",
   "execution_count": 4,
   "id": "f446e631-ccd6-446a-a2a1-f22fcd240474",
   "metadata": {},
   "outputs": [],
   "source": [
    "age_full = 'I\\'m 32 years old.'"
   ]
  },
  {
   "cell_type": "code",
   "execution_count": 8,
   "id": "d8c7ca33-ceda-4c96-aefb-cfbdfbd156cb",
   "metadata": {},
   "outputs": [
    {
     "name": "stdout",
     "output_type": "stream",
     "text": [
      "My first name is John.\n",
      "My last name is Doe.\n",
      "I'm 32 years old.\n"
     ]
    }
   ],
   "source": [
    "print('My first name is', firstname + '.')\n",
    "print('My last name is', lastname + '.')\n",
    "print(age_full)"
   ]
  },
  {
   "cell_type": "code",
   "execution_count": 9,
   "id": "5d3c0a9a-7225-4096-9819-7444dc089620",
   "metadata": {},
   "outputs": [],
   "source": [
    "a = 5"
   ]
  },
  {
   "cell_type": "code",
   "execution_count": 10,
   "id": "454df05e-0eef-43c2-9d2e-cbdeae5b64e5",
   "metadata": {},
   "outputs": [],
   "source": [
    "b = 7"
   ]
  },
  {
   "cell_type": "code",
   "execution_count": 12,
   "id": "32151e9a-3f59-43a5-8b68-6e6d519aa0c5",
   "metadata": {},
   "outputs": [
    {
     "name": "stdout",
     "output_type": "stream",
     "text": [
      "a = 5\n",
      "b = 7\n",
      "a + b = 12\n"
     ]
    }
   ],
   "source": [
    "print('a =', a)\n",
    "print('b =', b)\n",
    "print('a + b =', a+b)"
   ]
  },
  {
   "cell_type": "markdown",
   "id": "8d9d285d-74e6-4dc8-8641-00e1ff52d588",
   "metadata": {},
   "source": [
    "2. Create Multiple Variable"
   ]
  },
  {
   "cell_type": "code",
   "execution_count": 13,
   "id": "885a30fa-ffa7-492a-9d7b-ca2c718f7c8d",
   "metadata": {},
   "outputs": [],
   "source": [
    "c = d = e = 5"
   ]
  },
  {
   "cell_type": "code",
   "execution_count": 14,
   "id": "3cad2a3a-af73-4e3e-86d2-9ffe223910d4",
   "metadata": {},
   "outputs": [
    {
     "name": "stdout",
     "output_type": "stream",
     "text": [
      "c = 5\n",
      "d = 5\n",
      "e = 5\n"
     ]
    }
   ],
   "source": [
    "print('c =', c)\n",
    "print('d =', d)\n",
    "print('e =', e)"
   ]
  },
  {
   "cell_type": "code",
   "execution_count": 20,
   "id": "f4c06387-bce0-4ccc-94cc-8dd849ff5a63",
   "metadata": {},
   "outputs": [],
   "source": [
    "f = 6; g = 7; h = 8; #sol 1 semicolon use for tell python that after ';' it's end of the line.\n",
    "# another sol is | f, g, h = 6, 7, 8 first variable match first number and so on."
   ]
  },
  {
   "cell_type": "code",
   "execution_count": 16,
   "id": "2ccfae9c-bfbf-4ff7-b481-5c3f215de465",
   "metadata": {},
   "outputs": [
    {
     "name": "stdout",
     "output_type": "stream",
     "text": [
      "f = 6\n",
      "g = 7\n",
      "h = 8\n"
     ]
    }
   ],
   "source": [
    "print('f =', f)\n",
    "print('g =', g)\n",
    "print('h =', h)"
   ]
  },
  {
   "cell_type": "markdown",
   "id": "6376d80c-bea5-4fc2-bab7-9a2bc4757b36",
   "metadata": {},
   "source": [
    "3. Identifier"
   ]
  },
  {
   "cell_type": "markdown",
   "id": "ff3a7cfb-dd22-4c90-807c-0679bb78b7be",
   "metadata": {},
   "source": [
    "3.1 Character & underscore First - When we declare variable underscore and character must go first before other."
   ]
  },
  {
   "cell_type": "code",
   "execution_count": 26,
   "id": "62314f19-195c-46ef-a0b3-53a0a8209709",
   "metadata": {},
   "outputs": [],
   "source": [
    "a1 = 5 "
   ]
  },
  {
   "cell_type": "code",
   "execution_count": 27,
   "id": "b160ba66-4cb3-4f8e-bf34-c25588b8a279",
   "metadata": {},
   "outputs": [
    {
     "ename": "SyntaxError",
     "evalue": "invalid decimal literal (549847243.py, line 1)",
     "output_type": "error",
     "traceback": [
      "\u001b[1;36m  Cell \u001b[1;32mIn[27], line 1\u001b[1;36m\u001b[0m\n\u001b[1;33m    1a = 5 # | if variable name is => 1a = 5 the error will occur.\u001b[0m\n\u001b[1;37m    ^\u001b[0m\n\u001b[1;31mSyntaxError\u001b[0m\u001b[1;31m:\u001b[0m invalid decimal literal\n"
     ]
    }
   ],
   "source": [
    "1a = 5 # | if variable name is => 1a = 5 the error will occur."
   ]
  },
  {
   "cell_type": "code",
   "execution_count": 23,
   "id": "a67bd52a-dfcf-4c9c-b36e-26055968b035",
   "metadata": {},
   "outputs": [
    {
     "name": "stdout",
     "output_type": "stream",
     "text": [
      "a1 = 5\n",
      "a1 = 5\n"
     ]
    }
   ],
   "source": [
    "print('a1 = %d' %a1)\n",
    "print('a1 =', a1)"
   ]
  },
  {
   "cell_type": "code",
   "execution_count": 24,
   "id": "7ff3729f-0800-4fd6-9e4b-2c0be9bc2dfa",
   "metadata": {},
   "outputs": [],
   "source": [
    "_a = 7"
   ]
  },
  {
   "cell_type": "code",
   "execution_count": 25,
   "id": "ceae562b-cae9-428c-abd8-699d8e005ded",
   "metadata": {},
   "outputs": [
    {
     "name": "stdout",
     "output_type": "stream",
     "text": [
      "_a = 7\n",
      "_a = 7\n"
     ]
    }
   ],
   "source": [
    "print('_a =', _a)\n",
    "print('_a = %d' %_a)"
   ]
  },
  {
   "cell_type": "markdown",
   "id": "f2774aa5-0673-41b0-adca-274ce26765dc",
   "metadata": {},
   "source": [
    "Case Sensitive - normal letter and capital letter even it's same letter python still considered they are difference variable."
   ]
  },
  {
   "cell_type": "code",
   "execution_count": 28,
   "id": "73b8231f-071e-412e-902c-55c6e0b6534a",
   "metadata": {},
   "outputs": [],
   "source": [
    "a = 5\n",
    "b = 7"
   ]
  },
  {
   "cell_type": "code",
   "execution_count": 29,
   "id": "e011f717-c6b4-4028-87a5-045ce1a1aba7",
   "metadata": {},
   "outputs": [],
   "source": [
    "A = 10 \n",
    "B = 14"
   ]
  },
  {
   "cell_type": "code",
   "execution_count": 31,
   "id": "9f19b58a-856c-4ad6-8415-49126599aec2",
   "metadata": {},
   "outputs": [
    {
     "name": "stdout",
     "output_type": "stream",
     "text": [
      "a = 5\n",
      "b = 7\n",
      "A = 10\n",
      "B = 14\n"
     ]
    }
   ],
   "source": [
    "print('a =', a)\n",
    "print('b =', b)\n",
    "print('A =', A)\n",
    "print('B =', B)"
   ]
  },
  {
   "cell_type": "markdown",
   "id": "653830ac-3b58-4462-a75f-0825ef1c09b1",
   "metadata": {},
   "source": [
    "3.3 Special Character"
   ]
  },
  {
   "cell_type": "code",
   "execution_count": 32,
   "id": "fc0c41d0-b80c-41ff-a052-bce214d33e9b",
   "metadata": {},
   "outputs": [
    {
     "data": {
      "text/plain": [
       "'\\n{} [] ! @ # $ % ^ & * () - = / | \\\\ . <>\\n'"
      ]
     },
     "execution_count": 32,
     "metadata": {},
     "output_type": "execute_result"
    }
   ],
   "source": [
    "'''\n",
    "{} [] ! @ # $ % ^ & * () - = / | \\ . <>\n",
    "'''\n",
    "# These are special character in python."
   ]
  },
  {
   "cell_type": "code",
   "execution_count": 33,
   "id": "49fa69b6-dca7-4c77-8b16-8aae3b838f9b",
   "metadata": {},
   "outputs": [
    {
     "ename": "SyntaxError",
     "evalue": "invalid syntax (3549283249.py, line 1)",
     "output_type": "error",
     "traceback": [
      "\u001b[1;36m  Cell \u001b[1;32mIn[33], line 1\u001b[1;36m\u001b[0m\n\u001b[1;33m    c$d = 7\u001b[0m\n\u001b[1;37m     ^\u001b[0m\n\u001b[1;31mSyntaxError\u001b[0m\u001b[1;31m:\u001b[0m invalid syntax\n"
     ]
    }
   ],
   "source": [
    "c$d = 7"
   ]
  },
  {
   "cell_type": "code",
   "execution_count": 34,
   "id": "05c918fc-9b5e-417a-a045-c271041eecbc",
   "metadata": {},
   "outputs": [
    {
     "ename": "AttributeError",
     "evalue": "'int' object has no attribute 'd'",
     "output_type": "error",
     "traceback": [
      "\u001b[1;31m---------------------------------------------------------------------------\u001b[0m",
      "\u001b[1;31mAttributeError\u001b[0m                            Traceback (most recent call last)",
      "Cell \u001b[1;32mIn[34], line 1\u001b[0m\n\u001b[1;32m----> 1\u001b[0m c\u001b[38;5;241m.\u001b[39md \u001b[38;5;241m=\u001b[39m \u001b[38;5;241m8\u001b[39m\n",
      "\u001b[1;31mAttributeError\u001b[0m: 'int' object has no attribute 'd'"
     ]
    }
   ],
   "source": [
    "c.d = 8"
   ]
  },
  {
   "cell_type": "code",
   "execution_count": 36,
   "id": "e658320b-545c-4467-899b-b890579be0c0",
   "metadata": {},
   "outputs": [
    {
     "ename": "SyntaxError",
     "evalue": "invalid syntax (2311108400.py, line 1)",
     "output_type": "error",
     "traceback": [
      "\u001b[1;36m  Cell \u001b[1;32mIn[36], line 1\u001b[1;36m\u001b[0m\n\u001b[1;33m    c d = 9 # เว้นว่างระหว่างชื่อตัวแปรไม่ได้\u001b[0m\n\u001b[1;37m      ^\u001b[0m\n\u001b[1;31mSyntaxError\u001b[0m\u001b[1;31m:\u001b[0m invalid syntax\n"
     ]
    }
   ],
   "source": [
    "c d = 9 # เว้นว่างระหว่างชื่อตัวแปรไม่ได้"
   ]
  },
  {
   "cell_type": "markdown",
   "id": "b4c02e2a-b4cb-4838-ba9a-2e2d1bebdc71",
   "metadata": {},
   "source": [
    "Reserved Word in python \n",
    "คือ คำที่ python ขอสงวนไว้ห้ามใช้ตั้งชื่อตัวแปร เพราะ python ใช้คำเหล่านี้ในการทำงานของ program\n",
    "=>  and, assert, break, class ,continue, def, del, elif, else, except, exec, finally, for, from, global\n",
    "    ,if, import, in, is, lambda, not, or, pass, print, raise, return, try, while, yield"
   ]
  }
 ],
 "metadata": {
  "kernelspec": {
   "display_name": "Python 3 (ipykernel)",
   "language": "python",
   "name": "python3"
  },
  "language_info": {
   "codemirror_mode": {
    "name": "ipython",
    "version": 3
   },
   "file_extension": ".py",
   "mimetype": "text/x-python",
   "name": "python",
   "nbconvert_exporter": "python",
   "pygments_lexer": "ipython3",
   "version": "3.11.7"
  }
 },
 "nbformat": 4,
 "nbformat_minor": 5
}
