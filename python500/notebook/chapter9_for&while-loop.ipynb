{
 "cells": [
  {
   "cell_type": "markdown",
   "id": "b57b1d0b-16d0-43b0-b2b0-d5b1b4012d71",
   "metadata": {},
   "source": [
    "# for & while loop"
   ]
  },
  {
   "cell_type": "markdown",
   "id": "67b2bf6d-ae21-4709-9bec-80e56717e859",
   "metadata": {},
   "source": [
    "## for\n",
    "## 1.1 standard for\n",
    "## 1.2 for + string\n",
    "## 1.3 for + list \n",
    "## 1.4 for + tuple\n",
    "## 1.5 for + dictionary\n",
    "## 1.6 for + set"
   ]
  },
  {
   "cell_type": "markdown",
   "id": "efaaa352-6d30-4f83-990e-8717849f1782",
   "metadata": {},
   "source": [
    "## 1.1 standard for "
   ]
  },
  {
   "cell_type": "markdown",
   "id": "7c1c3fbf-2789-439b-be70-b4a72f617c9c",
   "metadata": {},
   "source": [
    "### 1.1.1 for i in range(end)"
   ]
  },
  {
   "cell_type": "code",
   "execution_count": 1,
   "id": "8c5e0a0a-4c70-4cdd-be90-f41356078d52",
   "metadata": {},
   "outputs": [
    {
     "name": "stdout",
     "output_type": "stream",
     "text": [
      "0\n",
      "1\n",
      "2\n",
      "3\n",
      "4\n"
     ]
    }
   ],
   "source": [
    "for i in range(5):\n",
    "    print(i)"
   ]
  },
  {
   "cell_type": "markdown",
   "id": "a520f5f2-3972-425b-b57c-21b6807f2013",
   "metadata": {},
   "source": [
    " ### 1.1.2  for i in range(start, end)"
   ]
  },
  {
   "cell_type": "code",
   "execution_count": 2,
   "id": "d430df81-92d2-42dd-9c16-1dfda0be0861",
   "metadata": {},
   "outputs": [
    {
     "name": "stdout",
     "output_type": "stream",
     "text": [
      "5\n",
      "6\n",
      "7\n",
      "8\n",
      "9\n",
      "10\n"
     ]
    }
   ],
   "source": [
    "for i in range(5, 11):\n",
    "    print(i)"
   ]
  },
  {
   "cell_type": "markdown",
   "id": "451cac43-581d-4efd-b498-c079b9cb926a",
   "metadata": {},
   "source": [
    "### 1.1.3 for i in range(start, end, step):"
   ]
  },
  {
   "cell_type": "code",
   "execution_count": 3,
   "id": "4dad2e3a-540c-4770-b1f5-d6a00e642760",
   "metadata": {},
   "outputs": [
    {
     "name": "stdout",
     "output_type": "stream",
     "text": [
      "10\n",
      "12\n",
      "14\n",
      "16\n",
      "18\n"
     ]
    }
   ],
   "source": [
    "for i in range(10, 20, 2):\n",
    "    print(i)"
   ]
  },
  {
   "cell_type": "markdown",
   "id": "5a275ac9-8226-4b3c-a5e6-78f5f63aa55f",
   "metadata": {},
   "source": [
    "## 1.2 for + string "
   ]
  },
  {
   "cell_type": "code",
   "execution_count": 4,
   "id": "1e3a7520-1e7e-4205-be4c-b02264bde147",
   "metadata": {},
   "outputs": [
    {
     "name": "stdout",
     "output_type": "stream",
     "text": [
      "P\n",
      "y\n",
      "t\n",
      "h\n",
      "o\n",
      "n\n"
     ]
    }
   ],
   "source": [
    "char = 'Python'\n",
    "n = len(char)\n",
    "for i in range(n):\n",
    "    print(char[i])"
   ]
  },
  {
   "cell_type": "code",
   "execution_count": 5,
   "id": "c32de14c-7a60-4eff-9bcc-1d01f0ab8870",
   "metadata": {},
   "outputs": [
    {
     "name": "stdout",
     "output_type": "stream",
     "text": [
      "P\n",
      "y\n",
      "t\n",
      "h\n",
      "o\n",
      "n\n"
     ]
    }
   ],
   "source": [
    "char = 'Python'\n",
    "for i in range(len(char)):\n",
    "    print(char[i])"
   ]
  },
  {
   "cell_type": "code",
   "execution_count": 6,
   "id": "a26e8f23-0227-4923-b9aa-4e026dda18d2",
   "metadata": {},
   "outputs": [
    {
     "name": "stdout",
     "output_type": "stream",
     "text": [
      "P\n",
      "y\n",
      "t\n",
      "h\n",
      "o\n",
      "n\n"
     ]
    }
   ],
   "source": [
    "char = 'Python'\n",
    "for c in char:\n",
    "    print(c)"
   ]
  },
  {
   "cell_type": "code",
   "execution_count": 7,
   "id": "bc1210e5-800f-443f-aed7-b602a12cee43",
   "metadata": {},
   "outputs": [
    {
     "name": "stdout",
     "output_type": "stream",
     "text": [
      "0 P\n",
      "1 y\n",
      "2 t\n",
      "3 h\n",
      "4 o\n",
      "5 n\n"
     ]
    }
   ],
   "source": [
    "char = 'Python'\n",
    "for i, c in enumerate(char):\n",
    "    print(i, c)"
   ]
  },
  {
   "cell_type": "markdown",
   "id": "9107b3a9-1e31-4a23-8949-54a9d3b1c86c",
   "metadata": {},
   "source": [
    "## 1.3 for + list"
   ]
  },
  {
   "cell_type": "code",
   "execution_count": 8,
   "id": "c42ebb92-2ae6-41e1-b66a-8feb9bc7a299",
   "metadata": {},
   "outputs": [
    {
     "name": "stdout",
     "output_type": "stream",
     "text": [
      "a\n",
      "b\n",
      "c\n",
      "d\n",
      "e\n"
     ]
    }
   ],
   "source": [
    "listx = ['a', 'b', 'c', 'd', 'e']\n",
    "n = len(listx)\n",
    "for i in range(n):\n",
    "    print(listx[i])"
   ]
  },
  {
   "cell_type": "code",
   "execution_count": 10,
   "id": "afcc634a-4bf7-4ebf-9670-6f332756c46a",
   "metadata": {},
   "outputs": [
    {
     "name": "stdout",
     "output_type": "stream",
     "text": [
      "a\n",
      "b\n",
      "c\n",
      "d\n",
      "e\n"
     ]
    }
   ],
   "source": [
    "listx = ['a', 'b', 'c', 'd', 'e']\n",
    "for x in listx:\n",
    "    print(x)"
   ]
  },
  {
   "cell_type": "code",
   "execution_count": 11,
   "id": "3515482c-318b-4d28-84c4-c5cf11660382",
   "metadata": {},
   "outputs": [
    {
     "name": "stdout",
     "output_type": "stream",
     "text": [
      "0 a\n",
      "1 b\n",
      "2 c\n",
      "3 d\n",
      "4 e\n"
     ]
    }
   ],
   "source": [
    "listx = ['a', 'b', 'c', 'd', 'e']\n",
    "for i, x in enumerate(listx):\n",
    "    print(i, x)"
   ]
  },
  {
   "cell_type": "markdown",
   "id": "6939b23d-d5b3-452e-9ccc-bef07c490967",
   "metadata": {},
   "source": [
    "## 1.4 for + tuple"
   ]
  },
  {
   "cell_type": "code",
   "execution_count": 9,
   "id": "21612e29-a72f-4226-8575-9129cf6b580b",
   "metadata": {},
   "outputs": [
    {
     "name": "stdout",
     "output_type": "stream",
     "text": [
      "a\n",
      "b\n",
      "c\n",
      "d\n",
      "e\n"
     ]
    }
   ],
   "source": [
    "tuplex = ('a', 'b', 'c', 'd', 'e')\n",
    "n = len(tuplex)\n",
    "for i in range(n):\n",
    "    print(tuplex[i])"
   ]
  },
  {
   "cell_type": "code",
   "execution_count": 13,
   "id": "7fc57a05-436a-4688-bb41-79078824c7f2",
   "metadata": {},
   "outputs": [
    {
     "name": "stdout",
     "output_type": "stream",
     "text": [
      "a\n",
      "b\n",
      "c\n",
      "d\n",
      "e\n"
     ]
    }
   ],
   "source": [
    "tuplex = ('a', 'b', 'c', 'd', 'e')\n",
    "for i in range(len(tuplex)):\n",
    "    print(tuplex[i])"
   ]
  },
  {
   "cell_type": "code",
   "execution_count": 14,
   "id": "2418702a-1a93-44a1-8996-1bbcd519f6bc",
   "metadata": {},
   "outputs": [
    {
     "name": "stdout",
     "output_type": "stream",
     "text": [
      "a\n",
      "b\n",
      "c\n",
      "d\n",
      "e\n"
     ]
    }
   ],
   "source": [
    "tuplex = ('a', 'b', 'c', 'd', 'e')\n",
    "for x in tuplex:\n",
    "    print(x)"
   ]
  },
  {
   "cell_type": "code",
   "execution_count": 15,
   "id": "35c0ec6c-53d6-4b24-aa35-a4027be334c2",
   "metadata": {},
   "outputs": [
    {
     "name": "stdout",
     "output_type": "stream",
     "text": [
      "0 a\n",
      "1 b\n",
      "2 c\n",
      "3 d\n",
      "4 e\n"
     ]
    }
   ],
   "source": [
    "tuplex = ('a', 'b', 'c', 'd', 'e')\n",
    "for i, x in enumerate(tuplex):\n",
    "    print(i, x)"
   ]
  },
  {
   "cell_type": "markdown",
   "id": "0c8da30e-50fb-46a2-838f-8c9cf8b69ca2",
   "metadata": {},
   "source": [
    "## 1.5 for + dictionary"
   ]
  },
  {
   "cell_type": "code",
   "execution_count": 22,
   "id": "ce8d4b75-2813-4e89-9504-511c0b5355e8",
   "metadata": {},
   "outputs": [
    {
     "name": "stdout",
     "output_type": "stream",
     "text": [
      "firstname\n",
      "lastname\n",
      "age\n"
     ]
    }
   ],
   "source": [
    "dictx = {'firstname': 'john', 'lastname': 'Doe', 'age': 32}\n",
    "for key in dictx:\n",
    "    print(key)\n",
    "# When you loop through dict like | for x in dictx: it's mean you loop like this for x in dictx.keys(): that why you alway get the key as a default."
   ]
  },
  {
   "cell_type": "code",
   "execution_count": 23,
   "id": "8ecde7e2-0ef0-41a3-95fc-d5e73b709025",
   "metadata": {
    "scrolled": true
   },
   "outputs": [
    {
     "name": "stdout",
     "output_type": "stream",
     "text": [
      "firstname\n",
      "lastname\n",
      "age\n"
     ]
    }
   ],
   "source": [
    "dictx = {'firstname': 'john', 'lastname': 'Doe', 'age': 32}\n",
    "for key in dictx.keys():\n",
    "    print(key)"
   ]
  },
  {
   "cell_type": "code",
   "execution_count": 25,
   "id": "22bd28ba-9533-4667-92ee-edcaff4ee529",
   "metadata": {},
   "outputs": [
    {
     "name": "stdout",
     "output_type": "stream",
     "text": [
      "john\n",
      "Doe\n",
      "32\n"
     ]
    }
   ],
   "source": [
    "dictx = {'firstname': 'john', 'lastname': 'Doe', 'age': 32}\n",
    "for value in dictx.values():\n",
    "    print(value)"
   ]
  },
  {
   "cell_type": "markdown",
   "id": "865b8513-21fa-4494-abff-8e9db42f89ef",
   "metadata": {},
   "source": [
    "## 1.6 for + set"
   ]
  },
  {
   "cell_type": "code",
   "execution_count": 26,
   "id": "d039c907-8d24-4f67-8519-3963c1aa7eae",
   "metadata": {},
   "outputs": [
    {
     "name": "stdout",
     "output_type": "stream",
     "text": [
      "c\n",
      "1\n",
      "2\n",
      "3\n",
      "b\n",
      "a\n"
     ]
    }
   ],
   "source": [
    "setx = {1, 2, 3, 'a', 'b', 'c'}\n",
    "for x in setx:\n",
    "    print(x)"
   ]
  },
  {
   "cell_type": "markdown",
   "id": "6bf4c1ae-f3b2-48da-bc9a-b81f92dea11c",
   "metadata": {},
   "source": [
    "## 2.while"
   ]
  },
  {
   "cell_type": "code",
   "execution_count": 27,
   "id": "5602c356-7af0-45db-b329-0e706f089cdf",
   "metadata": {},
   "outputs": [
    {
     "name": "stdout",
     "output_type": "stream",
     "text": [
      "1\n",
      "2\n",
      "3\n",
      "4\n",
      "5\n"
     ]
    }
   ],
   "source": [
    "i = 1 \n",
    "while i <= 5:\n",
    "    print(i)\n",
    "    i += 1"
   ]
  },
  {
   "cell_type": "code",
   "execution_count": 28,
   "id": "89470354-a5f5-4ae3-8483-b59fe2874d13",
   "metadata": {},
   "outputs": [
    {
     "name": "stdout",
     "output_type": "stream",
     "text": [
      "5\n",
      "7\n",
      "9\n",
      "11\n",
      "13\n",
      "15\n"
     ]
    }
   ],
   "source": [
    "i = 5 \n",
    "while i <= 15:\n",
    "    print(i)\n",
    "    i += 2"
   ]
  },
  {
   "cell_type": "code",
   "execution_count": 29,
   "id": "e40e2cba-367d-4bad-938d-c2a3a634dfb3",
   "metadata": {},
   "outputs": [
    {
     "name": "stdout",
     "output_type": "stream",
     "text": [
      "0\n",
      "1\n",
      "2\n",
      "3\n",
      "4\n",
      "5\n"
     ]
    }
   ],
   "source": [
    "i = 0\n",
    "while True:\n",
    "    print(i)\n",
    "    if i == 5:\n",
    "        break\n",
    "    i += 1 "
   ]
  },
  {
   "cell_type": "markdown",
   "id": "321276e8-71be-414c-9bba-9af55b41e164",
   "metadata": {},
   "source": [
    "## 3. loop & statement"
   ]
  },
  {
   "cell_type": "markdown",
   "id": "1cdd1975-cfb6-4e3e-9a91-413260299ce8",
   "metadata": {},
   "source": [
    "## 3.1 break"
   ]
  },
  {
   "cell_type": "code",
   "execution_count": 30,
   "id": "a62535da-13be-4ca4-86b4-0f366afc7c04",
   "metadata": {},
   "outputs": [
    {
     "name": "stdout",
     "output_type": "stream",
     "text": [
      "0\n",
      "1\n",
      "2\n",
      "3\n",
      "4\n",
      "5\n"
     ]
    }
   ],
   "source": [
    "for i in range(100000):\n",
    "    print(i)\n",
    "    if i == 5:\n",
    "        break"
   ]
  },
  {
   "cell_type": "markdown",
   "id": "b71ef8f9-621f-45f4-b577-46271e0358f7",
   "metadata": {},
   "source": [
    "## 3.2 continue"
   ]
  },
  {
   "cell_type": "code",
   "execution_count": 31,
   "id": "23b63f31-c553-4ddb-8d33-623e940b0d86",
   "metadata": {},
   "outputs": [
    {
     "name": "stdout",
     "output_type": "stream",
     "text": [
      "1\n",
      "3\n",
      "5\n",
      "7\n",
      "9\n"
     ]
    }
   ],
   "source": [
    "for i in range(10):\n",
    "    if i%2 == 0:\n",
    "        continue\n",
    "        print('hello')\n",
    "    else:\n",
    "        print(i)"
   ]
  },
  {
   "cell_type": "markdown",
   "id": "3220f718-e04f-45e9-844c-c945bb7dcb7c",
   "metadata": {},
   "source": [
    "## 3.3 pass"
   ]
  },
  {
   "cell_type": "code",
   "execution_count": 32,
   "id": "c9778aec-5537-41d6-b701-7e3610215459",
   "metadata": {},
   "outputs": [
    {
     "name": "stdout",
     "output_type": "stream",
     "text": [
      "hello\n",
      "1\n",
      "hello\n",
      "3\n",
      "hello\n",
      "5\n",
      "hello\n",
      "7\n",
      "hello\n",
      "9\n"
     ]
    }
   ],
   "source": [
    "for i in range(10):\n",
    "    if i%2 == 0:\n",
    "        pass\n",
    "        print('hello')\n",
    "    else:\n",
    "        print(i)"
   ]
  },
  {
   "cell_type": "code",
   "execution_count": 35,
   "id": "bb893a14-ea7f-44f0-9df1-fb06ca6003ab",
   "metadata": {},
   "outputs": [
    {
     "name": "stdout",
     "output_type": "stream",
     "text": [
      "500 baht finepage x\n",
      "500 baht finepage x\n"
     ]
    }
   ],
   "source": [
    "v_list = [120, 70, 90]\n",
    "for v in v_list:\n",
    "    if v >= 120:\n",
    "        pass\n",
    "    else:\n",
    "        print('500 baht finepage x')"
   ]
  }
 ],
 "metadata": {
  "kernelspec": {
   "display_name": "Python 3 (ipykernel)",
   "language": "python",
   "name": "python3"
  },
  "language_info": {
   "codemirror_mode": {
    "name": "ipython",
    "version": 3
   },
   "file_extension": ".py",
   "mimetype": "text/x-python",
   "name": "python",
   "nbconvert_exporter": "python",
   "pygments_lexer": "ipython3",
   "version": "3.11.7"
  }
 },
 "nbformat": 4,
 "nbformat_minor": 5
}
