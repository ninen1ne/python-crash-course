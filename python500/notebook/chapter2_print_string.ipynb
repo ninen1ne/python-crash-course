{
 "cells": [
  {
   "cell_type": "markdown",
   "id": "dad6d19a-d20f-49ac-8398-6d82772aa7fe",
   "metadata": {},
   "source": [
    "1. Print String"
   ]
  },
  {
   "cell_type": "markdown",
   "id": "d498b4ea-cd18-4f0c-9355-78da8467a9a2",
   "metadata": {},
   "source": [
    "1.1 Quote"
   ]
  },
  {
   "cell_type": "markdown",
   "id": "41903748-d034-4bce-a44f-90766d41db83",
   "metadata": {},
   "source": [
    "ใช้ quote(' ') เพื่อบอกขอบเขตสายอักขระที่จะพิมพ์"
   ]
  },
  {
   "cell_type": "code",
   "execution_count": 1,
   "id": "f0b4bfbf-8c75-4cf4-be21-7873ac2c3abf",
   "metadata": {},
   "outputs": [
    {
     "name": "stdout",
     "output_type": "stream",
     "text": [
      "Hello World\n"
     ]
    }
   ],
   "source": [
    "print('Hello World')"
   ]
  },
  {
   "cell_type": "code",
   "execution_count": 2,
   "id": "bb3f3706-31db-4e33-98a3-e1928c04178e",
   "metadata": {},
   "outputs": [
    {
     "name": "stdout",
     "output_type": "stream",
     "text": [
      "I Love Python\n"
     ]
    }
   ],
   "source": [
    "print('I Love Python')"
   ]
  },
  {
   "cell_type": "code",
   "execution_count": 3,
   "id": "7a549ed0-5f96-481c-9dc2-4746b1feeb27",
   "metadata": {},
   "outputs": [
    {
     "name": "stdout",
     "output_type": "stream",
     "text": [
      "100\n"
     ]
    }
   ],
   "source": [
    "print('100')"
   ]
  },
  {
   "cell_type": "markdown",
   "id": "117d7588-47ed-4487-9de6-904c965ccbab",
   "metadata": {},
   "source": [
    "1.2Duoble Quote\n"
   ]
  },
  {
   "cell_type": "markdown",
   "id": "5f300996-196c-4b67-97c2-ecd883f5e579",
   "metadata": {},
   "source": [
    "ใช้ quote(\" \") เพื่อบอกขอบเขตสายอักขระที่จะพิมพ์ | quote and double quote ใช้สลับกันได้เเล้วแต่ถนัดและสถานการณ์ "
   ]
  },
  {
   "cell_type": "code",
   "execution_count": 4,
   "id": "defa8b52-49ff-4356-8dd4-f9597b0a7cd2",
   "metadata": {},
   "outputs": [
    {
     "name": "stdout",
     "output_type": "stream",
     "text": [
      "Hello World\n"
     ]
    }
   ],
   "source": [
    "print(\"Hello World\")"
   ]
  },
  {
   "cell_type": "code",
   "execution_count": 5,
   "id": "b8f98dcb-d399-4c0e-b9fe-c13cf9d95117",
   "metadata": {},
   "outputs": [
    {
     "name": "stdout",
     "output_type": "stream",
     "text": [
      "I Love Python\n"
     ]
    }
   ],
   "source": [
    "print(\"I Love Python\")"
   ]
  },
  {
   "cell_type": "code",
   "execution_count": 6,
   "id": "ff186999-63e7-47e1-9616-9bc15f23b542",
   "metadata": {},
   "outputs": [
    {
     "name": "stdout",
     "output_type": "stream",
     "text": [
      "100\n"
     ]
    }
   ],
   "source": [
    "print(\"100\")"
   ]
  },
  {
   "cell_type": "markdown",
   "id": "37114214-1f51-4f3d-b37c-ef2253368b50",
   "metadata": {},
   "source": [
    "1.3Multiple Line\n"
   ]
  },
  {
   "cell_type": "code",
   "execution_count": 8,
   "id": "8784724e-bb0e-4110-b79a-c4d0b4f00105",
   "metadata": {},
   "outputs": [
    {
     "name": "stdout",
     "output_type": "stream",
     "text": [
      "\n",
      "Hello\n",
      "Hello Python\n",
      "I Love Python\n"
     ]
    }
   ],
   "source": [
    "print('''\n",
    "Hello\n",
    "Hello Python\n",
    "I Love Python''')"
   ]
  },
  {
   "cell_type": "code",
   "execution_count": 9,
   "id": "04b73a1d-bcf5-4f69-b197-254a1b285e24",
   "metadata": {},
   "outputs": [
    {
     "name": "stdout",
     "output_type": "stream",
     "text": [
      "\n",
      "Hello\n",
      "Hello Python\n",
      "I Love Python\n"
     ]
    }
   ],
   "source": [
    "print(\"\"\"\n",
    "Hello\n",
    "Hello Python\n",
    "I Love Python\"\"\")"
   ]
  },
  {
   "cell_type": "markdown",
   "id": "0696a31c-6af0-4e7f-b3da-4f5b6a2581e9",
   "metadata": {},
   "source": [
    "1.4 String with Quotation Marks"
   ]
  },
  {
   "cell_type": "markdown",
   "id": "efaaf10f-482e-45db-b0c7-bfe8fbb52dc9",
   "metadata": {},
   "source": [
    "1.4.1 String with Quote."
   ]
  },
  {
   "cell_type": "code",
   "execution_count": 10,
   "id": "98855be6-f93f-4122-ba6b-0ef2755841fd",
   "metadata": {},
   "outputs": [
    {
     "name": "stdout",
     "output_type": "stream",
     "text": [
      "it's me\n"
     ]
    }
   ],
   "source": [
    "print(\"it's me\")"
   ]
  },
  {
   "cell_type": "code",
   "execution_count": 12,
   "id": "56884e9b-109e-42d5-bf06-ce3dd522bdba",
   "metadata": {},
   "outputs": [
    {
     "name": "stdout",
     "output_type": "stream",
     "text": [
      "it's me\n"
     ]
    }
   ],
   "source": [
    "print('it\\'s me')"
   ]
  },
  {
   "cell_type": "markdown",
   "id": "48ed06fc-497e-4a23-bba0-cc6956122191",
   "metadata": {},
   "source": [
    "1.4.2 String with Double Quote."
   ]
  },
  {
   "cell_type": "code",
   "execution_count": 13,
   "id": "42cf1efb-f091-4510-9592-0b8127b92471",
   "metadata": {},
   "outputs": [
    {
     "name": "stdout",
     "output_type": "stream",
     "text": [
      "he said \"Python is my life.\"\n"
     ]
    }
   ],
   "source": [
    "print('he said \"Python is my life.\"')"
   ]
  },
  {
   "cell_type": "code",
   "execution_count": 15,
   "id": "81a4b1d6-7865-4cf9-bd5a-99a1d206373b",
   "metadata": {},
   "outputs": [
    {
     "name": "stdout",
     "output_type": "stream",
     "text": [
      "he said \"Python is my life.\n"
     ]
    }
   ],
   "source": [
    "print(\"he said \\\"Python is my life.\")"
   ]
  },
  {
   "cell_type": "markdown",
   "id": "89202fef-d9b2-4194-a026-93c3f0ae16e1",
   "metadata": {},
   "source": [
    "1.5 String with Backslash"
   ]
  },
  {
   "cell_type": "code",
   "execution_count": 20,
   "id": "496e7d75-1562-4609-b9ca-ccdb0c93aecf",
   "metadata": {},
   "outputs": [
    {
     "name": "stdout",
     "output_type": "stream",
     "text": [
      "/\\\n"
     ]
    }
   ],
   "source": [
    "print('/\\\\') # เวลาจะพิมพ์ backslash จะต้องใส่ backslash 2 รอบ!!!"
   ]
  },
  {
   "cell_type": "code",
   "execution_count": 21,
   "id": "9a2f4b12-dfc4-47fa-a9fc-c89c4fa7e964",
   "metadata": {},
   "outputs": [
    {
     "name": "stdout",
     "output_type": "stream",
     "text": [
      "/\\/\\/\\\n"
     ]
    }
   ],
   "source": [
    "print('/\\\\/\\\\/\\\\')"
   ]
  },
  {
   "cell_type": "markdown",
   "id": "aad27377-2489-4764-b7a4-fbdcf287349f",
   "metadata": {},
   "source": [
    "2. Print Numeric"
   ]
  },
  {
   "cell_type": "markdown",
   "id": "597820cd-623e-4a8b-9e0c-505b0e6ca04d",
   "metadata": {},
   "source": [
    "2.1 Numeric"
   ]
  },
  {
   "cell_type": "code",
   "execution_count": 23,
   "id": "d4db4224-5964-4f2f-bdb6-fbebcf437002",
   "metadata": {},
   "outputs": [
    {
     "name": "stdout",
     "output_type": "stream",
     "text": [
      "1\n"
     ]
    }
   ],
   "source": [
    "print(1)"
   ]
  },
  {
   "cell_type": "code",
   "execution_count": 24,
   "id": "28e15575-77e6-4ee6-9547-0112fe3d750e",
   "metadata": {},
   "outputs": [
    {
     "name": "stdout",
     "output_type": "stream",
     "text": [
      "1.5\n"
     ]
    }
   ],
   "source": [
    "print(1.5)"
   ]
  },
  {
   "cell_type": "code",
   "execution_count": 27,
   "id": "25228a29-97f3-46fb-abff-c4cbc7efc885",
   "metadata": {},
   "outputs": [
    {
     "name": "stdout",
     "output_type": "stream",
     "text": [
      "3.5\n"
     ]
    }
   ],
   "source": [
    "print(3.50)"
   ]
  },
  {
   "cell_type": "markdown",
   "id": "5405bee5-b5ae-4b43-905f-3a997ae801d2",
   "metadata": {},
   "source": [
    "This is limitation of print python think that in 3.50 the digit 0 considered not has a value then python didn't print it."
   ]
  },
  {
   "cell_type": "markdown",
   "id": "4db4cc02-62ee-4235-8aeb-a0114024e042",
   "metadata": {},
   "source": [
    "2.2 %d %f %s \n",
    "%d is whole number |\n",
    "%f allow you to config decimal.|\n",
    "%s it will display what ever you type."
   ]
  },
  {
   "cell_type": "code",
   "execution_count": 29,
   "id": "b2e6b7a7-54a6-4a0e-a808-75c4de88a7ef",
   "metadata": {},
   "outputs": [
    {
     "name": "stdout",
     "output_type": "stream",
     "text": [
      "3\n"
     ]
    }
   ],
   "source": [
    "print('%d' %3)"
   ]
  },
  {
   "cell_type": "code",
   "execution_count": 30,
   "id": "85fe84de-6ded-4ad1-a6f7-efe52ace2f2e",
   "metadata": {},
   "outputs": [
    {
     "name": "stdout",
     "output_type": "stream",
     "text": [
      "3\n"
     ]
    }
   ],
   "source": [
    "print('%d' %3.4343)"
   ]
  },
  {
   "cell_type": "code",
   "execution_count": 32,
   "id": "824f3dfe-199b-4042-a380-412693b65f68",
   "metadata": {},
   "outputs": [
    {
     "name": "stdout",
     "output_type": "stream",
     "text": [
      "3.000000\n"
     ]
    }
   ],
   "source": [
    "print('%f' %3) # Default %f funtion will output 6 decimal places."
   ]
  },
  {
   "cell_type": "code",
   "execution_count": 33,
   "id": "40aa8908-8152-4582-a327-60276ac97102",
   "metadata": {},
   "outputs": [
    {
     "name": "stdout",
     "output_type": "stream",
     "text": [
      "3.00\n"
     ]
    }
   ],
   "source": [
    "print('%.2f' %3) # .2 in front of f tell python to places decimal places what ever the number is.\n"
   ]
  },
  {
   "cell_type": "code",
   "execution_count": 34,
   "id": "793f34da-9847-4319-a4af-e7390bac99b1",
   "metadata": {},
   "outputs": [
    {
     "name": "stdout",
     "output_type": "stream",
     "text": [
      "3.0000000000\n"
     ]
    }
   ],
   "source": [
    "print('%.10f' %3)"
   ]
  },
  {
   "cell_type": "code",
   "execution_count": 37,
   "id": "0d921dec-a927-4f2c-b1ba-e4c42547e107",
   "metadata": {},
   "outputs": [
    {
     "name": "stdout",
     "output_type": "stream",
     "text": [
      "7\n"
     ]
    }
   ],
   "source": [
    "print('%s' %7) #ใส่อะไรก็ได้แบบนั้น"
   ]
  },
  {
   "cell_type": "code",
   "execution_count": 36,
   "id": "6cc94a14-19c7-4618-9a7b-f5ccdabdbbf8",
   "metadata": {},
   "outputs": [
    {
     "name": "stdout",
     "output_type": "stream",
     "text": [
      "7.0\n"
     ]
    }
   ],
   "source": [
    "print('%s' %7.0)"
   ]
  },
  {
   "cell_type": "code",
   "execution_count": 45,
   "id": "017e4eb7-0204-4ed9-93de-7c96311f15a1",
   "metadata": {},
   "outputs": [
    {
     "name": "stdout",
     "output_type": "stream",
     "text": [
      "2 5.000 7.23\n"
     ]
    }
   ],
   "source": [
    "print('%d %.3f %s' %(2.7 ,5 , 7.23))"
   ]
  },
  {
   "cell_type": "code",
   "execution_count": 44,
   "id": "2dc20b0b-d965-4435-ae36-a327d9bf99c6",
   "metadata": {},
   "outputs": [
    {
     "name": "stdout",
     "output_type": "stream",
     "text": [
      "3.00 3.0 3\n"
     ]
    }
   ],
   "source": [
    "print('%.2f %s %d' %(3, 3.0, 3))"
   ]
  },
  {
   "cell_type": "markdown",
   "id": "1c417399-1a4c-4e24-8af4-3935dc0eb883",
   "metadata": {},
   "source": [
    "3. Print String + Numeric"
   ]
  },
  {
   "cell_type": "markdown",
   "id": "c9f722ef-bb05-41d2-965f-796728ebd66f",
   "metadata": {},
   "source": [
    "3.1 Comma "
   ]
  },
  {
   "cell_type": "code",
   "execution_count": 51,
   "id": "9170a9f2-420e-4b55-9a78-c3b703406bfe",
   "metadata": {},
   "outputs": [
    {
     "name": "stdout",
     "output_type": "stream",
     "text": [
      "I Love You 3000\n"
     ]
    }
   ],
   "source": [
    "print('I Love You', 3000) # notice that if we use comma for print str + int python will add 1 spacebar blank for our message."
   ]
  },
  {
   "cell_type": "code",
   "execution_count": 58,
   "id": "5f201621-6136-4709-a2ca-63891c63113a",
   "metadata": {},
   "outputs": [
    {
     "name": "stdout",
     "output_type": "stream",
     "text": [
      "5 + 7 = 12\n"
     ]
    }
   ],
   "source": [
    "print('5 + 7 =', 5 + 7) # notice that if we use comma for print str + int python will add 1 spacebar blank for our message."
   ]
  },
  {
   "cell_type": "markdown",
   "id": "527e5f38-0de8-4f23-a1c8-f1990cb9c6b3",
   "metadata": {},
   "source": [
    "3.2 String Concatenation. | change type of data to string by using str()"
   ]
  },
  {
   "cell_type": "code",
   "execution_count": 54,
   "id": "3ab76424-9274-4312-a0e1-fc5c38a964cc",
   "metadata": {},
   "outputs": [
    {
     "name": "stdout",
     "output_type": "stream",
     "text": [
      "I Love You 3000\n"
     ]
    }
   ],
   "source": [
    "print('I Love You ' + str(3000)) # this approach will not add extra space in our message like when we use comma. :D"
   ]
  },
  {
   "cell_type": "code",
   "execution_count": 57,
   "id": "1631b51c-1645-4033-9ee3-ba18dfc0b94d",
   "metadata": {},
   "outputs": [
    {
     "name": "stdout",
     "output_type": "stream",
     "text": [
      "5 + 7 = 12\n"
     ]
    }
   ],
   "source": [
    "print('5 + 7 = ' + str(5+7))"
   ]
  },
  {
   "cell_type": "markdown",
   "id": "6a688dbd-9075-469f-9c8e-816afe1578c3",
   "metadata": {},
   "source": [
    "3.3 %d %f %s | เหมาะเวลาต้องเขียน string สลับ numeric ไปเรื่อยๆ"
   ]
  },
  {
   "cell_type": "code",
   "execution_count": 59,
   "id": "fb9d9a66-caae-49db-b857-ff2929b31174",
   "metadata": {},
   "outputs": [
    {
     "name": "stdout",
     "output_type": "stream",
     "text": [
      "I Love You 3000\n"
     ]
    }
   ],
   "source": [
    "print('I Love You %d' %3000)"
   ]
  },
  {
   "cell_type": "code",
   "execution_count": 62,
   "id": "d333e3cd-82d5-4978-9930-bdb23b81667b",
   "metadata": {},
   "outputs": [
    {
     "name": "stdout",
     "output_type": "stream",
     "text": [
      "5 + 7 = 12\n"
     ]
    }
   ],
   "source": [
    "print('5 + 7 = %d' %(5+7))"
   ]
  }
 ],
 "metadata": {
  "kernelspec": {
   "display_name": "Python 3 (ipykernel)",
   "language": "python",
   "name": "python3"
  },
  "language_info": {
   "codemirror_mode": {
    "name": "ipython",
    "version": 3
   },
   "file_extension": ".py",
   "mimetype": "text/x-python",
   "name": "python",
   "nbconvert_exporter": "python",
   "pygments_lexer": "ipython3",
   "version": "3.11.7"
  }
 },
 "nbformat": 4,
 "nbformat_minor": 5
}
