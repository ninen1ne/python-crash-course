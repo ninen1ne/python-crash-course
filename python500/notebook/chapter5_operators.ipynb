{
 "cells": [
  {
   "cell_type": "markdown",
   "id": "d8431d80-4ffe-442b-8ed4-30d9344479f5",
   "metadata": {},
   "source": [
    "# Operator"
   ]
  },
  {
   "cell_type": "markdown",
   "id": "58b3da44-402f-40d0-8dd0-c8fa53a74602",
   "metadata": {},
   "source": [
    "## 1. Arithmetic Operators\n",
    "## 2. Conparison Operators\n",
    "## 3. Logical Operators\n",
    "## 4. Membership Operators\n",
    "## 5. Operator Precedence"
   ]
  },
  {
   "cell_type": "markdown",
   "id": "7a404ae5-2fcf-48e3-9958-7091ec647b17",
   "metadata": {},
   "source": [
    "## 1. Arithmetic Operators"
   ]
  },
  {
   "cell_type": "markdown",
   "id": "85f1a194-628b-4009-b4e5-b06c97ac456a",
   "metadata": {},
   "source": [
    "### 1.1 บวก(+)"
   ]
  },
  {
   "cell_type": "code",
   "execution_count": 2,
   "id": "dd8ec11a-165a-43fb-9af2-e595abdc2861",
   "metadata": {},
   "outputs": [],
   "source": [
    "a = 5\n",
    "b = 10 \n",
    "c = 7"
   ]
  },
  {
   "cell_type": "code",
   "execution_count": 5,
   "id": "b7a18252-3328-4dca-80a5-8b3deef1aff8",
   "metadata": {},
   "outputs": [
    {
     "data": {
      "text/plain": [
       "15"
      ]
     },
     "execution_count": 5,
     "metadata": {},
     "output_type": "execute_result"
    }
   ],
   "source": [
    "a + b"
   ]
  },
  {
   "cell_type": "code",
   "execution_count": 4,
   "id": "ddce050e-a21e-479c-be38-dab3a07e0c9c",
   "metadata": {},
   "outputs": [
    {
     "name": "stdout",
     "output_type": "stream",
     "text": [
      "12\n"
     ]
    }
   ],
   "source": [
    "print(a + c)"
   ]
  },
  {
   "cell_type": "markdown",
   "id": "824aa6b4-d5a2-4622-8451-39275133f041",
   "metadata": {},
   "source": [
    "### 1.2 ลบ(-)"
   ]
  },
  {
   "cell_type": "code",
   "execution_count": 6,
   "id": "d6ede3df-0c39-492e-9048-ad26d7d97874",
   "metadata": {},
   "outputs": [],
   "source": [
    "a = 5\n",
    "b = 10 \n",
    "c = 7"
   ]
  },
  {
   "cell_type": "code",
   "execution_count": 7,
   "id": "33d0c666-ca01-481b-9969-60fec74fbd0b",
   "metadata": {},
   "outputs": [
    {
     "data": {
      "text/plain": [
       "-5"
      ]
     },
     "execution_count": 7,
     "metadata": {},
     "output_type": "execute_result"
    }
   ],
   "source": [
    "a - b"
   ]
  },
  {
   "cell_type": "code",
   "execution_count": 8,
   "id": "4ff34a2e-3d73-4de3-8023-1375c458a12a",
   "metadata": {},
   "outputs": [
    {
     "data": {
      "text/plain": [
       "3"
      ]
     },
     "execution_count": 8,
     "metadata": {},
     "output_type": "execute_result"
    }
   ],
   "source": [
    "b - c"
   ]
  },
  {
   "cell_type": "markdown",
   "id": "3b134ab4-0d1d-4d44-9e01-6143f4ef0629",
   "metadata": {},
   "source": [
    "### 1.3 คูณ(*)"
   ]
  },
  {
   "cell_type": "code",
   "execution_count": 9,
   "id": "473f4f49-2d2b-46b2-85c3-dc17f4a0d3ad",
   "metadata": {},
   "outputs": [],
   "source": [
    "a = 5\n",
    "b = 10 \n",
    "c = 7"
   ]
  },
  {
   "cell_type": "code",
   "execution_count": 10,
   "id": "27c15553-4c95-4a1a-92cb-b5f46bc9ffa3",
   "metadata": {},
   "outputs": [
    {
     "data": {
      "text/plain": [
       "50"
      ]
     },
     "execution_count": 10,
     "metadata": {},
     "output_type": "execute_result"
    }
   ],
   "source": [
    "a * b"
   ]
  },
  {
   "cell_type": "code",
   "execution_count": 11,
   "id": "001515b2-4758-4563-b43d-8e20e88f8a54",
   "metadata": {},
   "outputs": [
    {
     "data": {
      "text/plain": [
       "70"
      ]
     },
     "execution_count": 11,
     "metadata": {},
     "output_type": "execute_result"
    }
   ],
   "source": [
    "b * c"
   ]
  },
  {
   "cell_type": "markdown",
   "id": "da3ef9ef-df3f-4a52-a1c5-8f54ec71a432",
   "metadata": {},
   "source": [
    "### 1.4 หาร(/)"
   ]
  },
  {
   "cell_type": "code",
   "execution_count": 12,
   "id": "83575e3f-cf6c-4e88-8495-c462064dd359",
   "metadata": {},
   "outputs": [],
   "source": [
    "a = 5\n",
    "b = 10 \n",
    "c = 7"
   ]
  },
  {
   "cell_type": "code",
   "execution_count": 13,
   "id": "c77eab98-fee3-4b37-a88e-23590e8c54f8",
   "metadata": {},
   "outputs": [
    {
     "data": {
      "text/plain": [
       "0.5"
      ]
     },
     "execution_count": 13,
     "metadata": {},
     "output_type": "execute_result"
    }
   ],
   "source": [
    "a/b"
   ]
  },
  {
   "cell_type": "code",
   "execution_count": 14,
   "id": "1635802d-d697-4240-a266-2e457ac097a4",
   "metadata": {},
   "outputs": [
    {
     "data": {
      "text/plain": [
       "1.4285714285714286"
      ]
     },
     "execution_count": 14,
     "metadata": {},
     "output_type": "execute_result"
    }
   ],
   "source": [
    "b/c"
   ]
  },
  {
   "cell_type": "markdown",
   "id": "8c81faa6-6544-4dd3-bbc8-9611c997cd7d",
   "metadata": {},
   "source": [
    "### 1.5 ยกกำลัง(**)"
   ]
  },
  {
   "cell_type": "code",
   "execution_count": 16,
   "id": "50fa4e50-a823-4078-a3e3-2563edf2abef",
   "metadata": {},
   "outputs": [],
   "source": [
    "a = 2\n",
    "b = 3\n",
    "c = 4"
   ]
  },
  {
   "cell_type": "code",
   "execution_count": 17,
   "id": "b1d50029-5c6e-4308-87ec-97483a4fa58b",
   "metadata": {},
   "outputs": [
    {
     "data": {
      "text/plain": [
       "8"
      ]
     },
     "execution_count": 17,
     "metadata": {},
     "output_type": "execute_result"
    }
   ],
   "source": [
    "a ** b "
   ]
  },
  {
   "cell_type": "code",
   "execution_count": 18,
   "id": "5dc8e59f-5717-4628-9d99-c0c147ca687b",
   "metadata": {},
   "outputs": [
    {
     "data": {
      "text/plain": [
       "81"
      ]
     },
     "execution_count": 18,
     "metadata": {},
     "output_type": "execute_result"
    }
   ],
   "source": [
    "b**c"
   ]
  },
  {
   "cell_type": "markdown",
   "id": "419d40e4-64dc-42a1-8cd7-4c13b3cc019f",
   "metadata": {},
   "source": [
    "### 1.6 เศษจากการหาร(%)"
   ]
  },
  {
   "cell_type": "code",
   "execution_count": 19,
   "id": "1b31c355-9033-4d46-a49e-b656173a715b",
   "metadata": {},
   "outputs": [],
   "source": [
    "a = 5\n",
    "b = 10 \n",
    "c = 7"
   ]
  },
  {
   "cell_type": "code",
   "execution_count": 20,
   "id": "fcd300aa-24d9-4430-ad4b-ef05dcc1ae33",
   "metadata": {},
   "outputs": [
    {
     "data": {
      "text/plain": [
       "5"
      ]
     },
     "execution_count": 20,
     "metadata": {},
     "output_type": "execute_result"
    }
   ],
   "source": [
    "a%b"
   ]
  },
  {
   "cell_type": "code",
   "execution_count": 22,
   "id": "944d8edb-c842-4d72-9599-c389c7d775c3",
   "metadata": {},
   "outputs": [
    {
     "data": {
      "text/plain": [
       "3"
      ]
     },
     "execution_count": 22,
     "metadata": {},
     "output_type": "execute_result"
    }
   ],
   "source": [
    "b%c"
   ]
  },
  {
   "cell_type": "markdown",
   "id": "3c1c6e74-864e-416d-bb87-6487ee70cba3",
   "metadata": {},
   "source": [
    "### 1.7 ผลหารปัดเศษลง(//)"
   ]
  },
  {
   "cell_type": "code",
   "execution_count": 25,
   "id": "54b3d836-aa33-4d24-bb22-b1fa3902aaad",
   "metadata": {},
   "outputs": [],
   "source": [
    "a = 5\n",
    "b = 10 \n",
    "c = 7"
   ]
  },
  {
   "cell_type": "code",
   "execution_count": 26,
   "id": "18c8bde1-1b04-44cf-806f-027b59418c6e",
   "metadata": {},
   "outputs": [
    {
     "data": {
      "text/plain": [
       "0"
      ]
     },
     "execution_count": 26,
     "metadata": {},
     "output_type": "execute_result"
    }
   ],
   "source": [
    "a//b"
   ]
  },
  {
   "cell_type": "code",
   "execution_count": 27,
   "id": "b5f8477b-1fc5-48a0-9670-a55edf0c3b2a",
   "metadata": {},
   "outputs": [
    {
     "data": {
      "text/plain": [
       "1"
      ]
     },
     "execution_count": 27,
     "metadata": {},
     "output_type": "execute_result"
    }
   ],
   "source": [
    "b//c"
   ]
  },
  {
   "cell_type": "markdown",
   "id": "b0602c6f-5aeb-48a6-89a9-1f9feb608e81",
   "metadata": {},
   "source": [
    "## Conparison Operators"
   ]
  },
  {
   "cell_type": "markdown",
   "id": "a6daabbd-b4f5-492b-b019-b3ca68150514",
   "metadata": {},
   "source": [
    "### 2.1 ตรวจสอบความเท่ากัน(==)"
   ]
  },
  {
   "cell_type": "code",
   "execution_count": 29,
   "id": "d0c85b55-c45f-4a8f-836c-14ce2daae8c7",
   "metadata": {},
   "outputs": [],
   "source": [
    "a = 5\n",
    "b = 'name'"
   ]
  },
  {
   "cell_type": "code",
   "execution_count": 30,
   "id": "6600f9eb-71d1-4ac6-a38a-288900e69ec7",
   "metadata": {},
   "outputs": [
    {
     "data": {
      "text/plain": [
       "True"
      ]
     },
     "execution_count": 30,
     "metadata": {},
     "output_type": "execute_result"
    }
   ],
   "source": [
    "a == 5"
   ]
  },
  {
   "cell_type": "code",
   "execution_count": 31,
   "id": "3bf4cdc3-7405-4eb2-b898-6031317be399",
   "metadata": {},
   "outputs": [
    {
     "data": {
      "text/plain": [
       "False"
      ]
     },
     "execution_count": 31,
     "metadata": {},
     "output_type": "execute_result"
    }
   ],
   "source": [
    "a == 7"
   ]
  },
  {
   "cell_type": "code",
   "execution_count": 32,
   "id": "96f51717-c5cc-4f2c-809e-618c0e305559",
   "metadata": {},
   "outputs": [
    {
     "data": {
      "text/plain": [
       "True"
      ]
     },
     "execution_count": 32,
     "metadata": {},
     "output_type": "execute_result"
    }
   ],
   "source": [
    "b == 'name'"
   ]
  },
  {
   "cell_type": "code",
   "execution_count": 33,
   "id": "0b30b0ba-f809-4552-a8bf-45ed914f32d4",
   "metadata": {},
   "outputs": [
    {
     "data": {
      "text/plain": [
       "False"
      ]
     },
     "execution_count": 33,
     "metadata": {},
     "output_type": "execute_result"
    }
   ],
   "source": [
    "b == 'fullname'"
   ]
  },
  {
   "cell_type": "markdown",
   "id": "41b025bd-aef1-4efc-a22c-1c2341bf80a5",
   "metadata": {},
   "source": [
    "### 2.2 ตรวจสอบความไม่เท่ากัน(!=)"
   ]
  },
  {
   "cell_type": "code",
   "execution_count": 34,
   "id": "c197854c-1d55-4da0-a881-6304f9af7f67",
   "metadata": {},
   "outputs": [],
   "source": [
    "a = 5\n",
    "b = 'name'"
   ]
  },
  {
   "cell_type": "code",
   "execution_count": 35,
   "id": "ef9fac8c-ba8b-4c61-a1bf-da439a38d493",
   "metadata": {},
   "outputs": [
    {
     "data": {
      "text/plain": [
       "False"
      ]
     },
     "execution_count": 35,
     "metadata": {},
     "output_type": "execute_result"
    }
   ],
   "source": [
    "a != 5"
   ]
  },
  {
   "cell_type": "code",
   "execution_count": 36,
   "id": "715203ab-8ec5-4f85-aa0e-926f89c40f5f",
   "metadata": {},
   "outputs": [
    {
     "data": {
      "text/plain": [
       "True"
      ]
     },
     "execution_count": 36,
     "metadata": {},
     "output_type": "execute_result"
    }
   ],
   "source": [
    "a != 7"
   ]
  },
  {
   "cell_type": "code",
   "execution_count": 37,
   "id": "d0d2db7f-29f2-4b64-8d19-a565b7598638",
   "metadata": {},
   "outputs": [
    {
     "data": {
      "text/plain": [
       "False"
      ]
     },
     "execution_count": 37,
     "metadata": {},
     "output_type": "execute_result"
    }
   ],
   "source": [
    "b != 'name'"
   ]
  },
  {
   "cell_type": "code",
   "execution_count": 38,
   "id": "7726e941-7460-4774-9e2f-911ed7b687ed",
   "metadata": {},
   "outputs": [
    {
     "data": {
      "text/plain": [
       "True"
      ]
     },
     "execution_count": 38,
     "metadata": {},
     "output_type": "execute_result"
    }
   ],
   "source": [
    "b != 'fullname'"
   ]
  },
  {
   "cell_type": "markdown",
   "id": "3d54ba3a-60ed-4af2-9378-38d4e9b69bab",
   "metadata": {},
   "source": [
    "### 2.3 ตรวจสอบความมากกว่า(>)"
   ]
  },
  {
   "cell_type": "code",
   "execution_count": 40,
   "id": "71c97c16-fc52-4d47-8104-872849da7a90",
   "metadata": {},
   "outputs": [],
   "source": [
    "a = 5"
   ]
  },
  {
   "cell_type": "code",
   "execution_count": 41,
   "id": "8fe52804-4a85-420e-be94-c2d06f0090af",
   "metadata": {},
   "outputs": [
    {
     "data": {
      "text/plain": [
       "True"
      ]
     },
     "execution_count": 41,
     "metadata": {},
     "output_type": "execute_result"
    }
   ],
   "source": [
    " a > 4"
   ]
  },
  {
   "cell_type": "code",
   "execution_count": 42,
   "id": "136d1c15-ccc6-42ce-9a2c-1d566ee44b07",
   "metadata": {},
   "outputs": [
    {
     "data": {
      "text/plain": [
       "False"
      ]
     },
     "execution_count": 42,
     "metadata": {},
     "output_type": "execute_result"
    }
   ],
   "source": [
    "a > 5"
   ]
  },
  {
   "cell_type": "code",
   "execution_count": 43,
   "id": "15f2b513-2046-4f36-b24c-da9e8e2b74c0",
   "metadata": {},
   "outputs": [
    {
     "data": {
      "text/plain": [
       "False"
      ]
     },
     "execution_count": 43,
     "metadata": {},
     "output_type": "execute_result"
    }
   ],
   "source": [
    "a > 6"
   ]
  },
  {
   "cell_type": "markdown",
   "id": "88d86dbb-74c7-463d-b4a6-819600150913",
   "metadata": {},
   "source": [
    "### 2.4 ตรวจสอบความน้อยกว่า(<)"
   ]
  },
  {
   "cell_type": "code",
   "execution_count": 45,
   "id": "d155935c-8318-4e24-a9bd-d04908b44211",
   "metadata": {},
   "outputs": [],
   "source": [
    "a = 5"
   ]
  },
  {
   "cell_type": "code",
   "execution_count": 46,
   "id": "e81a8a4d-73c5-44d9-ad91-77fe278924ff",
   "metadata": {},
   "outputs": [
    {
     "data": {
      "text/plain": [
       "False"
      ]
     },
     "execution_count": 46,
     "metadata": {},
     "output_type": "execute_result"
    }
   ],
   "source": [
    "a < 4"
   ]
  },
  {
   "cell_type": "code",
   "execution_count": 47,
   "id": "7399d4fc-3b57-4089-8354-4a0fa538b5e9",
   "metadata": {},
   "outputs": [
    {
     "data": {
      "text/plain": [
       "False"
      ]
     },
     "execution_count": 47,
     "metadata": {},
     "output_type": "execute_result"
    }
   ],
   "source": [
    "a < 5"
   ]
  },
  {
   "cell_type": "code",
   "execution_count": 48,
   "id": "43ffac1a-da27-4456-80dc-ed9489b3d5cb",
   "metadata": {},
   "outputs": [
    {
     "data": {
      "text/plain": [
       "True"
      ]
     },
     "execution_count": 48,
     "metadata": {},
     "output_type": "execute_result"
    }
   ],
   "source": [
    "a < 6"
   ]
  },
  {
   "cell_type": "markdown",
   "id": "099faa76-de6c-49c4-a907-1fc5642fd898",
   "metadata": {},
   "source": [
    "### 2.5 ตรวจสอบความมากกว่าหรือเท่ากับ(>=)"
   ]
  },
  {
   "cell_type": "code",
   "execution_count": 50,
   "id": "01b7feab-0ca3-4908-92aa-64d5bfe64188",
   "metadata": {},
   "outputs": [],
   "source": [
    "a = 5"
   ]
  },
  {
   "cell_type": "code",
   "execution_count": 51,
   "id": "05aa47d8-9356-4082-a2bc-b957ee44a3a2",
   "metadata": {},
   "outputs": [
    {
     "data": {
      "text/plain": [
       "True"
      ]
     },
     "execution_count": 51,
     "metadata": {},
     "output_type": "execute_result"
    }
   ],
   "source": [
    "a >= 4"
   ]
  },
  {
   "cell_type": "code",
   "execution_count": 52,
   "id": "f3ec8fea-c928-4890-9be3-9f0131e6b7c1",
   "metadata": {},
   "outputs": [
    {
     "data": {
      "text/plain": [
       "True"
      ]
     },
     "execution_count": 52,
     "metadata": {},
     "output_type": "execute_result"
    }
   ],
   "source": [
    "a >= 5"
   ]
  },
  {
   "cell_type": "code",
   "execution_count": 53,
   "id": "91427fb7-b76c-48ac-90e6-ce5426a5d85f",
   "metadata": {},
   "outputs": [
    {
     "data": {
      "text/plain": [
       "False"
      ]
     },
     "execution_count": 53,
     "metadata": {},
     "output_type": "execute_result"
    }
   ],
   "source": [
    "a >= 6"
   ]
  },
  {
   "cell_type": "markdown",
   "id": "1f6b39cc-4868-4143-8a21-2f5803591f0f",
   "metadata": {},
   "source": [
    "### 2.6 ตรวจสอบความน้อยกว่าหรือเท่ากับ(<=)"
   ]
  },
  {
   "cell_type": "code",
   "execution_count": 56,
   "id": "07884ce9-262b-4b09-9f58-9dcc549912c6",
   "metadata": {},
   "outputs": [],
   "source": [
    "a = 5"
   ]
  },
  {
   "cell_type": "code",
   "execution_count": 57,
   "id": "0e4edae2-ba65-437a-a268-b11c562f6473",
   "metadata": {},
   "outputs": [
    {
     "data": {
      "text/plain": [
       "False"
      ]
     },
     "execution_count": 57,
     "metadata": {},
     "output_type": "execute_result"
    }
   ],
   "source": [
    "a <= 4 "
   ]
  },
  {
   "cell_type": "code",
   "execution_count": 58,
   "id": "ea60ea62-52ee-4096-84b4-af391b1f411b",
   "metadata": {},
   "outputs": [
    {
     "data": {
      "text/plain": [
       "True"
      ]
     },
     "execution_count": 58,
     "metadata": {},
     "output_type": "execute_result"
    }
   ],
   "source": [
    "a <= 5 "
   ]
  },
  {
   "cell_type": "code",
   "execution_count": 59,
   "id": "fca96af1-a8a5-4da8-b651-17e07d29b359",
   "metadata": {},
   "outputs": [
    {
     "data": {
      "text/plain": [
       "True"
      ]
     },
     "execution_count": 59,
     "metadata": {},
     "output_type": "execute_result"
    }
   ],
   "source": [
    "a <= 6"
   ]
  },
  {
   "cell_type": "markdown",
   "id": "f5d756e1-1524-4060-958c-9e4f315ee320",
   "metadata": {},
   "source": [
    "## Logical Operators"
   ]
  },
  {
   "cell_type": "markdown",
   "id": "2186ce9e-c247-405e-86d2-c05904916707",
   "metadata": {},
   "source": [
    "### 3.1 and : and(&) need all condition to be true to evaluate to be true."
   ]
  },
  {
   "cell_type": "code",
   "execution_count": 62,
   "id": "b706b2dd-21a9-4215-85d9-2b6c74eab81c",
   "metadata": {},
   "outputs": [],
   "source": [
    "t = True\n",
    "f = False"
   ]
  },
  {
   "cell_type": "code",
   "execution_count": 65,
   "id": "23eba97c-cfcd-4665-8fb5-4bfd9b90ee9c",
   "metadata": {},
   "outputs": [
    {
     "data": {
      "text/plain": [
       "False"
      ]
     },
     "execution_count": 65,
     "metadata": {},
     "output_type": "execute_result"
    }
   ],
   "source": [
    "t and f"
   ]
  },
  {
   "cell_type": "code",
   "execution_count": 66,
   "id": "e530d388-bbd8-4bc2-9ff0-0b8adcf3eb9f",
   "metadata": {},
   "outputs": [
    {
     "data": {
      "text/plain": [
       "True"
      ]
     },
     "execution_count": 66,
     "metadata": {},
     "output_type": "execute_result"
    }
   ],
   "source": [
    "t and t "
   ]
  },
  {
   "cell_type": "code",
   "execution_count": 67,
   "id": "5952cd0f-ec1a-4d94-87f2-d97d1fdf62aa",
   "metadata": {},
   "outputs": [
    {
     "data": {
      "text/plain": [
       "False"
      ]
     },
     "execution_count": 67,
     "metadata": {},
     "output_type": "execute_result"
    }
   ],
   "source": [
    "f and f "
   ]
  },
  {
   "cell_type": "markdown",
   "id": "5fb05e8a-a864-4358-8b6d-4424cdd8ff0a",
   "metadata": {},
   "source": [
    "### 3.2 or : need only one condition to evaluate to be true."
   ]
  },
  {
   "cell_type": "code",
   "execution_count": 69,
   "id": "b624c2b5-5643-4c06-b19f-262b0af76492",
   "metadata": {},
   "outputs": [],
   "source": [
    "t = True\n",
    "f = False"
   ]
  },
  {
   "cell_type": "code",
   "execution_count": 70,
   "id": "f1b943f7-a61b-4e25-aa60-6f24cc056df0",
   "metadata": {},
   "outputs": [
    {
     "data": {
      "text/plain": [
       "True"
      ]
     },
     "execution_count": 70,
     "metadata": {},
     "output_type": "execute_result"
    }
   ],
   "source": [
    "t or f"
   ]
  },
  {
   "cell_type": "code",
   "execution_count": 71,
   "id": "b25292f9-a1e7-4afc-aac9-91fb664785e2",
   "metadata": {},
   "outputs": [
    {
     "data": {
      "text/plain": [
       "True"
      ]
     },
     "execution_count": 71,
     "metadata": {},
     "output_type": "execute_result"
    }
   ],
   "source": [
    "t or t "
   ]
  },
  {
   "cell_type": "code",
   "execution_count": 72,
   "id": "47afcb46-eceb-4f1b-83dd-0a8e0c27bc1b",
   "metadata": {},
   "outputs": [
    {
     "data": {
      "text/plain": [
       "False"
      ]
     },
     "execution_count": 72,
     "metadata": {},
     "output_type": "execute_result"
    }
   ],
   "source": [
    "f or f "
   ]
  },
  {
   "cell_type": "markdown",
   "id": "78332b0a-eeb4-4f91-b562-530c3fad73ff",
   "metadata": {},
   "source": [
    "### 3.3 not : reverse what ever the truth value is."
   ]
  },
  {
   "cell_type": "code",
   "execution_count": 73,
   "id": "d24ac624-f1aa-40f9-bf1e-474d59251995",
   "metadata": {},
   "outputs": [],
   "source": [
    "t = True\n",
    "f = False"
   ]
  },
  {
   "cell_type": "code",
   "execution_count": 74,
   "id": "b7d68893-3d45-45c8-9db7-0f5cce365ca2",
   "metadata": {},
   "outputs": [
    {
     "data": {
      "text/plain": [
       "True"
      ]
     },
     "execution_count": 74,
     "metadata": {},
     "output_type": "execute_result"
    }
   ],
   "source": [
    "not f "
   ]
  },
  {
   "cell_type": "code",
   "execution_count": 75,
   "id": "6f1d0e6a-21d7-4a23-a680-4b0f79721702",
   "metadata": {},
   "outputs": [
    {
     "data": {
      "text/plain": [
       "False"
      ]
     },
     "execution_count": 75,
     "metadata": {},
     "output_type": "execute_result"
    }
   ],
   "source": [
    "not t "
   ]
  },
  {
   "cell_type": "markdown",
   "id": "cc33800a-284d-4b0c-884e-c472e544772a",
   "metadata": {},
   "source": [
    "## 4 Membership Operators"
   ]
  },
  {
   "cell_type": "markdown",
   "id": "833566a4-7996-4bfd-964c-726826f80cb7",
   "metadata": {},
   "source": [
    "### 4.1 in "
   ]
  },
  {
   "cell_type": "code",
   "execution_count": 78,
   "id": "8bd42ed1-31e1-4947-9c63-ef5f96a6a888",
   "metadata": {},
   "outputs": [],
   "source": [
    "listA = [1, 2, 3, 4]\n",
    "tupleA = ('a', 'b', 'c', 'd')"
   ]
  },
  {
   "cell_type": "code",
   "execution_count": 79,
   "id": "27b33b62-ae2e-4bed-85dd-bbc03693855d",
   "metadata": {},
   "outputs": [
    {
     "data": {
      "text/plain": [
       "True"
      ]
     },
     "execution_count": 79,
     "metadata": {},
     "output_type": "execute_result"
    }
   ],
   "source": [
    "1 in listA"
   ]
  },
  {
   "cell_type": "code",
   "execution_count": 80,
   "id": "b4fc60b1-8873-441c-9d30-de96ce9cae9e",
   "metadata": {},
   "outputs": [
    {
     "data": {
      "text/plain": [
       "False"
      ]
     },
     "execution_count": 80,
     "metadata": {},
     "output_type": "execute_result"
    }
   ],
   "source": [
    "1 in tupleA"
   ]
  },
  {
   "cell_type": "code",
   "execution_count": 82,
   "id": "c08dfe16-a0bb-4edd-abc6-65786fbab249",
   "metadata": {},
   "outputs": [],
   "source": [
    "dictA = {'name': 'John', 'age': 32}\n",
    "setA = {'Sushi', 'Salmon'}"
   ]
  },
  {
   "cell_type": "code",
   "execution_count": 86,
   "id": "8c1687a1-5cd0-430e-a39a-18b9504cbd04",
   "metadata": {},
   "outputs": [
    {
     "data": {
      "text/plain": [
       "True"
      ]
     },
     "execution_count": 86,
     "metadata": {},
     "output_type": "execute_result"
    }
   ],
   "source": [
    "'name' in dictA"
   ]
  },
  {
   "cell_type": "code",
   "execution_count": 84,
   "id": "dee981ca-542b-4365-a712-53baff93edf1",
   "metadata": {},
   "outputs": [
    {
     "data": {
      "text/plain": [
       "False"
      ]
     },
     "execution_count": 84,
     "metadata": {},
     "output_type": "execute_result"
    }
   ],
   "source": [
    "'Egg' in setA"
   ]
  },
  {
   "cell_type": "markdown",
   "id": "e8a1620c-f78d-4bb6-a87c-2558cf945e8d",
   "metadata": {},
   "source": [
    "### 4.2 not in "
   ]
  },
  {
   "cell_type": "code",
   "execution_count": 88,
   "id": "73b1ac98-f70f-4c4c-9edf-4b7217473758",
   "metadata": {},
   "outputs": [],
   "source": [
    "listA = [1, 2, 3, 4]\n",
    "tupleA = ('a', 'b', 'c', 'd')"
   ]
  },
  {
   "cell_type": "code",
   "execution_count": 89,
   "id": "bed46efe-f207-4efe-9ac9-0599c59f43f9",
   "metadata": {},
   "outputs": [
    {
     "data": {
      "text/plain": [
       "False"
      ]
     },
     "execution_count": 89,
     "metadata": {},
     "output_type": "execute_result"
    }
   ],
   "source": [
    "1 not in listA"
   ]
  },
  {
   "cell_type": "code",
   "execution_count": 90,
   "id": "9bfcb11b-e7b9-4353-9fbb-4e5530ceea30",
   "metadata": {},
   "outputs": [
    {
     "data": {
      "text/plain": [
       "True"
      ]
     },
     "execution_count": 90,
     "metadata": {},
     "output_type": "execute_result"
    }
   ],
   "source": [
    "1 not in tupleA"
   ]
  },
  {
   "cell_type": "code",
   "execution_count": 91,
   "id": "6a2b6a9b-4111-4f93-a278-7e1164de935e",
   "metadata": {},
   "outputs": [],
   "source": [
    "dictA = {'name': 'John', 'age' : 32}\n",
    "setA = {'Sushi', 'Salmon'}"
   ]
  },
  {
   "cell_type": "code",
   "execution_count": 92,
   "id": "d24fabef-4ef2-440f-b9b1-f24e3c47b5cd",
   "metadata": {},
   "outputs": [
    {
     "data": {
      "text/plain": [
       "False"
      ]
     },
     "execution_count": 92,
     "metadata": {},
     "output_type": "execute_result"
    }
   ],
   "source": [
    "'name' not in dictA"
   ]
  },
  {
   "cell_type": "code",
   "execution_count": 93,
   "id": "af06c0e9-6821-46a0-8d3f-4da7d0890249",
   "metadata": {},
   "outputs": [
    {
     "data": {
      "text/plain": [
       "True"
      ]
     },
     "execution_count": 93,
     "metadata": {},
     "output_type": "execute_result"
    }
   ],
   "source": [
    "'Egg' not in setA"
   ]
  },
  {
   "cell_type": "markdown",
   "id": "5c3e3291-ba79-41a6-97dd-09998e7c23d2",
   "metadata": {},
   "source": [
    "## 5. Operators Precedence"
   ]
  },
  {
   "cell_type": "markdown",
   "id": "d8a89253-be8b-449c-a0ca-80a59ce80e2d",
   "metadata": {},
   "source": [
    "#           ()\n",
    "#           **\n",
    "#        *,/,%,//\n",
    "#           +,-\n",
    "#        <=,<,>,>=\n",
    "#          ==,!=\n",
    "#           ="
   ]
  },
  {
   "cell_type": "code",
   "execution_count": null,
   "id": "53baa72b-4b8b-4015-a682-a4bbe8e7dc0b",
   "metadata": {},
   "outputs": [],
   "source": []
  }
 ],
 "metadata": {
  "kernelspec": {
   "display_name": "Python 3 (ipykernel)",
   "language": "python",
   "name": "python3"
  },
  "language_info": {
   "codemirror_mode": {
    "name": "ipython",
    "version": 3
   },
   "file_extension": ".py",
   "mimetype": "text/x-python",
   "name": "python",
   "nbconvert_exporter": "python",
   "pygments_lexer": "ipython3",
   "version": "3.11.7"
  }
 },
 "nbformat": 4,
 "nbformat_minor": 5
}
